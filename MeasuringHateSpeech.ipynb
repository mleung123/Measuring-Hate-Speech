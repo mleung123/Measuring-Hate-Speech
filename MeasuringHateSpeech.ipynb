{
  "nbformat": 4,
  "nbformat_minor": 0,
  "metadata": {
    "colab": {
      "provenance": [],
      "toc_visible": true
    },
    "kernelspec": {
      "name": "python3",
      "display_name": "Python 3"
    },
    "language_info": {
      "name": "python"
    }
  },
  "cells": [
    {
      "cell_type": "code",
      "execution_count": 26,
      "metadata": {
        "id": "r5sS7WNBanXK",
        "colab": {
          "base_uri": "https://localhost:8080/"
        },
        "outputId": "d1062566-892c-493f-e2fa-071597a18f7f"
      },
      "outputs": [
        {
          "output_type": "stream",
          "name": "stderr",
          "text": [
            "[nltk_data] Downloading package stopwords to /root/nltk_data...\n",
            "[nltk_data]   Package stopwords is already up-to-date!\n",
            "[nltk_data] Downloading package punkt to /root/nltk_data...\n",
            "[nltk_data]   Package punkt is already up-to-date!\n"
          ]
        }
      ],
      "source": [
        "import warnings   # We will turn of the future warnings that xgboost gives us\n",
        "warnings.simplefilter(action='ignore', category=FutureWarning)\n",
        "import xgboost as xgb\n",
        "import pandas as pd\n",
        "import numpy as np\n",
        "import matplotlib.pyplot as plt\n",
        "import sklearn\n",
        "import nltk\n",
        "import torch\n",
        "import torchvision\n",
        "import torchtext\n",
        "import re\n",
        "from sklearn.ensemble import AdaBoostClassifier\n",
        "from sklearn.model_selection import cross_val_score\n",
        "from sklearn.preprocessing import OneHotEncoder\n",
        "from re import findall, sub\n",
        "\n",
        "nltk.download(\"stopwords\")\n",
        "nltk.download('punkt')\n",
        "from nltk.corpus import stopwords\n",
        "\n",
        "from sklearn.ensemble import VotingClassifier\n",
        "from sklearn.ensemble import VotingRegressor\n",
        "from sklearn.svm import SVC\n",
        "from sklearn.tree import DecisionTreeClassifier\n",
        "from sklearn.tree import DecisionTreeRegressor\n",
        "from sklearn.neighbors import KNeighborsClassifier\n",
        "from sklearn.neighbors import KNeighborsRegressor\n",
        "from sklearn.pipeline import Pipeline\n",
        "from sklearn.preprocessing import StandardScaler\n",
        "from sklearn.preprocessing import MinMaxScaler\n",
        "\n",
        "from sklearn.model_selection import GridSearchCV\n",
        "from sklearn.tree import plot_tree\n",
        "from sklearn.metrics import f1_score\n",
        "from sklearn.svm import SVR\n",
        "from sklearn.ensemble import StackingClassifier\n",
        "from sklearn.metrics import mean_squared_error\n",
        "from sklearn.ensemble import RandomForestClassifier\n",
        "from sklearn.metrics import mean_squared_error\n",
        "from sklearn.model_selection import train_test_split\n",
        "from pandas import get_dummies\n",
        "\n",
        "from torch import nn\n",
        "from torch.nn import functional\n",
        "from torch.utils.data import DataLoader, TensorDataset\n",
        "\n",
        "from torchtext.data import get_tokenizer\n"
      ]
    },
    {
      "cell_type": "code",
      "source": [
        "import datasets\n",
        "\n",
        "# loads the dataset from https://huggingface.co/datasets/ucberkeley-dlab/measuring-hate-speech.\n",
        "# the \"train\" split is the only split in the dataset, so we need to separate this.\n",
        "dataset = datasets.load_dataset('ucberkeley-dlab/measuring-hate-speech', split = 'train')\n",
        "\n",
        "df = dataset.to_pandas()\n",
        "df.describe()\n",
        "\n"
      ],
      "metadata": {
        "id": "aghKWHCsrii5",
        "outputId": "f4feb3bc-3d7a-4d16-c697-8356561bca63",
        "colab": {
          "base_uri": "https://localhost:8080/",
          "height": 350
        }
      },
      "execution_count": 27,
      "outputs": [
        {
          "output_type": "execute_result",
          "data": {
            "text/plain": [
              "          comment_id   annotator_id       platform      sentiment  \\\n",
              "count  135556.000000  135556.000000  135556.000000  135556.000000   \n",
              "mean    23530.416138    5567.097812       1.281352       2.954307   \n",
              "std     12387.194125    3230.508937       1.023542       1.231552   \n",
              "min         1.000000       1.000000       0.000000       0.000000   \n",
              "25%     18148.000000    2719.000000       0.000000       2.000000   \n",
              "50%     20052.000000    5602.500000       1.000000       3.000000   \n",
              "75%     32038.250000    8363.000000       2.000000       4.000000   \n",
              "max     50070.000000   11142.000000       3.000000       4.000000   \n",
              "\n",
              "             respect        insult      humiliate         status  \\\n",
              "count  135556.000000  135556.00000  135556.000000  135556.000000   \n",
              "mean        2.828875       2.56331       2.278638       2.698575   \n",
              "std         1.309548       1.38983       1.370876       0.898500   \n",
              "min         0.000000       0.00000       0.000000       0.000000   \n",
              "25%         2.000000       2.00000       1.000000       2.000000   \n",
              "50%         3.000000       3.00000       3.000000       3.000000   \n",
              "75%         4.000000       4.00000       3.000000       3.000000   \n",
              "max         4.000000       4.00000       4.000000       4.000000   \n",
              "\n",
              "          dehumanize       violence  ...     hatespeech  hate_speech_score  \\\n",
              "count  135556.000000  135556.000000  ...  135556.000000      135556.000000   \n",
              "mean        1.846211       1.052045  ...       0.744733          -0.567428   \n",
              "std         1.402372       1.345706  ...       0.932260           2.380003   \n",
              "min         0.000000       0.000000  ...       0.000000          -8.340000   \n",
              "25%         1.000000       0.000000  ...       0.000000          -2.330000   \n",
              "50%         2.000000       0.000000  ...       0.000000          -0.340000   \n",
              "75%         3.000000       2.000000  ...       2.000000           1.410000   \n",
              "max         4.000000       4.000000  ...       2.000000           6.300000   \n",
              "\n",
              "             infitms       outfitms  annotator_severity        std_err  \\\n",
              "count  135556.000000  135556.000000       135556.000000  135556.000000   \n",
              "mean        1.034322       1.001052           -0.018817       0.300588   \n",
              "std         0.496867       0.791943            0.487261       0.236380   \n",
              "min         0.100000       0.070000           -1.820000       0.020000   \n",
              "25%         0.710000       0.560000           -0.380000       0.030000   \n",
              "50%         0.960000       0.830000           -0.020000       0.340000   \n",
              "75%         1.300000       1.220000            0.350000       0.420000   \n",
              "max         5.900000       9.000000            1.360000       1.900000   \n",
              "\n",
              "       annotator_infitms  annotator_outfitms     hypothesis  annotator_age  \n",
              "count      135556.000000       135556.000000  135556.000000  135451.000000  \n",
              "mean            1.007158            1.011841       0.014589      37.910772  \n",
              "std             0.269876            0.675863       0.613006      11.641276  \n",
              "min             0.390000            0.280000      -1.578693      18.000000  \n",
              "25%             0.810000            0.670000      -0.341008      29.000000  \n",
              "50%             0.970000            0.850000       0.110405      35.000000  \n",
              "75%             1.170000            1.130000       0.449555      45.000000  \n",
              "max             2.010000            9.000000       0.987511      81.000000  \n",
              "\n",
              "[8 rows x 22 columns]"
            ],
            "text/html": [
              "\n",
              "  <div id=\"df-99c9b18d-e5ef-4444-85ca-6931b6171d10\" class=\"colab-df-container\">\n",
              "    <div>\n",
              "<style scoped>\n",
              "    .dataframe tbody tr th:only-of-type {\n",
              "        vertical-align: middle;\n",
              "    }\n",
              "\n",
              "    .dataframe tbody tr th {\n",
              "        vertical-align: top;\n",
              "    }\n",
              "\n",
              "    .dataframe thead th {\n",
              "        text-align: right;\n",
              "    }\n",
              "</style>\n",
              "<table border=\"1\" class=\"dataframe\">\n",
              "  <thead>\n",
              "    <tr style=\"text-align: right;\">\n",
              "      <th></th>\n",
              "      <th>comment_id</th>\n",
              "      <th>annotator_id</th>\n",
              "      <th>platform</th>\n",
              "      <th>sentiment</th>\n",
              "      <th>respect</th>\n",
              "      <th>insult</th>\n",
              "      <th>humiliate</th>\n",
              "      <th>status</th>\n",
              "      <th>dehumanize</th>\n",
              "      <th>violence</th>\n",
              "      <th>...</th>\n",
              "      <th>hatespeech</th>\n",
              "      <th>hate_speech_score</th>\n",
              "      <th>infitms</th>\n",
              "      <th>outfitms</th>\n",
              "      <th>annotator_severity</th>\n",
              "      <th>std_err</th>\n",
              "      <th>annotator_infitms</th>\n",
              "      <th>annotator_outfitms</th>\n",
              "      <th>hypothesis</th>\n",
              "      <th>annotator_age</th>\n",
              "    </tr>\n",
              "  </thead>\n",
              "  <tbody>\n",
              "    <tr>\n",
              "      <th>count</th>\n",
              "      <td>135556.000000</td>\n",
              "      <td>135556.000000</td>\n",
              "      <td>135556.000000</td>\n",
              "      <td>135556.000000</td>\n",
              "      <td>135556.000000</td>\n",
              "      <td>135556.00000</td>\n",
              "      <td>135556.000000</td>\n",
              "      <td>135556.000000</td>\n",
              "      <td>135556.000000</td>\n",
              "      <td>135556.000000</td>\n",
              "      <td>...</td>\n",
              "      <td>135556.000000</td>\n",
              "      <td>135556.000000</td>\n",
              "      <td>135556.000000</td>\n",
              "      <td>135556.000000</td>\n",
              "      <td>135556.000000</td>\n",
              "      <td>135556.000000</td>\n",
              "      <td>135556.000000</td>\n",
              "      <td>135556.000000</td>\n",
              "      <td>135556.000000</td>\n",
              "      <td>135451.000000</td>\n",
              "    </tr>\n",
              "    <tr>\n",
              "      <th>mean</th>\n",
              "      <td>23530.416138</td>\n",
              "      <td>5567.097812</td>\n",
              "      <td>1.281352</td>\n",
              "      <td>2.954307</td>\n",
              "      <td>2.828875</td>\n",
              "      <td>2.56331</td>\n",
              "      <td>2.278638</td>\n",
              "      <td>2.698575</td>\n",
              "      <td>1.846211</td>\n",
              "      <td>1.052045</td>\n",
              "      <td>...</td>\n",
              "      <td>0.744733</td>\n",
              "      <td>-0.567428</td>\n",
              "      <td>1.034322</td>\n",
              "      <td>1.001052</td>\n",
              "      <td>-0.018817</td>\n",
              "      <td>0.300588</td>\n",
              "      <td>1.007158</td>\n",
              "      <td>1.011841</td>\n",
              "      <td>0.014589</td>\n",
              "      <td>37.910772</td>\n",
              "    </tr>\n",
              "    <tr>\n",
              "      <th>std</th>\n",
              "      <td>12387.194125</td>\n",
              "      <td>3230.508937</td>\n",
              "      <td>1.023542</td>\n",
              "      <td>1.231552</td>\n",
              "      <td>1.309548</td>\n",
              "      <td>1.38983</td>\n",
              "      <td>1.370876</td>\n",
              "      <td>0.898500</td>\n",
              "      <td>1.402372</td>\n",
              "      <td>1.345706</td>\n",
              "      <td>...</td>\n",
              "      <td>0.932260</td>\n",
              "      <td>2.380003</td>\n",
              "      <td>0.496867</td>\n",
              "      <td>0.791943</td>\n",
              "      <td>0.487261</td>\n",
              "      <td>0.236380</td>\n",
              "      <td>0.269876</td>\n",
              "      <td>0.675863</td>\n",
              "      <td>0.613006</td>\n",
              "      <td>11.641276</td>\n",
              "    </tr>\n",
              "    <tr>\n",
              "      <th>min</th>\n",
              "      <td>1.000000</td>\n",
              "      <td>1.000000</td>\n",
              "      <td>0.000000</td>\n",
              "      <td>0.000000</td>\n",
              "      <td>0.000000</td>\n",
              "      <td>0.00000</td>\n",
              "      <td>0.000000</td>\n",
              "      <td>0.000000</td>\n",
              "      <td>0.000000</td>\n",
              "      <td>0.000000</td>\n",
              "      <td>...</td>\n",
              "      <td>0.000000</td>\n",
              "      <td>-8.340000</td>\n",
              "      <td>0.100000</td>\n",
              "      <td>0.070000</td>\n",
              "      <td>-1.820000</td>\n",
              "      <td>0.020000</td>\n",
              "      <td>0.390000</td>\n",
              "      <td>0.280000</td>\n",
              "      <td>-1.578693</td>\n",
              "      <td>18.000000</td>\n",
              "    </tr>\n",
              "    <tr>\n",
              "      <th>25%</th>\n",
              "      <td>18148.000000</td>\n",
              "      <td>2719.000000</td>\n",
              "      <td>0.000000</td>\n",
              "      <td>2.000000</td>\n",
              "      <td>2.000000</td>\n",
              "      <td>2.00000</td>\n",
              "      <td>1.000000</td>\n",
              "      <td>2.000000</td>\n",
              "      <td>1.000000</td>\n",
              "      <td>0.000000</td>\n",
              "      <td>...</td>\n",
              "      <td>0.000000</td>\n",
              "      <td>-2.330000</td>\n",
              "      <td>0.710000</td>\n",
              "      <td>0.560000</td>\n",
              "      <td>-0.380000</td>\n",
              "      <td>0.030000</td>\n",
              "      <td>0.810000</td>\n",
              "      <td>0.670000</td>\n",
              "      <td>-0.341008</td>\n",
              "      <td>29.000000</td>\n",
              "    </tr>\n",
              "    <tr>\n",
              "      <th>50%</th>\n",
              "      <td>20052.000000</td>\n",
              "      <td>5602.500000</td>\n",
              "      <td>1.000000</td>\n",
              "      <td>3.000000</td>\n",
              "      <td>3.000000</td>\n",
              "      <td>3.00000</td>\n",
              "      <td>3.000000</td>\n",
              "      <td>3.000000</td>\n",
              "      <td>2.000000</td>\n",
              "      <td>0.000000</td>\n",
              "      <td>...</td>\n",
              "      <td>0.000000</td>\n",
              "      <td>-0.340000</td>\n",
              "      <td>0.960000</td>\n",
              "      <td>0.830000</td>\n",
              "      <td>-0.020000</td>\n",
              "      <td>0.340000</td>\n",
              "      <td>0.970000</td>\n",
              "      <td>0.850000</td>\n",
              "      <td>0.110405</td>\n",
              "      <td>35.000000</td>\n",
              "    </tr>\n",
              "    <tr>\n",
              "      <th>75%</th>\n",
              "      <td>32038.250000</td>\n",
              "      <td>8363.000000</td>\n",
              "      <td>2.000000</td>\n",
              "      <td>4.000000</td>\n",
              "      <td>4.000000</td>\n",
              "      <td>4.00000</td>\n",
              "      <td>3.000000</td>\n",
              "      <td>3.000000</td>\n",
              "      <td>3.000000</td>\n",
              "      <td>2.000000</td>\n",
              "      <td>...</td>\n",
              "      <td>2.000000</td>\n",
              "      <td>1.410000</td>\n",
              "      <td>1.300000</td>\n",
              "      <td>1.220000</td>\n",
              "      <td>0.350000</td>\n",
              "      <td>0.420000</td>\n",
              "      <td>1.170000</td>\n",
              "      <td>1.130000</td>\n",
              "      <td>0.449555</td>\n",
              "      <td>45.000000</td>\n",
              "    </tr>\n",
              "    <tr>\n",
              "      <th>max</th>\n",
              "      <td>50070.000000</td>\n",
              "      <td>11142.000000</td>\n",
              "      <td>3.000000</td>\n",
              "      <td>4.000000</td>\n",
              "      <td>4.000000</td>\n",
              "      <td>4.00000</td>\n",
              "      <td>4.000000</td>\n",
              "      <td>4.000000</td>\n",
              "      <td>4.000000</td>\n",
              "      <td>4.000000</td>\n",
              "      <td>...</td>\n",
              "      <td>2.000000</td>\n",
              "      <td>6.300000</td>\n",
              "      <td>5.900000</td>\n",
              "      <td>9.000000</td>\n",
              "      <td>1.360000</td>\n",
              "      <td>1.900000</td>\n",
              "      <td>2.010000</td>\n",
              "      <td>9.000000</td>\n",
              "      <td>0.987511</td>\n",
              "      <td>81.000000</td>\n",
              "    </tr>\n",
              "  </tbody>\n",
              "</table>\n",
              "<p>8 rows × 22 columns</p>\n",
              "</div>\n",
              "    <div class=\"colab-df-buttons\">\n",
              "\n",
              "  <div class=\"colab-df-container\">\n",
              "    <button class=\"colab-df-convert\" onclick=\"convertToInteractive('df-99c9b18d-e5ef-4444-85ca-6931b6171d10')\"\n",
              "            title=\"Convert this dataframe to an interactive table.\"\n",
              "            style=\"display:none;\">\n",
              "\n",
              "  <svg xmlns=\"http://www.w3.org/2000/svg\" height=\"24px\" viewBox=\"0 -960 960 960\">\n",
              "    <path d=\"M120-120v-720h720v720H120Zm60-500h600v-160H180v160Zm220 220h160v-160H400v160Zm0 220h160v-160H400v160ZM180-400h160v-160H180v160Zm440 0h160v-160H620v160ZM180-180h160v-160H180v160Zm440 0h160v-160H620v160Z\"/>\n",
              "  </svg>\n",
              "    </button>\n",
              "\n",
              "  <style>\n",
              "    .colab-df-container {\n",
              "      display:flex;\n",
              "      gap: 12px;\n",
              "    }\n",
              "\n",
              "    .colab-df-convert {\n",
              "      background-color: #E8F0FE;\n",
              "      border: none;\n",
              "      border-radius: 50%;\n",
              "      cursor: pointer;\n",
              "      display: none;\n",
              "      fill: #1967D2;\n",
              "      height: 32px;\n",
              "      padding: 0 0 0 0;\n",
              "      width: 32px;\n",
              "    }\n",
              "\n",
              "    .colab-df-convert:hover {\n",
              "      background-color: #E2EBFA;\n",
              "      box-shadow: 0px 1px 2px rgba(60, 64, 67, 0.3), 0px 1px 3px 1px rgba(60, 64, 67, 0.15);\n",
              "      fill: #174EA6;\n",
              "    }\n",
              "\n",
              "    .colab-df-buttons div {\n",
              "      margin-bottom: 4px;\n",
              "    }\n",
              "\n",
              "    [theme=dark] .colab-df-convert {\n",
              "      background-color: #3B4455;\n",
              "      fill: #D2E3FC;\n",
              "    }\n",
              "\n",
              "    [theme=dark] .colab-df-convert:hover {\n",
              "      background-color: #434B5C;\n",
              "      box-shadow: 0px 1px 3px 1px rgba(0, 0, 0, 0.15);\n",
              "      filter: drop-shadow(0px 1px 2px rgba(0, 0, 0, 0.3));\n",
              "      fill: #FFFFFF;\n",
              "    }\n",
              "  </style>\n",
              "\n",
              "    <script>\n",
              "      const buttonEl =\n",
              "        document.querySelector('#df-99c9b18d-e5ef-4444-85ca-6931b6171d10 button.colab-df-convert');\n",
              "      buttonEl.style.display =\n",
              "        google.colab.kernel.accessAllowed ? 'block' : 'none';\n",
              "\n",
              "      async function convertToInteractive(key) {\n",
              "        const element = document.querySelector('#df-99c9b18d-e5ef-4444-85ca-6931b6171d10');\n",
              "        const dataTable =\n",
              "          await google.colab.kernel.invokeFunction('convertToInteractive',\n",
              "                                                    [key], {});\n",
              "        if (!dataTable) return;\n",
              "\n",
              "        const docLinkHtml = 'Like what you see? Visit the ' +\n",
              "          '<a target=\"_blank\" href=https://colab.research.google.com/notebooks/data_table.ipynb>data table notebook</a>'\n",
              "          + ' to learn more about interactive tables.';\n",
              "        element.innerHTML = '';\n",
              "        dataTable['output_type'] = 'display_data';\n",
              "        await google.colab.output.renderOutput(dataTable, element);\n",
              "        const docLink = document.createElement('div');\n",
              "        docLink.innerHTML = docLinkHtml;\n",
              "        element.appendChild(docLink);\n",
              "      }\n",
              "    </script>\n",
              "  </div>\n",
              "\n",
              "\n",
              "<div id=\"df-cf9fe565-0ad5-45cf-9e9b-236d27f8c285\">\n",
              "  <button class=\"colab-df-quickchart\" onclick=\"quickchart('df-cf9fe565-0ad5-45cf-9e9b-236d27f8c285')\"\n",
              "            title=\"Suggest charts\"\n",
              "            style=\"display:none;\">\n",
              "\n",
              "<svg xmlns=\"http://www.w3.org/2000/svg\" height=\"24px\"viewBox=\"0 0 24 24\"\n",
              "     width=\"24px\">\n",
              "    <g>\n",
              "        <path d=\"M19 3H5c-1.1 0-2 .9-2 2v14c0 1.1.9 2 2 2h14c1.1 0 2-.9 2-2V5c0-1.1-.9-2-2-2zM9 17H7v-7h2v7zm4 0h-2V7h2v10zm4 0h-2v-4h2v4z\"/>\n",
              "    </g>\n",
              "</svg>\n",
              "  </button>\n",
              "\n",
              "<style>\n",
              "  .colab-df-quickchart {\n",
              "      --bg-color: #E8F0FE;\n",
              "      --fill-color: #1967D2;\n",
              "      --hover-bg-color: #E2EBFA;\n",
              "      --hover-fill-color: #174EA6;\n",
              "      --disabled-fill-color: #AAA;\n",
              "      --disabled-bg-color: #DDD;\n",
              "  }\n",
              "\n",
              "  [theme=dark] .colab-df-quickchart {\n",
              "      --bg-color: #3B4455;\n",
              "      --fill-color: #D2E3FC;\n",
              "      --hover-bg-color: #434B5C;\n",
              "      --hover-fill-color: #FFFFFF;\n",
              "      --disabled-bg-color: #3B4455;\n",
              "      --disabled-fill-color: #666;\n",
              "  }\n",
              "\n",
              "  .colab-df-quickchart {\n",
              "    background-color: var(--bg-color);\n",
              "    border: none;\n",
              "    border-radius: 50%;\n",
              "    cursor: pointer;\n",
              "    display: none;\n",
              "    fill: var(--fill-color);\n",
              "    height: 32px;\n",
              "    padding: 0;\n",
              "    width: 32px;\n",
              "  }\n",
              "\n",
              "  .colab-df-quickchart:hover {\n",
              "    background-color: var(--hover-bg-color);\n",
              "    box-shadow: 0 1px 2px rgba(60, 64, 67, 0.3), 0 1px 3px 1px rgba(60, 64, 67, 0.15);\n",
              "    fill: var(--button-hover-fill-color);\n",
              "  }\n",
              "\n",
              "  .colab-df-quickchart-complete:disabled,\n",
              "  .colab-df-quickchart-complete:disabled:hover {\n",
              "    background-color: var(--disabled-bg-color);\n",
              "    fill: var(--disabled-fill-color);\n",
              "    box-shadow: none;\n",
              "  }\n",
              "\n",
              "  .colab-df-spinner {\n",
              "    border: 2px solid var(--fill-color);\n",
              "    border-color: transparent;\n",
              "    border-bottom-color: var(--fill-color);\n",
              "    animation:\n",
              "      spin 1s steps(1) infinite;\n",
              "  }\n",
              "\n",
              "  @keyframes spin {\n",
              "    0% {\n",
              "      border-color: transparent;\n",
              "      border-bottom-color: var(--fill-color);\n",
              "      border-left-color: var(--fill-color);\n",
              "    }\n",
              "    20% {\n",
              "      border-color: transparent;\n",
              "      border-left-color: var(--fill-color);\n",
              "      border-top-color: var(--fill-color);\n",
              "    }\n",
              "    30% {\n",
              "      border-color: transparent;\n",
              "      border-left-color: var(--fill-color);\n",
              "      border-top-color: var(--fill-color);\n",
              "      border-right-color: var(--fill-color);\n",
              "    }\n",
              "    40% {\n",
              "      border-color: transparent;\n",
              "      border-right-color: var(--fill-color);\n",
              "      border-top-color: var(--fill-color);\n",
              "    }\n",
              "    60% {\n",
              "      border-color: transparent;\n",
              "      border-right-color: var(--fill-color);\n",
              "    }\n",
              "    80% {\n",
              "      border-color: transparent;\n",
              "      border-right-color: var(--fill-color);\n",
              "      border-bottom-color: var(--fill-color);\n",
              "    }\n",
              "    90% {\n",
              "      border-color: transparent;\n",
              "      border-bottom-color: var(--fill-color);\n",
              "    }\n",
              "  }\n",
              "</style>\n",
              "\n",
              "  <script>\n",
              "    async function quickchart(key) {\n",
              "      const quickchartButtonEl =\n",
              "        document.querySelector('#' + key + ' button');\n",
              "      quickchartButtonEl.disabled = true;  // To prevent multiple clicks.\n",
              "      quickchartButtonEl.classList.add('colab-df-spinner');\n",
              "      try {\n",
              "        const charts = await google.colab.kernel.invokeFunction(\n",
              "            'suggestCharts', [key], {});\n",
              "      } catch (error) {\n",
              "        console.error('Error during call to suggestCharts:', error);\n",
              "      }\n",
              "      quickchartButtonEl.classList.remove('colab-df-spinner');\n",
              "      quickchartButtonEl.classList.add('colab-df-quickchart-complete');\n",
              "    }\n",
              "    (() => {\n",
              "      let quickchartButtonEl =\n",
              "        document.querySelector('#df-cf9fe565-0ad5-45cf-9e9b-236d27f8c285 button');\n",
              "      quickchartButtonEl.style.display =\n",
              "        google.colab.kernel.accessAllowed ? 'block' : 'none';\n",
              "    })();\n",
              "  </script>\n",
              "</div>\n",
              "\n",
              "    </div>\n",
              "  </div>\n"
            ],
            "application/vnd.google.colaboratory.intrinsic+json": {
              "type": "dataframe"
            }
          },
          "metadata": {},
          "execution_count": 27
        }
      ]
    },
    {
      "cell_type": "markdown",
      "source": [
        "# Pre-Processing"
      ],
      "metadata": {
        "id": "7JWBtgw11PtF"
      }
    },
    {
      "cell_type": "code",
      "source": [
        "#Splitting\n",
        "train, test = train_test_split(df, test_size=.5, random_state=1)\n",
        "\n",
        "# Currently only using hate_speech_score. Might predict more in later iterations.\n",
        "train_y = train['hate_speech_score']\n",
        "train_X = train['text']\n",
        "\n",
        "test_y = test['hate_speech_score']\n",
        "test_X = test['text']\n"
      ],
      "metadata": {
        "id": "qlGSjZBmv92V"
      },
      "execution_count": 28,
      "outputs": []
    },
    {
      "cell_type": "code",
      "source": [
        "print(train_X.shape)"
      ],
      "metadata": {
        "colab": {
          "base_uri": "https://localhost:8080/"
        },
        "id": "6O3vdr9JMybs",
        "outputId": "24c97552-8905-481f-a5d2-a697bfe57386"
      },
      "execution_count": 29,
      "outputs": [
        {
          "output_type": "stream",
          "name": "stdout",
          "text": [
            "(67778,)\n"
          ]
        }
      ]
    },
    {
      "cell_type": "code",
      "source": [
        "stop_words = set(stopwords.words('english'))\n",
        "\n",
        "def remove_stop(text):\n",
        "    word_token = nltk.word_tokenize(text)\n",
        "    for t in word_token:\n",
        "      if t in stop_words:\n",
        "        word_token.remove(t)\n",
        "    return \" \".join(word_token)\n",
        "\n",
        "\n",
        "def remove_tags(text):\n",
        "    expression = r\"@([^ ]+)\"\n",
        "    text = re.sub(expression, \"@\", text)\n",
        "\n",
        "    return text\n",
        "\n",
        "\n",
        "def remove_non_printable(text):\n",
        "    expression = r'[^\\x20-\\x7E]'\n",
        "    text = re.sub(expression, \"~\", text)\n",
        "\n",
        "    return text\n",
        "\n"
      ],
      "metadata": {
        "id": "EmLOYO_BNWHf"
      },
      "execution_count": 30,
      "outputs": []
    },
    {
      "cell_type": "code",
      "source": [
        "train_X = train_X.apply(remove_stop)\n",
        "train_X = train_X.apply(remove_tags)\n",
        "train_X = train_X.apply(remove_non_printable)\n",
        "\n",
        "test_X = test_X.apply(remove_stop)\n",
        "test_X = test_X.apply(remove_tags)\n",
        "test_X = test_X.apply(remove_non_printable)\n"
      ],
      "metadata": {
        "id": "J-FyyzpyZ4Sp"
      },
      "execution_count": 31,
      "outputs": []
    },
    {
      "cell_type": "code",
      "source": [
        "classifier_train_y = train_y\n",
        "classifier_train_y[classifier_train_y > 0] = 1\n",
        "\n",
        "classifier_train_y[classifier_train_y == 0] = 0\n",
        "classifier_train_y[classifier_train_y < 0] = 0\n",
        "classifier_train_y.value_counts()\n",
        "\n",
        "classifier_test_y = test_y\n",
        "classifier_test_y[classifier_test_y > 0] = 1\n",
        "\n",
        "classifier_test_y[classifier_test_y == 0] = 0\n",
        "classifier_test_y[classifier_test_y < 0] = 0"
      ],
      "metadata": {
        "colab": {
          "base_uri": "https://localhost:8080/"
        },
        "id": "ZaAtLUfoOTyB",
        "outputId": "c25ab30a-223b-4231-ed34-e0b749218f4f"
      },
      "execution_count": 32,
      "outputs": [
        {
          "output_type": "stream",
          "name": "stderr",
          "text": [
            "<ipython-input-32-1b2ebc1d1f56>:2: SettingWithCopyWarning: \n",
            "A value is trying to be set on a copy of a slice from a DataFrame\n",
            "\n",
            "See the caveats in the documentation: https://pandas.pydata.org/pandas-docs/stable/user_guide/indexing.html#returning-a-view-versus-a-copy\n",
            "  classifier_train_y[classifier_train_y > 0] = 1\n",
            "<ipython-input-32-1b2ebc1d1f56>:4: SettingWithCopyWarning: \n",
            "A value is trying to be set on a copy of a slice from a DataFrame\n",
            "\n",
            "See the caveats in the documentation: https://pandas.pydata.org/pandas-docs/stable/user_guide/indexing.html#returning-a-view-versus-a-copy\n",
            "  classifier_train_y[classifier_train_y == 0] = 0\n",
            "<ipython-input-32-1b2ebc1d1f56>:5: SettingWithCopyWarning: \n",
            "A value is trying to be set on a copy of a slice from a DataFrame\n",
            "\n",
            "See the caveats in the documentation: https://pandas.pydata.org/pandas-docs/stable/user_guide/indexing.html#returning-a-view-versus-a-copy\n",
            "  classifier_train_y[classifier_train_y < 0] = 0\n",
            "<ipython-input-32-1b2ebc1d1f56>:9: SettingWithCopyWarning: \n",
            "A value is trying to be set on a copy of a slice from a DataFrame\n",
            "\n",
            "See the caveats in the documentation: https://pandas.pydata.org/pandas-docs/stable/user_guide/indexing.html#returning-a-view-versus-a-copy\n",
            "  classifier_test_y[classifier_test_y > 0] = 1\n",
            "<ipython-input-32-1b2ebc1d1f56>:11: SettingWithCopyWarning: \n",
            "A value is trying to be set on a copy of a slice from a DataFrame\n",
            "\n",
            "See the caveats in the documentation: https://pandas.pydata.org/pandas-docs/stable/user_guide/indexing.html#returning-a-view-versus-a-copy\n",
            "  classifier_test_y[classifier_test_y == 0] = 0\n",
            "<ipython-input-32-1b2ebc1d1f56>:12: SettingWithCopyWarning: \n",
            "A value is trying to be set on a copy of a slice from a DataFrame\n",
            "\n",
            "See the caveats in the documentation: https://pandas.pydata.org/pandas-docs/stable/user_guide/indexing.html#returning-a-view-versus-a-copy\n",
            "  classifier_test_y[classifier_test_y < 0] = 0\n"
          ]
        }
      ]
    },
    {
      "cell_type": "markdown",
      "source": [
        "# Feature Engineering Functions"
      ],
      "metadata": {
        "id": "p4cDUEqIq5Vx"
      }
    },
    {
      "cell_type": "code",
      "source": [
        "\n",
        "## Function to measure percentage of numbers\n",
        "def num_prop(text):\n",
        "  return sum(map(str.isdigit, text))/len(text)\n",
        "\n",
        "def non_alphnum_prop(text):\n",
        "  text = text.replace(\" \", \"\")\n",
        "  num_chars = len(text)\n",
        "  if num_chars == 0:\n",
        "    return 0\n",
        "\n",
        "  count = sum(1 for char in text if not char.isalnum())\n",
        "  return count / num_chars\n",
        "## Function to count exclamation marks\n",
        "def num_exclamation_points(text):\n",
        "  return text.count('!')\n",
        "\n",
        "def num_tags(text):\n",
        "  return text.count('@')\n",
        "\n",
        "def has_url(text):\n",
        "  return \"url\" in text.lower()\n",
        "\n",
        "def length(text):\n",
        "  return len(text.split())\n",
        "\n",
        "\n",
        "def common_words(text):\n",
        "  keywords = []\n",
        "  text = text.lower().split()\n",
        "  count =0\n",
        "  for key in keywords:\n",
        "    for word in text:\n",
        "      if key in word:\n",
        "        count +=1\n",
        "  return count\n",
        "\n",
        "\n",
        "def capital_percent(text):\n",
        "  return len(findall(r'[A-Z]', text))/len(text)\n",
        "\n",
        "def num_count(text):\n",
        "\n",
        "  words = text.split()\n",
        "  count = 0\n",
        "  for word in words:\n",
        "    count +=any(char.isdigit() for char in word)\n",
        "  return count\n",
        "\n",
        "\n",
        "def common_words(text):\n",
        "\n",
        "  words = text.split()\n",
        "  count = 0\n",
        "  for word in words:\n",
        "    count +=any(char.isdigit() for char in word)\n",
        "  return count\n",
        "\n",
        "\n",
        "from torchtext.data.utils import get_tokenizer\n",
        "from collections import Counter\n",
        "from torchtext.vocab import Vocab\n",
        "\n",
        "tokenizer = get_tokenizer(\"basic_english\")\n",
        "\n",
        "def generate_counter(tokenizer, data):\n",
        "  counter = Counter()\n",
        "\n",
        "  for text in data:\n",
        "      counter.update(tokenizer(text))\n",
        "  return counter\n",
        "\n",
        "counter = generate_counter(tokenizer, train_X)\n",
        "vocab = Vocab(counter)\n",
        "\n",
        "\n"
      ],
      "metadata": {
        "id": "8rIfE17Mri4e"
      },
      "execution_count": 33,
      "outputs": []
    },
    {
      "cell_type": "code",
      "source": [
        "counter.most_common(40)"
      ],
      "metadata": {
        "colab": {
          "base_uri": "https://localhost:8080/"
        },
        "id": "7oPAI773wbVV",
        "outputId": "b23dae15-96a5-4bb5-da86-025db1ffefe0"
      },
      "execution_count": 34,
      "outputs": [
        {
          "output_type": "execute_result",
          "data": {
            "text/plain": [
              "[('.', 114231),\n",
              " (\"'\", 59885),\n",
              " (',', 51000),\n",
              " ('the', 32600),\n",
              " ('i', 28362),\n",
              " ('!', 26218),\n",
              " ('you', 19584),\n",
              " ('a', 17790),\n",
              " ('s', 15846),\n",
              " ('@', 13483),\n",
              " ('n', 13344),\n",
              " ('t', 13044),\n",
              " ('?', 12906),\n",
              " ('people', 11659),\n",
              " ('#', 10709),\n",
              " ('url', 9824),\n",
              " ('be', 9417),\n",
              " ('they', 8580),\n",
              " ('women', 8212),\n",
              " ('it', 8184),\n",
              " ('like', 7959),\n",
              " ('fuck', 7277),\n",
              " ('fucking', 7099),\n",
              " ('that', 6922),\n",
              " ('to', 6735),\n",
              " ('get', 6643),\n",
              " ('``', 6387),\n",
              " ('white', 6209),\n",
              " ('this', 5922),\n",
              " ('and', 5900),\n",
              " ('we', 5734),\n",
              " ('of', 5528),\n",
              " ('all', 5429),\n",
              " ('are', 5394),\n",
              " ('your', 5007),\n",
              " ('go', 4926),\n",
              " ('no', 4864),\n",
              " ('black', 4812),\n",
              " ('in', 4763),\n",
              " ('hate', 4682)]"
            ]
          },
          "metadata": {},
          "execution_count": 34
        }
      ]
    },
    {
      "cell_type": "code",
      "source": [
        "hate = train_X.loc[train_y >= 0.5]\n",
        "support = train_X.loc[train_y <= -1]\n",
        "\n",
        "\n",
        "hate_counter=generate_counter(tokenizer, hate)\n",
        "support_counter = generate_counter(tokenizer, support)\n"
      ],
      "metadata": {
        "id": "2uWXgrEkq31z"
      },
      "execution_count": 35,
      "outputs": []
    },
    {
      "cell_type": "code",
      "source": [
        "hate_counter.most_common(40)"
      ],
      "metadata": {
        "colab": {
          "base_uri": "https://localhost:8080/"
        },
        "id": "NBL4m6x_xlW-",
        "outputId": "164d70e3-7a68-4ec4-96a7-12c0fe62f555"
      },
      "execution_count": 36,
      "outputs": [
        {
          "output_type": "execute_result",
          "data": {
            "text/plain": [
              "[('.', 49110),\n",
              " (',', 21343),\n",
              " (\"'\", 21281),\n",
              " ('!', 18784),\n",
              " ('the', 12345),\n",
              " ('you', 11349),\n",
              " ('i', 9125),\n",
              " ('a', 7145),\n",
              " ('fucking', 6263),\n",
              " ('fuck', 5800),\n",
              " ('@', 5357),\n",
              " ('s', 5259),\n",
              " ('?', 5227),\n",
              " ('they', 4834),\n",
              " ('n', 4716),\n",
              " ('be', 4604),\n",
              " ('t', 4569),\n",
              " ('people', 4261),\n",
              " ('of', 4033),\n",
              " ('#', 3951),\n",
              " ('hate', 3908),\n",
              " ('that', 3825),\n",
              " ('bitch', 3674),\n",
              " ('niggers', 3508),\n",
              " ('get', 3493),\n",
              " ('go', 3464),\n",
              " ('like', 3429),\n",
              " ('*', 3338),\n",
              " ('we', 3112),\n",
              " ('no', 2904),\n",
              " ('your', 2846),\n",
              " ('ll', 2752),\n",
              " ('stupid', 2678),\n",
              " ('this', 2591),\n",
              " ('all', 2589),\n",
              " ('and', 2555),\n",
              " ('to', 2551),\n",
              " ('kill', 2487),\n",
              " ('url', 2336),\n",
              " ('back', 2329)]"
            ]
          },
          "metadata": {},
          "execution_count": 36
        }
      ]
    },
    {
      "cell_type": "code",
      "source": [
        "support_counter.most_common(40)"
      ],
      "metadata": {
        "colab": {
          "base_uri": "https://localhost:8080/"
        },
        "id": "E8-DAOmFdsWP",
        "outputId": "a0613880-4087-4c7d-beab-4934abd94528"
      },
      "execution_count": 37,
      "outputs": [
        {
          "output_type": "execute_result",
          "data": {
            "text/plain": [
              "[]"
            ]
          },
          "metadata": {},
          "execution_count": 37
        }
      ]
    },
    {
      "cell_type": "code",
      "source": [
        "#find the words that are common to one counter but not the other\n",
        "def most_frequent_unique(c1, c2):\n",
        "    combined_counter = c1.copy()\n",
        "    combined_counter.update(c2)\n",
        "\n",
        "    # Calculate the difference between counts of each entry\n",
        "    difference_counter = Counter()\n",
        "    for key, count in combined_counter.items():\n",
        "        difference_counter[key] = c1[key] - c2[key]\n",
        "\n",
        "    # Find the highest positive differences\n",
        "    return difference_counter\n",
        "\n",
        "common_hate = most_frequent_unique(hate_counter, support_counter)\n",
        "\n",
        "common_hate_top = common_hate.most_common(40)\n",
        "\n",
        "common_support = most_frequent_unique(support_counter, hate_counter)\n",
        "\n",
        "common_support_top = common_support.most_common(40)\n",
        "\n",
        "\n",
        "# how many words from common_hate_top are in the text\n",
        "def hate_count(string):\n",
        "    words = string.split()\n",
        "    count = 0\n",
        "\n",
        "    for entry in common_hate_top:\n",
        "        if entry[0] in words:\n",
        "            count += 1\n",
        "\n",
        "\n",
        "    return count\n",
        "def num_tags(string):\n",
        "    return string.count('#')\n",
        "\n",
        "def num_mentions(string):\n",
        "    return string.count('@')\n",
        "\n",
        "def support_count(string):\n",
        "    words = string.split()\n",
        "    count = 0\n",
        "\n",
        "    for entry in common_support_top:\n",
        "        if entry[0] in words:\n",
        "            count += 1\n",
        "\n",
        "    return count\n"
      ],
      "metadata": {
        "id": "I2bTGUG3xrZn"
      },
      "execution_count": 38,
      "outputs": []
    },
    {
      "cell_type": "code",
      "source": [
        "common_support.most_common(40)"
      ],
      "metadata": {
        "colab": {
          "base_uri": "https://localhost:8080/"
        },
        "id": "TA5n0bVAzgcb",
        "outputId": "84f8b198-4b04-4020-fefc-611632a37b8e"
      },
      "execution_count": 39,
      "outputs": [
        {
          "output_type": "execute_result",
          "data": {
            "text/plain": [
              "[('tillman', -1),\n",
              " ('~pretty', -1),\n",
              " ('rader', -1),\n",
              " ('lilyrader', -1),\n",
              " ('snowbunny', -1),\n",
              " ('bbcslut', -1),\n",
              " ('retweets', -1),\n",
              " ('reblogging', -1),\n",
              " ('xenophobes', -1),\n",
              " ('hellbent', -1),\n",
              " ('marvlus', -1),\n",
              " ('bredfish', -1),\n",
              " ('bcuz', -1),\n",
              " ('repressed', -1),\n",
              " ('butnfor', -1),\n",
              " ('slayer', -1),\n",
              " ('hispanization', -1),\n",
              " ('jeskaamariee', -1),\n",
              " ('runningbyour', -1),\n",
              " ('dirtbag', -1),\n",
              " ('oj', -1),\n",
              " ('barkley', -1),\n",
              " ('mines', -1),\n",
              " ('latnios', -1),\n",
              " ('easu', -1),\n",
              " ('commonly', -1),\n",
              " ('3=5', -1),\n",
              " ('autymnnn_', -1),\n",
              " ('hennessyyk', -1),\n",
              " ('emaani', -1),\n",
              " ('reverted', -1),\n",
              " ('ameen', -1),\n",
              " ('bitchmarck', -1),\n",
              " ('banners', -1),\n",
              " ('territory', -1),\n",
              " ('arrival', -1),\n",
              " ('saviors', -1),\n",
              " ('introduced', -1),\n",
              " ('kaffirs', -1),\n",
              " ('politico', -1)]"
            ]
          },
          "metadata": {},
          "execution_count": 39
        }
      ]
    },
    {
      "cell_type": "markdown",
      "source": [
        "# Non-Deep Learning Models."
      ],
      "metadata": {
        "id": "kN8D1SHqavzH"
      }
    },
    {
      "cell_type": "code",
      "source": [
        "final = {\n",
        "     'has_url': train_X.apply(has_url),\n",
        "     'num_mentions': train_X.apply(num_mentions),\n",
        "\n",
        "     'num_count': train_X.apply(num_count),\n",
        "     'non_alphnum_prop': train_X.apply(non_alphnum_prop),\n",
        "     'common_words': train_X.apply(common_words),\n",
        "     'prop_cap': train_X.apply(capital_percent),\n",
        "     'num_tags': train_X.apply(num_tags),\n",
        "     'support_count': train_X.apply(support_count),\n",
        "     'h_count': train_X.apply(hate_count),\n",
        "     'length': train_X.apply(length),\n",
        "\n",
        "     }\n",
        "\n",
        "final_X = pd.DataFrame(final)\n"
      ],
      "metadata": {
        "id": "VObDZHfZF4L5"
      },
      "execution_count": 40,
      "outputs": []
    },
    {
      "cell_type": "code",
      "source": [
        "final_test_X = final = {\n",
        "     'has_url': test_X.apply(has_url),\n",
        "     'num_mentions': test_X.apply(num_mentions),\n",
        "     'num_count': test_X.apply(num_count),\n",
        "     'non_alphnum_prop': test_X.apply(non_alphnum_prop),\n",
        "     'common_words': test_X.apply(common_words),\n",
        "     'prop_cap': test_X.apply(capital_percent),\n",
        "     'num_tags': test_X.apply(num_tags),\n",
        "     'support_count': test_X.apply(support_count),\n",
        "     'h_count': test_X.apply(hate_count),\n",
        "     'length': test_X.apply(length),\n",
        "\n",
        "}\n",
        "\n",
        "final_test_X = pd.DataFrame(final_test_X)"
      ],
      "metadata": {
        "id": "U5OHZP-TYfIc"
      },
      "execution_count": 41,
      "outputs": []
    },
    {
      "cell_type": "markdown",
      "source": [
        "# Classifiers\n"
      ],
      "metadata": {
        "id": "0e1ZEvQaV9Lo"
      }
    },
    {
      "cell_type": "code",
      "source": [
        "from sklearn.metrics import accuracy_score\n",
        "\n",
        "final_pipe_1 = Pipeline([\n",
        "    (\"model\", DecisionTreeClassifier())\n",
        "])\n",
        "\n",
        "params_1 = {'model__max_depth': [4,5,6,7,8],\n",
        "          'model__min_samples_split':[2,5,10]\n",
        "         }\n",
        "\n",
        "## Perform the grid search\n",
        "grid_1 = GridSearchCV(final_pipe_1, param_grid=params_1, cv=5, scoring = 'accuracy').fit(final_X, classifier_train_y)\n",
        "print(grid_1.best_estimator_)\n",
        "print(grid_1.best_score_)\n",
        "\n",
        "test_preds = grid_1.predict(final_test_X)\n",
        "print(accuracy_score(test_preds, classifier_test_y))"
      ],
      "metadata": {
        "id": "TqKfUyowWIIt"
      },
      "execution_count": null,
      "outputs": []
    },
    {
      "cell_type": "code",
      "source": [
        "final_pipe_2 = Pipeline([\n",
        "  ('scaler', MinMaxScaler()),\n",
        "  ('model', xgb.XGBClassifier(eval_metric='error', use_label_encoder=False))\n",
        "])\n",
        "\n",
        "\n",
        "params_2 = {'model__learning_rate': [0.3,0.5, 0.7],\n",
        "           'model__max_depth': [2, 4,6,8],\n",
        "\n",
        "           }\n",
        "\n",
        "## Perform the grid search\n",
        "grid_2 = GridSearchCV(final_pipe_2, param_grid=params_2, cv=5, scoring = 'accuracy').fit(final_X, classifier_train_y)\n",
        "print(grid_2.best_estimator_)\n",
        "print(grid_2.best_score_)\n"
      ],
      "metadata": {
        "id": "CkL__2Vwar2D"
      },
      "execution_count": null,
      "outputs": []
    },
    {
      "cell_type": "code",
      "source": [
        "final_pipe_3 = Pipeline([\n",
        "  ('scaler', StandardScaler()),\n",
        "  ('model', KNeighborsClassifier())\n",
        "])\n",
        "\n",
        "params_3 = {'model__weights': ['distance','uniform'],\n",
        "            'model__n_neighbors': [10,25, 40,],\n",
        "            'model__p': [1,2],\n",
        "\n",
        "           }\n",
        "\n",
        "## Perform the grid search\n",
        "grid_3 = GridSearchCV(final_pipe_3, param_grid=params_3, cv=5, scoring = 'accuracy').fit(final_X, classifier_train_y)\n",
        "print(grid_3.best_estimator_)\n",
        "print(grid_3.best_score_)\n",
        "\n",
        "test_preds = grid_3.predict(final_test_X)\n",
        "print(accuracy_score(test_preds, classifier_test_y))\n"
      ],
      "metadata": {
        "id": "OO-9pyycZ69w"
      },
      "execution_count": null,
      "outputs": []
    },
    {
      "cell_type": "markdown",
      "source": [
        "# Regressors"
      ],
      "metadata": {
        "id": "5UrIjO6GV_Iu"
      }
    },
    {
      "cell_type": "code",
      "source": [
        "final_pipe_1 = Pipeline([\n",
        "    (\"model\", DecisionTreeRegressor())\n",
        "])\n",
        "\n",
        "params_1 = {'model__max_depth': [4,5,6,7,8],\n",
        "          'model__min_samples_split':[2,5,10]\n",
        "         }\n",
        "\n",
        "## Perform the grid search\n",
        "grid_1 = GridSearchCV(final_pipe_1, param_grid=params_1, cv=5, scoring = 'neg_root_mean_squared_error').fit(final_X, train_y)\n",
        "print(grid_1.best_estimator_)\n",
        "print(grid_1.best_score_)\n"
      ],
      "metadata": {
        "colab": {
          "base_uri": "https://localhost:8080/"
        },
        "id": "t_IuE3XlG8ft",
        "outputId": "1d5d08b4-f844-4c34-de82-50b0dbeef8f7"
      },
      "execution_count": 32,
      "outputs": [
        {
          "output_type": "stream",
          "name": "stdout",
          "text": [
            "Pipeline(steps=[('model', DecisionTreeRegressor(max_depth=8))])\n",
            "-1.669184894554893\n"
          ]
        }
      ]
    },
    {
      "cell_type": "code",
      "source": [
        "final_pipe_2 = Pipeline([\n",
        "  ('scaler', MinMaxScaler()),\n",
        "  ('model', xgb.XGBRegressor(eval_metric='error', use_label_encoder=False))\n",
        "])\n",
        "\n",
        "\n",
        "params_2 = {'model__learning_rate': [0.3,0.5, 0.7],\n",
        "           'model__max_depth': [2, 4,6,8],\n",
        "\n",
        "           }\n",
        "\n",
        "## Perform the grid search\n",
        "grid_2 = GridSearchCV(final_pipe_2, param_grid=params_2, cv=5, scoring = 'neg_root_mean_squared_error').fit(final_X, train_y)\n",
        "print(grid_2.best_estimator_)\n",
        "print(grid_2.best_score_)\n"
      ],
      "metadata": {
        "colab": {
          "base_uri": "https://localhost:8080/"
        },
        "id": "LneIJ0zVHBOm",
        "outputId": "e9fcddc8-2602-4f2d-e038-353c1ccf5bb7"
      },
      "execution_count": 33,
      "outputs": [
        {
          "output_type": "stream",
          "name": "stdout",
          "text": [
            "Pipeline(steps=[('scaler', MinMaxScaler()),\n",
            "                ('model',\n",
            "                 XGBRegressor(base_score=None, booster=None, callbacks=None,\n",
            "                              colsample_bylevel=None, colsample_bynode=None,\n",
            "                              colsample_bytree=None, device=None,\n",
            "                              early_stopping_rounds=None,\n",
            "                              enable_categorical=False, eval_metric='error',\n",
            "                              feature_types=None, gamma=None, grow_policy=None,\n",
            "                              importance_type=None,\n",
            "                              interaction_constraints=None, learning_rate=0.5,\n",
            "                              max_bin=None, max_cat_threshold=None,\n",
            "                              max_cat_to_onehot=None, max_delta_step=None,\n",
            "                              max_depth=8, max_leaves=None,\n",
            "                              min_child_weight=None, missing=nan,\n",
            "                              monotone_constraints=None, multi_strategy=None,\n",
            "                              n_estimators=None, n_jobs=None,\n",
            "                              num_parallel_tree=None, random_state=None, ...))])\n",
            "-1.4065752830473168\n"
          ]
        }
      ]
    },
    {
      "cell_type": "code",
      "source": [
        "final_pipe_3 = Pipeline([\n",
        "  ('scaler', StandardScaler()),\n",
        "  ('model', KNeighborsRegressor())\n",
        "])\n",
        "\n",
        "params_3 = {'model__weights': ['distance','uniform'],\n",
        "            'model__n_neighbors': [10,25, 50,],\n",
        "            'model__p': [1,2],\n",
        "\n",
        "           }\n",
        "\n",
        "## Perform the grid search\n",
        "grid_3 = GridSearchCV(final_pipe_3, param_grid=params_3, cv=5, scoring = 'neg_root_mean_squared_error').fit(final_X, train_y)\n",
        "print(grid_3.best_estimator_)\n",
        "print(grid_3.best_score_)\n",
        "\n",
        "test_preds = grid_3.predict(final_test_X)\n",
        "print(root_mean_squared_error(test_preds, test_y))\n"
      ],
      "metadata": {
        "colab": {
          "base_uri": "https://localhost:8080/"
        },
        "id": "lCSyECPkNzGm",
        "outputId": "04066d7d-62ea-4ec2-c9e4-4771ead48384"
      },
      "execution_count": 38,
      "outputs": [
        {
          "output_type": "stream",
          "name": "stdout",
          "text": [
            "Pipeline(steps=[('scaler', StandardScaler()),\n",
            "                ('model',\n",
            "                 KNeighborsRegressor(n_neighbors=50, weights='distance'))])\n",
            "-1.1746253872915804\n",
            "1.7759316543208532\n"
          ]
        }
      ]
    },
    {
      "cell_type": "code",
      "source": [
        "\n",
        "model1 = grid_1.best_estimator_\n",
        "model2 = grid_2.best_estimator_\n",
        "model3 =  grid_3.best_estimator_\n",
        "\n",
        "my_ensemble = VotingRegressor(estimators=[('tree', model1),('xgb', model2),('knn', model3)])\n",
        "candidate_models = {'model': [my_ensemble, model1, model2, model3]}\n",
        "\n",
        "\n",
        "\n",
        "asdf = Pipeline([('model', model1)])\n",
        "candidate_models = {'model': [my_ensemble, model1, model2, model3],\n",
        "\n",
        "                    }\n",
        "\n",
        "## Perform the grid search\n",
        "grid = GridSearchCV(asdf, param_grid=candidate_models, cv=5, scoring = 'neg_root_mean_squared_error').fit(final_X, train_y)\n",
        "print(grid.best_estimator_)\n",
        "print(grid.best_score_)\n",
        "\n"
      ],
      "metadata": {
        "colab": {
          "base_uri": "https://localhost:8080/"
        },
        "id": "yT3qBgnBa3Sm",
        "outputId": "d516efa0-4231-40ef-d8ac-b1139723267a"
      },
      "execution_count": 35,
      "outputs": [
        {
          "output_type": "stream",
          "name": "stdout",
          "text": [
            "Pipeline(steps=[('model',\n",
            "                 Pipeline(steps=[('scaler', StandardScaler()),\n",
            "                                 ('model',\n",
            "                                  KNeighborsRegressor(n_neighbors=50,\n",
            "                                                      weights='distance'))]))])\n",
            "-1.1746253872915804\n"
          ]
        }
      ]
    },
    {
      "cell_type": "code",
      "source": [
        "\n",
        "model1 = grid_1.best_estimator_\n",
        "model2 = grid_2.best_estimator_\n",
        "model3 =  grid_3.best_estimator_\n",
        "\n",
        "my_base_models = [('tree', model1),('xgb', model2),('knn', model3), ('ensemble', my_ensemble)]\n",
        "\n",
        "\n",
        "## Set up the final estimator\n",
        "my_final_model = DecisionTreeRegressor(max_depth=3, min_samples_split=50)\n",
        "\n",
        "\n",
        "## Create the stack\n",
        "from sklearn.ensemble import StackingRegressor\n",
        "my_stack = StackingRegressor(estimators = my_base_models,\n",
        "                              final_estimator = my_final_model,\n",
        "                               cv=5)\n",
        "\n",
        "fitted_stack = my_stack.fit(final_X, train_y)\n",
        "cv_stacked_preds = fitted_stack.predict(final_X)\n",
        "\n",
        "from sklearn.metrics import root_mean_squared_error\n",
        "print(root_mean_squared_error(cv_stacked_preds, train_y))\n",
        "\n"
      ],
      "metadata": {
        "colab": {
          "base_uri": "https://localhost:8080/"
        },
        "id": "SkxEvW5FnMNX",
        "outputId": "bde6de2c-9af4-4a5a-ddc9-752c36c64dbc"
      },
      "execution_count": 44,
      "outputs": [
        {
          "output_type": "stream",
          "name": "stdout",
          "text": [
            "0.6226258562793817\n"
          ]
        }
      ]
    },
    {
      "cell_type": "code",
      "source": [
        "from sklearn.tree import plot_tree\n",
        "plt.figure(figsize=(40,20))\n",
        "plot_tree(fitted_stack.final_estimator_, class_names=True)\n",
        "plt.show()"
      ],
      "metadata": {
        "colab": {
          "base_uri": "https://localhost:8080/",
          "height": 421
        },
        "id": "TV0s0aKuu3qj",
        "outputId": "91861208-7266-4198-8964-8cce57196953"
      },
      "execution_count": 42,
      "outputs": [
        {
          "output_type": "display_data",
          "data": {
            "text/plain": [
              "<Figure size 4000x2000 with 1 Axes>"
            ],
            "image/png": "[encoded data removed]"
          },
          "metadata": {}
        }
      ]
    },
    {
      "cell_type": "code",
      "source": [
        "cv_stacked_preds = fitted_stack.predict(final_test_X)\n",
        "\n",
        "print(root_mean_squared_error(cv_stacked_preds, test_y))"
      ],
      "metadata": {
        "colab": {
          "base_uri": "https://localhost:8080/"
        },
        "id": "6JX6xh_-U2Db",
        "outputId": "acbdc191-f925-4420-b1c5-ff8590f16c29"
      },
      "execution_count": 45,
      "outputs": [
        {
          "output_type": "stream",
          "name": "stdout",
          "text": [
            "1.7907314522668176\n"
          ]
        }
      ]
    },
    {
      "cell_type": "code",
      "source": [
        "from sklearn.ensemble import RandomForestRegressor\n",
        "pipe = Pipeline([\n",
        "                  ('model', RandomForestRegressor(max_depth=3, min_samples_split=10,\n",
        "                                   max_features=2, n_estimators=100,\n",
        "                                   random_state=0, oob_score=True))])\n",
        "\n",
        "params = {'model__max_depth': [3, 5],\n",
        "          'model__min_samples_split': [20,60],\n",
        "          'model__max_features': [5,7,10],\n",
        "          'model__n_estimators': [50,100,200]\n",
        "\n",
        "         }\n",
        "\n",
        "\n",
        "## Perform the grid search\n",
        "grid_forest = GridSearchCV(pipe, param_grid=params, cv=5, scoring = 'neg_root_mean_squared_error').fit(final_X, train_y)\n",
        "print(grid_forest.best_estimator_)\n",
        "print(grid_forest.best_score_)\n"
      ],
      "metadata": {
        "colab": {
          "base_uri": "https://localhost:8080/",
          "height": 400
        },
        "id": "jNmQvXifo9q9",
        "outputId": "7736eb40-e861-4e1a-dc43-ea0141950c26"
      },
      "execution_count": 23,
      "outputs": [
        {
          "output_type": "error",
          "ename": "KeyboardInterrupt",
          "evalue": "",
          "traceback": [
            "\u001b[0;31m---------------------------------------------------------------------------\u001b[0m",
            "\u001b[0;31mKeyboardInterrupt\u001b[0m                         Traceback (most recent call last)",
            "\u001b[0;32m<ipython-input-23-5cf082d28dcc>\u001b[0m in \u001b[0;36m<cell line: 16>\u001b[0;34m()\u001b[0m\n\u001b[1;32m     14\u001b[0m \u001b[0;34m\u001b[0m\u001b[0m\n\u001b[1;32m     15\u001b[0m \u001b[0;31m## Perform the grid search\u001b[0m\u001b[0;34m\u001b[0m\u001b[0;34m\u001b[0m\u001b[0m\n\u001b[0;32m---> 16\u001b[0;31m \u001b[0mgrid\u001b[0m \u001b[0;34m=\u001b[0m \u001b[0mGridSearchCV\u001b[0m\u001b[0;34m(\u001b[0m\u001b[0mpipe\u001b[0m\u001b[0;34m,\u001b[0m \u001b[0mparam_grid\u001b[0m\u001b[0;34m=\u001b[0m\u001b[0mparams\u001b[0m\u001b[0;34m,\u001b[0m \u001b[0mcv\u001b[0m\u001b[0;34m=\u001b[0m\u001b[0;36m5\u001b[0m\u001b[0;34m,\u001b[0m \u001b[0mscoring\u001b[0m \u001b[0;34m=\u001b[0m \u001b[0;34m'neg_root_mean_squared_error'\u001b[0m\u001b[0;34m)\u001b[0m\u001b[0;34m.\u001b[0m\u001b[0mfit\u001b[0m\u001b[0;34m(\u001b[0m\u001b[0mfinal_X\u001b[0m\u001b[0;34m,\u001b[0m \u001b[0mtrain_y\u001b[0m\u001b[0;34m)\u001b[0m\u001b[0;34m\u001b[0m\u001b[0;34m\u001b[0m\u001b[0m\n\u001b[0m\u001b[1;32m     17\u001b[0m \u001b[0mprint\u001b[0m\u001b[0;34m(\u001b[0m\u001b[0mgrid\u001b[0m\u001b[0;34m.\u001b[0m\u001b[0mbest_estimator_\u001b[0m\u001b[0;34m)\u001b[0m\u001b[0;34m\u001b[0m\u001b[0;34m\u001b[0m\u001b[0m\n\u001b[1;32m     18\u001b[0m \u001b[0mprint\u001b[0m\u001b[0;34m(\u001b[0m\u001b[0mgrid\u001b[0m\u001b[0;34m.\u001b[0m\u001b[0mbest_score_\u001b[0m\u001b[0;34m)\u001b[0m\u001b[0;34m\u001b[0m\u001b[0;34m\u001b[0m\u001b[0m\n",
            "\u001b[0;32m/usr/local/lib/python3.10/dist-packages/sklearn/base.py\u001b[0m in \u001b[0;36mwrapper\u001b[0;34m(estimator, *args, **kwargs)\u001b[0m\n\u001b[1;32m   1472\u001b[0m                 )\n\u001b[1;32m   1473\u001b[0m             ):\n\u001b[0;32m-> 1474\u001b[0;31m                 \u001b[0;32mreturn\u001b[0m \u001b[0mfit_method\u001b[0m\u001b[0;34m(\u001b[0m\u001b[0mestimator\u001b[0m\u001b[0;34m,\u001b[0m \u001b[0;34m*\u001b[0m\u001b[0margs\u001b[0m\u001b[0;34m,\u001b[0m \u001b[0;34m**\u001b[0m\u001b[0mkwargs\u001b[0m\u001b[0;34m)\u001b[0m\u001b[0;34m\u001b[0m\u001b[0;34m\u001b[0m\u001b[0m\n\u001b[0m\u001b[1;32m   1475\u001b[0m \u001b[0;34m\u001b[0m\u001b[0m\n\u001b[1;32m   1476\u001b[0m         \u001b[0;32mreturn\u001b[0m \u001b[0mwrapper\u001b[0m\u001b[0;34m\u001b[0m\u001b[0;34m\u001b[0m\u001b[0m\n",
            "\u001b[0;32m/usr/local/lib/python3.10/dist-packages/sklearn/model_selection/_search.py\u001b[0m in \u001b[0;36mfit\u001b[0;34m(self, X, y, **params)\u001b[0m\n\u001b[1;32m    968\u001b[0m                 \u001b[0;32mreturn\u001b[0m \u001b[0mresults\u001b[0m\u001b[0;34m\u001b[0m\u001b[0;34m\u001b[0m\u001b[0m\n\u001b[1;32m    969\u001b[0m \u001b[0;34m\u001b[0m\u001b[0m\n\u001b[0;32m--> 970\u001b[0;31m             \u001b[0mself\u001b[0m\u001b[0;34m.\u001b[0m\u001b[0m_run_search\u001b[0m\u001b[0;34m(\u001b[0m\u001b[0mevaluate_candidates\u001b[0m\u001b[0;34m)\u001b[0m\u001b[0;34m\u001b[0m\u001b[0;34m\u001b[0m\u001b[0m\n\u001b[0m\u001b[1;32m    971\u001b[0m \u001b[0;34m\u001b[0m\u001b[0m\n\u001b[1;32m    972\u001b[0m             \u001b[0;31m# multimetric is determined here because in the case of a callable\u001b[0m\u001b[0;34m\u001b[0m\u001b[0;34m\u001b[0m\u001b[0m\n",
            "\u001b[0;32m/usr/local/lib/python3.10/dist-packages/sklearn/model_selection/_search.py\u001b[0m in \u001b[0;36m_run_search\u001b[0;34m(self, evaluate_candidates)\u001b[0m\n\u001b[1;32m   1525\u001b[0m     \u001b[0;32mdef\u001b[0m \u001b[0m_run_search\u001b[0m\u001b[0;34m(\u001b[0m\u001b[0mself\u001b[0m\u001b[0;34m,\u001b[0m \u001b[0mevaluate_candidates\u001b[0m\u001b[0;34m)\u001b[0m\u001b[0;34m:\u001b[0m\u001b[0;34m\u001b[0m\u001b[0;34m\u001b[0m\u001b[0m\n\u001b[1;32m   1526\u001b[0m         \u001b[0;34m\"\"\"Search all candidates in param_grid\"\"\"\u001b[0m\u001b[0;34m\u001b[0m\u001b[0;34m\u001b[0m\u001b[0m\n\u001b[0;32m-> 1527\u001b[0;31m         \u001b[0mevaluate_candidates\u001b[0m\u001b[0;34m(\u001b[0m\u001b[0mParameterGrid\u001b[0m\u001b[0;34m(\u001b[0m\u001b[0mself\u001b[0m\u001b[0;34m.\u001b[0m\u001b[0mparam_grid\u001b[0m\u001b[0;34m)\u001b[0m\u001b[0;34m)\u001b[0m\u001b[0;34m\u001b[0m\u001b[0;34m\u001b[0m\u001b[0m\n\u001b[0m\u001b[1;32m   1528\u001b[0m \u001b[0;34m\u001b[0m\u001b[0m\n\u001b[1;32m   1529\u001b[0m \u001b[0;34m\u001b[0m\u001b[0m\n",
            "\u001b[0;32m/usr/local/lib/python3.10/dist-packages/sklearn/model_selection/_search.py\u001b[0m in \u001b[0;36mevaluate_candidates\u001b[0;34m(candidate_params, cv, more_results)\u001b[0m\n\u001b[1;32m    914\u001b[0m                     )\n\u001b[1;32m    915\u001b[0m \u001b[0;34m\u001b[0m\u001b[0m\n\u001b[0;32m--> 916\u001b[0;31m                 out = parallel(\n\u001b[0m\u001b[1;32m    917\u001b[0m                     delayed(_fit_and_score)(\n\u001b[1;32m    918\u001b[0m                         \u001b[0mclone\u001b[0m\u001b[0;34m(\u001b[0m\u001b[0mbase_estimator\u001b[0m\u001b[0;34m)\u001b[0m\u001b[0;34m,\u001b[0m\u001b[0;34m\u001b[0m\u001b[0;34m\u001b[0m\u001b[0m\n",
            "\u001b[0;32m/usr/local/lib/python3.10/dist-packages/sklearn/utils/parallel.py\u001b[0m in \u001b[0;36m__call__\u001b[0;34m(self, iterable)\u001b[0m\n\u001b[1;32m     65\u001b[0m             \u001b[0;32mfor\u001b[0m \u001b[0mdelayed_func\u001b[0m\u001b[0;34m,\u001b[0m \u001b[0margs\u001b[0m\u001b[0;34m,\u001b[0m \u001b[0mkwargs\u001b[0m \u001b[0;32min\u001b[0m \u001b[0miterable\u001b[0m\u001b[0;34m\u001b[0m\u001b[0;34m\u001b[0m\u001b[0m\n\u001b[1;32m     66\u001b[0m         )\n\u001b[0;32m---> 67\u001b[0;31m         \u001b[0;32mreturn\u001b[0m \u001b[0msuper\u001b[0m\u001b[0;34m(\u001b[0m\u001b[0;34m)\u001b[0m\u001b[0;34m.\u001b[0m\u001b[0m__call__\u001b[0m\u001b[0;34m(\u001b[0m\u001b[0miterable_with_config\u001b[0m\u001b[0;34m)\u001b[0m\u001b[0;34m\u001b[0m\u001b[0;34m\u001b[0m\u001b[0m\n\u001b[0m\u001b[1;32m     68\u001b[0m \u001b[0;34m\u001b[0m\u001b[0m\n\u001b[1;32m     69\u001b[0m \u001b[0;34m\u001b[0m\u001b[0m\n",
            "\u001b[0;32m/usr/local/lib/python3.10/dist-packages/joblib/parallel.py\u001b[0m in \u001b[0;36m__call__\u001b[0;34m(self, iterable)\u001b[0m\n\u001b[1;32m   1916\u001b[0m             \u001b[0moutput\u001b[0m \u001b[0;34m=\u001b[0m \u001b[0mself\u001b[0m\u001b[0;34m.\u001b[0m\u001b[0m_get_sequential_output\u001b[0m\u001b[0;34m(\u001b[0m\u001b[0miterable\u001b[0m\u001b[0;34m)\u001b[0m\u001b[0;34m\u001b[0m\u001b[0;34m\u001b[0m\u001b[0m\n\u001b[1;32m   1917\u001b[0m             \u001b[0mnext\u001b[0m\u001b[0;34m(\u001b[0m\u001b[0moutput\u001b[0m\u001b[0;34m)\u001b[0m\u001b[0;34m\u001b[0m\u001b[0;34m\u001b[0m\u001b[0m\n\u001b[0;32m-> 1918\u001b[0;31m             \u001b[0;32mreturn\u001b[0m \u001b[0moutput\u001b[0m \u001b[0;32mif\u001b[0m \u001b[0mself\u001b[0m\u001b[0;34m.\u001b[0m\u001b[0mreturn_generator\u001b[0m \u001b[0;32melse\u001b[0m \u001b[0mlist\u001b[0m\u001b[0;34m(\u001b[0m\u001b[0moutput\u001b[0m\u001b[0;34m)\u001b[0m\u001b[0;34m\u001b[0m\u001b[0;34m\u001b[0m\u001b[0m\n\u001b[0m\u001b[1;32m   1919\u001b[0m \u001b[0;34m\u001b[0m\u001b[0m\n\u001b[1;32m   1920\u001b[0m         \u001b[0;31m# Let's create an ID that uniquely identifies the current call. If the\u001b[0m\u001b[0;34m\u001b[0m\u001b[0;34m\u001b[0m\u001b[0m\n",
            "\u001b[0;32m/usr/local/lib/python3.10/dist-packages/joblib/parallel.py\u001b[0m in \u001b[0;36m_get_sequential_output\u001b[0;34m(self, iterable)\u001b[0m\n\u001b[1;32m   1845\u001b[0m                 \u001b[0mself\u001b[0m\u001b[0;34m.\u001b[0m\u001b[0mn_dispatched_batches\u001b[0m \u001b[0;34m+=\u001b[0m \u001b[0;36m1\u001b[0m\u001b[0;34m\u001b[0m\u001b[0;34m\u001b[0m\u001b[0m\n\u001b[1;32m   1846\u001b[0m                 \u001b[0mself\u001b[0m\u001b[0;34m.\u001b[0m\u001b[0mn_dispatched_tasks\u001b[0m \u001b[0;34m+=\u001b[0m \u001b[0;36m1\u001b[0m\u001b[0;34m\u001b[0m\u001b[0;34m\u001b[0m\u001b[0m\n\u001b[0;32m-> 1847\u001b[0;31m                 \u001b[0mres\u001b[0m \u001b[0;34m=\u001b[0m \u001b[0mfunc\u001b[0m\u001b[0;34m(\u001b[0m\u001b[0;34m*\u001b[0m\u001b[0margs\u001b[0m\u001b[0;34m,\u001b[0m \u001b[0;34m**\u001b[0m\u001b[0mkwargs\u001b[0m\u001b[0;34m)\u001b[0m\u001b[0;34m\u001b[0m\u001b[0;34m\u001b[0m\u001b[0m\n\u001b[0m\u001b[1;32m   1848\u001b[0m                 \u001b[0mself\u001b[0m\u001b[0;34m.\u001b[0m\u001b[0mn_completed_tasks\u001b[0m \u001b[0;34m+=\u001b[0m \u001b[0;36m1\u001b[0m\u001b[0;34m\u001b[0m\u001b[0;34m\u001b[0m\u001b[0m\n\u001b[1;32m   1849\u001b[0m                 \u001b[0mself\u001b[0m\u001b[0;34m.\u001b[0m\u001b[0mprint_progress\u001b[0m\u001b[0;34m(\u001b[0m\u001b[0;34m)\u001b[0m\u001b[0;34m\u001b[0m\u001b[0;34m\u001b[0m\u001b[0m\n",
            "\u001b[0;32m/usr/local/lib/python3.10/dist-packages/sklearn/utils/parallel.py\u001b[0m in \u001b[0;36m__call__\u001b[0;34m(self, *args, **kwargs)\u001b[0m\n\u001b[1;32m    127\u001b[0m             \u001b[0mconfig\u001b[0m \u001b[0;34m=\u001b[0m \u001b[0;34m{\u001b[0m\u001b[0;34m}\u001b[0m\u001b[0;34m\u001b[0m\u001b[0;34m\u001b[0m\u001b[0m\n\u001b[1;32m    128\u001b[0m         \u001b[0;32mwith\u001b[0m \u001b[0mconfig_context\u001b[0m\u001b[0;34m(\u001b[0m\u001b[0;34m**\u001b[0m\u001b[0mconfig\u001b[0m\u001b[0;34m)\u001b[0m\u001b[0;34m:\u001b[0m\u001b[0;34m\u001b[0m\u001b[0;34m\u001b[0m\u001b[0m\n\u001b[0;32m--> 129\u001b[0;31m             \u001b[0;32mreturn\u001b[0m \u001b[0mself\u001b[0m\u001b[0;34m.\u001b[0m\u001b[0mfunction\u001b[0m\u001b[0;34m(\u001b[0m\u001b[0;34m*\u001b[0m\u001b[0margs\u001b[0m\u001b[0;34m,\u001b[0m \u001b[0;34m**\u001b[0m\u001b[0mkwargs\u001b[0m\u001b[0;34m)\u001b[0m\u001b[0;34m\u001b[0m\u001b[0;34m\u001b[0m\u001b[0m\n\u001b[0m",
            "\u001b[0;32m/usr/local/lib/python3.10/dist-packages/sklearn/model_selection/_validation.py\u001b[0m in \u001b[0;36m_fit_and_score\u001b[0;34m(estimator, X, y, scorer, train, test, verbose, parameters, fit_params, score_params, return_train_score, return_parameters, return_n_test_samples, return_times, return_estimator, split_progress, candidate_progress, error_score)\u001b[0m\n\u001b[1;32m    893\u001b[0m             \u001b[0mestimator\u001b[0m\u001b[0;34m.\u001b[0m\u001b[0mfit\u001b[0m\u001b[0;34m(\u001b[0m\u001b[0mX_train\u001b[0m\u001b[0;34m,\u001b[0m \u001b[0;34m**\u001b[0m\u001b[0mfit_params\u001b[0m\u001b[0;34m)\u001b[0m\u001b[0;34m\u001b[0m\u001b[0;34m\u001b[0m\u001b[0m\n\u001b[1;32m    894\u001b[0m         \u001b[0;32melse\u001b[0m\u001b[0;34m:\u001b[0m\u001b[0;34m\u001b[0m\u001b[0;34m\u001b[0m\u001b[0m\n\u001b[0;32m--> 895\u001b[0;31m             \u001b[0mestimator\u001b[0m\u001b[0;34m.\u001b[0m\u001b[0mfit\u001b[0m\u001b[0;34m(\u001b[0m\u001b[0mX_train\u001b[0m\u001b[0;34m,\u001b[0m \u001b[0my_train\u001b[0m\u001b[0;34m,\u001b[0m \u001b[0;34m**\u001b[0m\u001b[0mfit_params\u001b[0m\u001b[0;34m)\u001b[0m\u001b[0;34m\u001b[0m\u001b[0;34m\u001b[0m\u001b[0m\n\u001b[0m\u001b[1;32m    896\u001b[0m \u001b[0;34m\u001b[0m\u001b[0m\n\u001b[1;32m    897\u001b[0m     \u001b[0;32mexcept\u001b[0m \u001b[0mException\u001b[0m\u001b[0;34m:\u001b[0m\u001b[0;34m\u001b[0m\u001b[0;34m\u001b[0m\u001b[0m\n",
            "\u001b[0;32m/usr/local/lib/python3.10/dist-packages/sklearn/base.py\u001b[0m in \u001b[0;36mwrapper\u001b[0;34m(estimator, *args, **kwargs)\u001b[0m\n\u001b[1;32m   1472\u001b[0m                 )\n\u001b[1;32m   1473\u001b[0m             ):\n\u001b[0;32m-> 1474\u001b[0;31m                 \u001b[0;32mreturn\u001b[0m \u001b[0mfit_method\u001b[0m\u001b[0;34m(\u001b[0m\u001b[0mestimator\u001b[0m\u001b[0;34m,\u001b[0m \u001b[0;34m*\u001b[0m\u001b[0margs\u001b[0m\u001b[0;34m,\u001b[0m \u001b[0;34m**\u001b[0m\u001b[0mkwargs\u001b[0m\u001b[0;34m)\u001b[0m\u001b[0;34m\u001b[0m\u001b[0;34m\u001b[0m\u001b[0m\n\u001b[0m\u001b[1;32m   1475\u001b[0m \u001b[0;34m\u001b[0m\u001b[0m\n\u001b[1;32m   1476\u001b[0m         \u001b[0;32mreturn\u001b[0m \u001b[0mwrapper\u001b[0m\u001b[0;34m\u001b[0m\u001b[0;34m\u001b[0m\u001b[0m\n",
            "\u001b[0;32m/usr/local/lib/python3.10/dist-packages/sklearn/pipeline.py\u001b[0m in \u001b[0;36mfit\u001b[0;34m(self, X, y, **params)\u001b[0m\n\u001b[1;32m    473\u001b[0m             \u001b[0;32mif\u001b[0m \u001b[0mself\u001b[0m\u001b[0;34m.\u001b[0m\u001b[0m_final_estimator\u001b[0m \u001b[0;34m!=\u001b[0m \u001b[0;34m\"passthrough\"\u001b[0m\u001b[0;34m:\u001b[0m\u001b[0;34m\u001b[0m\u001b[0;34m\u001b[0m\u001b[0m\n\u001b[1;32m    474\u001b[0m                 \u001b[0mlast_step_params\u001b[0m \u001b[0;34m=\u001b[0m \u001b[0mrouted_params\u001b[0m\u001b[0;34m[\u001b[0m\u001b[0mself\u001b[0m\u001b[0;34m.\u001b[0m\u001b[0msteps\u001b[0m\u001b[0;34m[\u001b[0m\u001b[0;34m-\u001b[0m\u001b[0;36m1\u001b[0m\u001b[0;34m]\u001b[0m\u001b[0;34m[\u001b[0m\u001b[0;36m0\u001b[0m\u001b[0;34m]\u001b[0m\u001b[0;34m]\u001b[0m\u001b[0;34m\u001b[0m\u001b[0;34m\u001b[0m\u001b[0m\n\u001b[0;32m--> 475\u001b[0;31m                 \u001b[0mself\u001b[0m\u001b[0;34m.\u001b[0m\u001b[0m_final_estimator\u001b[0m\u001b[0;34m.\u001b[0m\u001b[0mfit\u001b[0m\u001b[0;34m(\u001b[0m\u001b[0mXt\u001b[0m\u001b[0;34m,\u001b[0m \u001b[0my\u001b[0m\u001b[0;34m,\u001b[0m \u001b[0;34m**\u001b[0m\u001b[0mlast_step_params\u001b[0m\u001b[0;34m[\u001b[0m\u001b[0;34m\"fit\"\u001b[0m\u001b[0;34m]\u001b[0m\u001b[0;34m)\u001b[0m\u001b[0;34m\u001b[0m\u001b[0;34m\u001b[0m\u001b[0m\n\u001b[0m\u001b[1;32m    476\u001b[0m \u001b[0;34m\u001b[0m\u001b[0m\n\u001b[1;32m    477\u001b[0m         \u001b[0;32mreturn\u001b[0m \u001b[0mself\u001b[0m\u001b[0;34m\u001b[0m\u001b[0;34m\u001b[0m\u001b[0m\n",
            "\u001b[0;32m/usr/local/lib/python3.10/dist-packages/sklearn/base.py\u001b[0m in \u001b[0;36mwrapper\u001b[0;34m(estimator, *args, **kwargs)\u001b[0m\n\u001b[1;32m   1472\u001b[0m                 )\n\u001b[1;32m   1473\u001b[0m             ):\n\u001b[0;32m-> 1474\u001b[0;31m                 \u001b[0;32mreturn\u001b[0m \u001b[0mfit_method\u001b[0m\u001b[0;34m(\u001b[0m\u001b[0mestimator\u001b[0m\u001b[0;34m,\u001b[0m \u001b[0;34m*\u001b[0m\u001b[0margs\u001b[0m\u001b[0;34m,\u001b[0m \u001b[0;34m**\u001b[0m\u001b[0mkwargs\u001b[0m\u001b[0;34m)\u001b[0m\u001b[0;34m\u001b[0m\u001b[0;34m\u001b[0m\u001b[0m\n\u001b[0m\u001b[1;32m   1475\u001b[0m \u001b[0;34m\u001b[0m\u001b[0m\n\u001b[1;32m   1476\u001b[0m         \u001b[0;32mreturn\u001b[0m \u001b[0mwrapper\u001b[0m\u001b[0;34m\u001b[0m\u001b[0;34m\u001b[0m\u001b[0m\n",
            "\u001b[0;32m/usr/local/lib/python3.10/dist-packages/sklearn/ensemble/_forest.py\u001b[0m in \u001b[0;36mfit\u001b[0;34m(self, X, y, sample_weight)\u001b[0m\n\u001b[1;32m    487\u001b[0m             \u001b[0;31m# parallel_backend contexts set at a higher level,\u001b[0m\u001b[0;34m\u001b[0m\u001b[0;34m\u001b[0m\u001b[0m\n\u001b[1;32m    488\u001b[0m             \u001b[0;31m# since correctness does not rely on using threads.\u001b[0m\u001b[0;34m\u001b[0m\u001b[0;34m\u001b[0m\u001b[0m\n\u001b[0;32m--> 489\u001b[0;31m             trees = Parallel(\n\u001b[0m\u001b[1;32m    490\u001b[0m                 \u001b[0mn_jobs\u001b[0m\u001b[0;34m=\u001b[0m\u001b[0mself\u001b[0m\u001b[0;34m.\u001b[0m\u001b[0mn_jobs\u001b[0m\u001b[0;34m,\u001b[0m\u001b[0;34m\u001b[0m\u001b[0;34m\u001b[0m\u001b[0m\n\u001b[1;32m    491\u001b[0m                 \u001b[0mverbose\u001b[0m\u001b[0;34m=\u001b[0m\u001b[0mself\u001b[0m\u001b[0;34m.\u001b[0m\u001b[0mverbose\u001b[0m\u001b[0;34m,\u001b[0m\u001b[0;34m\u001b[0m\u001b[0;34m\u001b[0m\u001b[0m\n",
            "\u001b[0;32m/usr/local/lib/python3.10/dist-packages/sklearn/utils/parallel.py\u001b[0m in \u001b[0;36m__call__\u001b[0;34m(self, iterable)\u001b[0m\n\u001b[1;32m     65\u001b[0m             \u001b[0;32mfor\u001b[0m \u001b[0mdelayed_func\u001b[0m\u001b[0;34m,\u001b[0m \u001b[0margs\u001b[0m\u001b[0;34m,\u001b[0m \u001b[0mkwargs\u001b[0m \u001b[0;32min\u001b[0m \u001b[0miterable\u001b[0m\u001b[0;34m\u001b[0m\u001b[0;34m\u001b[0m\u001b[0m\n\u001b[1;32m     66\u001b[0m         )\n\u001b[0;32m---> 67\u001b[0;31m         \u001b[0;32mreturn\u001b[0m \u001b[0msuper\u001b[0m\u001b[0;34m(\u001b[0m\u001b[0;34m)\u001b[0m\u001b[0;34m.\u001b[0m\u001b[0m__call__\u001b[0m\u001b[0;34m(\u001b[0m\u001b[0miterable_with_config\u001b[0m\u001b[0;34m)\u001b[0m\u001b[0;34m\u001b[0m\u001b[0;34m\u001b[0m\u001b[0m\n\u001b[0m\u001b[1;32m     68\u001b[0m \u001b[0;34m\u001b[0m\u001b[0m\n\u001b[1;32m     69\u001b[0m \u001b[0;34m\u001b[0m\u001b[0m\n",
            "\u001b[0;32m/usr/local/lib/python3.10/dist-packages/joblib/parallel.py\u001b[0m in \u001b[0;36m__call__\u001b[0;34m(self, iterable)\u001b[0m\n\u001b[1;32m   1916\u001b[0m             \u001b[0moutput\u001b[0m \u001b[0;34m=\u001b[0m \u001b[0mself\u001b[0m\u001b[0;34m.\u001b[0m\u001b[0m_get_sequential_output\u001b[0m\u001b[0;34m(\u001b[0m\u001b[0miterable\u001b[0m\u001b[0;34m)\u001b[0m\u001b[0;34m\u001b[0m\u001b[0;34m\u001b[0m\u001b[0m\n\u001b[1;32m   1917\u001b[0m             \u001b[0mnext\u001b[0m\u001b[0;34m(\u001b[0m\u001b[0moutput\u001b[0m\u001b[0;34m)\u001b[0m\u001b[0;34m\u001b[0m\u001b[0;34m\u001b[0m\u001b[0m\n\u001b[0;32m-> 1918\u001b[0;31m             \u001b[0;32mreturn\u001b[0m \u001b[0moutput\u001b[0m \u001b[0;32mif\u001b[0m \u001b[0mself\u001b[0m\u001b[0;34m.\u001b[0m\u001b[0mreturn_generator\u001b[0m \u001b[0;32melse\u001b[0m \u001b[0mlist\u001b[0m\u001b[0;34m(\u001b[0m\u001b[0moutput\u001b[0m\u001b[0;34m)\u001b[0m\u001b[0;34m\u001b[0m\u001b[0;34m\u001b[0m\u001b[0m\n\u001b[0m\u001b[1;32m   1919\u001b[0m \u001b[0;34m\u001b[0m\u001b[0m\n\u001b[1;32m   1920\u001b[0m         \u001b[0;31m# Let's create an ID that uniquely identifies the current call. If the\u001b[0m\u001b[0;34m\u001b[0m\u001b[0;34m\u001b[0m\u001b[0m\n",
            "\u001b[0;32m/usr/local/lib/python3.10/dist-packages/joblib/parallel.py\u001b[0m in \u001b[0;36m_get_sequential_output\u001b[0;34m(self, iterable)\u001b[0m\n\u001b[1;32m   1845\u001b[0m                 \u001b[0mself\u001b[0m\u001b[0;34m.\u001b[0m\u001b[0mn_dispatched_batches\u001b[0m \u001b[0;34m+=\u001b[0m \u001b[0;36m1\u001b[0m\u001b[0;34m\u001b[0m\u001b[0;34m\u001b[0m\u001b[0m\n\u001b[1;32m   1846\u001b[0m                 \u001b[0mself\u001b[0m\u001b[0;34m.\u001b[0m\u001b[0mn_dispatched_tasks\u001b[0m \u001b[0;34m+=\u001b[0m \u001b[0;36m1\u001b[0m\u001b[0;34m\u001b[0m\u001b[0;34m\u001b[0m\u001b[0m\n\u001b[0;32m-> 1847\u001b[0;31m                 \u001b[0mres\u001b[0m \u001b[0;34m=\u001b[0m \u001b[0mfunc\u001b[0m\u001b[0;34m(\u001b[0m\u001b[0;34m*\u001b[0m\u001b[0margs\u001b[0m\u001b[0;34m,\u001b[0m \u001b[0;34m**\u001b[0m\u001b[0mkwargs\u001b[0m\u001b[0;34m)\u001b[0m\u001b[0;34m\u001b[0m\u001b[0;34m\u001b[0m\u001b[0m\n\u001b[0m\u001b[1;32m   1848\u001b[0m                 \u001b[0mself\u001b[0m\u001b[0;34m.\u001b[0m\u001b[0mn_completed_tasks\u001b[0m \u001b[0;34m+=\u001b[0m \u001b[0;36m1\u001b[0m\u001b[0;34m\u001b[0m\u001b[0;34m\u001b[0m\u001b[0m\n\u001b[1;32m   1849\u001b[0m                 \u001b[0mself\u001b[0m\u001b[0;34m.\u001b[0m\u001b[0mprint_progress\u001b[0m\u001b[0;34m(\u001b[0m\u001b[0;34m)\u001b[0m\u001b[0;34m\u001b[0m\u001b[0;34m\u001b[0m\u001b[0m\n",
            "\u001b[0;32m/usr/local/lib/python3.10/dist-packages/sklearn/utils/parallel.py\u001b[0m in \u001b[0;36m__call__\u001b[0;34m(self, *args, **kwargs)\u001b[0m\n\u001b[1;32m    127\u001b[0m             \u001b[0mconfig\u001b[0m \u001b[0;34m=\u001b[0m \u001b[0;34m{\u001b[0m\u001b[0;34m}\u001b[0m\u001b[0;34m\u001b[0m\u001b[0;34m\u001b[0m\u001b[0m\n\u001b[1;32m    128\u001b[0m         \u001b[0;32mwith\u001b[0m \u001b[0mconfig_context\u001b[0m\u001b[0;34m(\u001b[0m\u001b[0;34m**\u001b[0m\u001b[0mconfig\u001b[0m\u001b[0;34m)\u001b[0m\u001b[0;34m:\u001b[0m\u001b[0;34m\u001b[0m\u001b[0;34m\u001b[0m\u001b[0m\n\u001b[0;32m--> 129\u001b[0;31m             \u001b[0;32mreturn\u001b[0m \u001b[0mself\u001b[0m\u001b[0;34m.\u001b[0m\u001b[0mfunction\u001b[0m\u001b[0;34m(\u001b[0m\u001b[0;34m*\u001b[0m\u001b[0margs\u001b[0m\u001b[0;34m,\u001b[0m \u001b[0;34m**\u001b[0m\u001b[0mkwargs\u001b[0m\u001b[0;34m)\u001b[0m\u001b[0;34m\u001b[0m\u001b[0;34m\u001b[0m\u001b[0m\n\u001b[0m",
            "\u001b[0;32m/usr/local/lib/python3.10/dist-packages/sklearn/ensemble/_forest.py\u001b[0m in \u001b[0;36m_parallel_build_trees\u001b[0;34m(tree, bootstrap, X, y, sample_weight, tree_idx, n_trees, verbose, class_weight, n_samples_bootstrap, missing_values_in_feature_mask)\u001b[0m\n\u001b[1;32m    190\u001b[0m             \u001b[0mcurr_sample_weight\u001b[0m \u001b[0;34m*=\u001b[0m \u001b[0mcompute_sample_weight\u001b[0m\u001b[0;34m(\u001b[0m\u001b[0;34m\"balanced\"\u001b[0m\u001b[0;34m,\u001b[0m \u001b[0my\u001b[0m\u001b[0;34m,\u001b[0m \u001b[0mindices\u001b[0m\u001b[0;34m=\u001b[0m\u001b[0mindices\u001b[0m\u001b[0;34m)\u001b[0m\u001b[0;34m\u001b[0m\u001b[0;34m\u001b[0m\u001b[0m\n\u001b[1;32m    191\u001b[0m \u001b[0;34m\u001b[0m\u001b[0m\n\u001b[0;32m--> 192\u001b[0;31m         tree._fit(\n\u001b[0m\u001b[1;32m    193\u001b[0m             \u001b[0mX\u001b[0m\u001b[0;34m,\u001b[0m\u001b[0;34m\u001b[0m\u001b[0;34m\u001b[0m\u001b[0m\n\u001b[1;32m    194\u001b[0m             \u001b[0my\u001b[0m\u001b[0;34m,\u001b[0m\u001b[0;34m\u001b[0m\u001b[0;34m\u001b[0m\u001b[0m\n",
            "\u001b[0;32m/usr/local/lib/python3.10/dist-packages/sklearn/tree/_classes.py\u001b[0m in \u001b[0;36m_fit\u001b[0;34m(self, X, y, sample_weight, check_input, missing_values_in_feature_mask)\u001b[0m\n\u001b[1;32m    470\u001b[0m             )\n\u001b[1;32m    471\u001b[0m \u001b[0;34m\u001b[0m\u001b[0m\n\u001b[0;32m--> 472\u001b[0;31m         \u001b[0mbuilder\u001b[0m\u001b[0;34m.\u001b[0m\u001b[0mbuild\u001b[0m\u001b[0;34m(\u001b[0m\u001b[0mself\u001b[0m\u001b[0;34m.\u001b[0m\u001b[0mtree_\u001b[0m\u001b[0;34m,\u001b[0m \u001b[0mX\u001b[0m\u001b[0;34m,\u001b[0m \u001b[0my\u001b[0m\u001b[0;34m,\u001b[0m \u001b[0msample_weight\u001b[0m\u001b[0;34m,\u001b[0m \u001b[0mmissing_values_in_feature_mask\u001b[0m\u001b[0;34m)\u001b[0m\u001b[0;34m\u001b[0m\u001b[0;34m\u001b[0m\u001b[0m\n\u001b[0m\u001b[1;32m    473\u001b[0m \u001b[0;34m\u001b[0m\u001b[0m\n\u001b[1;32m    474\u001b[0m         \u001b[0;32mif\u001b[0m \u001b[0mself\u001b[0m\u001b[0;34m.\u001b[0m\u001b[0mn_outputs_\u001b[0m \u001b[0;34m==\u001b[0m \u001b[0;36m1\u001b[0m \u001b[0;32mand\u001b[0m \u001b[0mis_classifier\u001b[0m\u001b[0;34m(\u001b[0m\u001b[0mself\u001b[0m\u001b[0;34m)\u001b[0m\u001b[0;34m:\u001b[0m\u001b[0;34m\u001b[0m\u001b[0;34m\u001b[0m\u001b[0m\n",
            "\u001b[0;31mKeyboardInterrupt\u001b[0m: "
          ]
        }
      ]
    },
    {
      "cell_type": "code",
      "source": [],
      "metadata": {
        "id": "uzAOLjCtPMpJ"
      },
      "execution_count": null,
      "outputs": []
    },
    {
      "cell_type": "markdown",
      "source": [
        "# Network"
      ],
      "metadata": {
        "id": "lkVAQzPudspO"
      }
    },
    {
      "cell_type": "code",
      "source": [
        "import string\n",
        "all_letters = string.ascii_letters + \" @.,;'!&*~\"\n",
        "n_letters = len(all_letters)\n",
        "\n",
        "max_length_train = max(len(text) for text in train_X)\n",
        "max_length_test = max(len(text) for text in test_X)\n",
        "\n",
        "\n",
        "## Function to iterate through a line of text encode each letter as a 1 x 57 vector in an nchar x 1 x 57 tensor\n",
        "def textToTensor(line, max_length):\n",
        "    tensor = torch.zeros(max_length, 1, n_letters)\n",
        "    for li, letter in enumerate(line):\n",
        "        tensor[li][0][all_letters.find(letter)] = 1\n",
        "    return tensor"
      ],
      "metadata": {
        "id": "SiZrfQdi_8QV"
      },
      "execution_count": 31,
      "outputs": []
    },
    {
      "cell_type": "code",
      "source": [
        "train_X_tensor = torch.stack([textToTensor(text, max_length_train) for text in train_X])\n",
        "train_y_tensor = torch.tensor(train_y.values, dtype=torch.long)\n",
        "test_X_tensor = torch.stack([textToTensor(text, max_length_test) for text in test_X])\n",
        "test_y_tensor = torch.tensor(test_y.values, dtype=torch.long)"
      ],
      "metadata": {
        "id": "FGTlYYKSM7Nl"
      },
      "execution_count": null,
      "outputs": []
    },
    {
      "cell_type": "code",
      "source": [
        "# Define the RNN model\n",
        "class RNN(nn.Module):\n",
        "    def __init__(self, input_size, hidden_size, output_size):\n",
        "        super(RNN, self).__init__()\n",
        "        self.hidden_size = hidden_size\n",
        "        self.rnn = nn.RNN(input_size, hidden_size, batch_first=True)\n",
        "        self.fc = nn.Linear(hidden_size, output_size)\n",
        "\n",
        "    def forward(self, x):\n",
        "        h0 = torch.zeros(1, x.size(0), self.hidden_size).to(x.device)\n",
        "        out, _ = self.rnn(x, h0)\n",
        "        out = self.fc(out[:, -1, :])\n",
        "        return out\n",
        "\n",
        "# Define hyperparameters\n",
        "input_size = 26\n",
        "hidden_size = 64\n",
        "output_size = 1\n",
        "\n",
        "# Instantiate the model, loss function, and optimizer\n",
        "model = RNN(input_size, hidden_size, output_size)\n",
        "criterion = nn.CrossEntropyLoss()\n",
        "optimizer = optim.Adam(model.parameters(), lr=0.001)\n",
        "\n",
        "# Training the model\n",
        "num_epochs = 100\n",
        "for epoch in range(num_epochs):\n",
        "    model.train()\n",
        "    optimizer.zero_grad()\n",
        "    outputs = model(train_X_tensor)\n",
        "    loss = criterion(outputs.squeeze(), train_y_tensor)\n",
        "    loss.backward()\n",
        "    optimizer.step()\n",
        "\n",
        "    if (epoch+1) % 10 == 0:\n",
        "        print(f'Epoch [{epoch+1}/{num_epochs}], Loss: {loss.item():.4f}')\n",
        "\n",
        "# Evaluation on test set\n",
        "model.eval()\n",
        "with torch.no_grad():\n",
        "    test_outputs = model(test_X_tensor)\n",
        "    test_loss = criterion(test_outputs.squeeze(), test_y_tensor)\n",
        "    print(f'Test Loss: {test_loss.item()}')"
      ],
      "metadata": {
        "id": "ght0MvoLMxS6"
      },
      "execution_count": null,
      "outputs": []
    },
    {
      "cell_type": "code",
      "source": [
        "class my_rnn(nn.Module):\n",
        "\n",
        "    ## Constructor commands\n",
        "    def __init__(self, input_size, hidden_size, output_size):\n",
        "        super(my_rnn, self).__init__()\n",
        "\n",
        "        self.hidden_size = hidden_size\n",
        "        self.i2h = nn.Linear(input_size + hidden_size, hidden_size)\n",
        "        self.i2o = nn.Linear(hidden_size, output_size)\n",
        "        self.softmax = nn.LogSoftmax(dim=1)\n",
        "\n",
        "    ## Function to generate predictions\n",
        "    def forward(self, input, hidden):\n",
        "        combined = torch.cat((input, hidden), 1)\n",
        "        hidden = self.i2h(combined)\n",
        "        output = self.i2o(hidden)\n",
        "        output = self.softmax(output)\n",
        "        return output, hidden\n",
        "\n",
        "    def initHidden(self):\n",
        "        return torch.zeros(1, self.hidden_size)"
      ],
      "metadata": {
        "id": "oAlrgDUtE9n8"
      },
      "execution_count": null,
      "outputs": []
    },
    {
      "cell_type": "code",
      "source": [
        "h_size = 100\n",
        "rnn = my_rnn(n_letters, h_size, 1)\n",
        "from torch import nn\n",
        "class my_rnn(nn.Module):\n",
        "\n",
        "    ## Constructor commands\n",
        "    def __init__(self, input_size, hidden_size, output_size):\n",
        "        super(my_rnn, self).__init__()\n",
        "\n",
        "        self.hidden_size = hidden_size\n",
        "        self.i2h = nn.Linear(input_size + hidden_size, hidden_size)\n",
        "        self.i2o = nn.Linear(hidden_size, output_size)\n",
        "        self.softmax = nn.LogSoftmax(dim=1)\n",
        "\n",
        "    ## Function to generate predictions\n",
        "    def forward(self, input, hidden):\n",
        "        combined = torch.cat((input, hidden), 1)\n",
        "        hidden = self.i2h(combined)\n",
        "        output = self.i2o(hidden)\n",
        "        output = self.softmax(output)\n",
        "        return output, hidden\n",
        "\n",
        "    def initHidden(self):\n",
        "        return torch.zeros(1, self.hidden_size)"
      ],
      "metadata": {
        "id": "SKG7-92jaZ07"
      },
      "execution_count": null,
      "outputs": []
    },
    {
      "cell_type": "code",
      "source": [
        "## Set learning rate\n",
        "learning_rate = 0.005\n",
        "\n",
        "## Define cost func\n",
        "cost_fn = nn.CrossEntropyLoss()\n",
        "\n",
        "## Training function for a single input (name category, name)\n",
        "def train(comment, hate_score):\n",
        "\n",
        "    ## initialize the hidden state\n",
        "    hidden = rnn.initHidden()\n",
        "\n",
        "    ## set the gradient to zero\n",
        "    rnn.zero_grad()\n",
        "\n",
        "    output, hidden = rnn(comment[i], hidden)\n",
        "\n",
        "    ## Calculate cost and gradients\n",
        "\n",
        "    print(output)\n",
        "    print(hate_score)\n",
        "\n",
        "    cost = cost_fn(output, hate_score)\n",
        "\n",
        "    cost.backward()\n",
        "\n",
        "    # Update parameters\n",
        "    for p in rnn.parameters():\n",
        "        p.data.add_(p.grad.data, alpha = -learning_rate) ## This adds the LR times the gradient to each parameter\n",
        "\n",
        "    ## Return the output and cost\n",
        "    return output, cost.item()"
      ],
      "metadata": {
        "id": "5QYXpTwYBUxh"
      },
      "execution_count": null,
      "outputs": []
    },
    {
      "cell_type": "code",
      "source": [
        "## Initializations\n",
        "import random\n",
        "\n",
        "epochs = 10\n",
        "cost_every_n = 25\n",
        "current_cost = 0\n",
        "track_cost = []\n",
        "\n",
        "n = len(train_y)\n",
        "idx = random.sample(range(n), n)\n",
        "\n",
        "\n",
        "### Iteratively update model from randomly chosen example\n",
        "for i in range(1, epochs + 1):\n",
        "    for si in range(n):\n",
        "      random_y = torch.tensor(train_y.iloc[idx[si]], dtype=torch.long).unsqueeze(0)\n",
        "      print(random_y)\n",
        "      random_x = nameToTensor(train_X.iloc[idx[si]])\n",
        "\n",
        "      output, cost = train(random_x, random_y)\n",
        "      current_cost += cost\n",
        "\n",
        "      # Save cost every 25 iterations\n",
        "      if si % cost_every_n == 0:\n",
        "          track_cost.append(current_cost/cost_every_n)\n",
        "          current_cost = 0"
      ],
      "metadata": {
        "id": "_AItO_QKBW3l"
      },
      "execution_count": null,
      "outputs": []
    },
    {
      "cell_type": "code",
      "source": [],
      "metadata": {
        "id": "jH5KDEXeG4vi"
      },
      "execution_count": null,
      "outputs": []
    },
    {
      "cell_type": "code",
      "source": [
        "predictions=[]\n",
        "def predict(input_line):\n",
        "    print('\\n> %s' % input_line)\n",
        "\n",
        "    ## Don't update gradient with any of these examples\n",
        "    with torch.no_grad():\n",
        "\n",
        "        ## Initialize new hidden state\n",
        "        hidden = rnn.initHidden()\n",
        "\n",
        "        ## Convert input str to tensor\n",
        "        input_t = nameToTensor(input_line)\n",
        "\n",
        "        ## Pass each character into `rnn`\n",
        "        for i in range(input_t.size()[0]):\n",
        "            output, hidden = rnn(input_t[i], hidden)\n",
        "\n",
        "        predicted.append(output)\n"
      ],
      "metadata": {
        "id": "ksLWmukcdqOw"
      },
      "execution_count": null,
      "outputs": []
    },
    {
      "cell_type": "code",
      "source": [],
      "metadata": {
        "id": "t2dLw8Wz1N0j"
      },
      "execution_count": null,
      "outputs": []
    }
  ]
}