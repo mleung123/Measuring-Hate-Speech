{
  "nbformat": 4,
  "nbformat_minor": 0,
  "metadata": {
    "colab": {
      "provenance": [],
      "toc_visible": true
    },
    "kernelspec": {
      "name": "python3",
      "display_name": "Python 3"
    },
    "language_info": {
      "name": "python"
    },
    "widgets": {
      "application/vnd.jupyter.widget-state+json": {
        "ad74b3d59dd84f60adb37a273ea50668": {
          "model_module": "@jupyter-widgets/controls",
          "model_name": "HBoxModel",
          "model_module_version": "1.5.0",
          "state": {
            "_dom_classes": [],
            "_model_module": "@jupyter-widgets/controls",
            "_model_module_version": "1.5.0",
            "_model_name": "HBoxModel",
            "_view_count": null,
            "_view_module": "@jupyter-widgets/controls",
            "_view_module_version": "1.5.0",
            "_view_name": "HBoxView",
            "box_style": "",
            "children": [
              "IPY_MODEL_2a8f9349bdb24f7c80996069096f62c6",
              "IPY_MODEL_e139914b753143c2a8d488053ca11d13",
              "IPY_MODEL_70ec5bbf28a4449283441ea353c274dd"
            ],
            "layout": "IPY_MODEL_1927f3fa057b4e6892cacf25e4f8108c"
          }
        },
        "2a8f9349bdb24f7c80996069096f62c6": {
          "model_module": "@jupyter-widgets/controls",
          "model_name": "HTMLModel",
          "model_module_version": "1.5.0",
          "state": {
            "_dom_classes": [],
            "_model_module": "@jupyter-widgets/controls",
            "_model_module_version": "1.5.0",
            "_model_name": "HTMLModel",
            "_view_count": null,
            "_view_module": "@jupyter-widgets/controls",
            "_view_module_version": "1.5.0",
            "_view_name": "HTMLView",
            "description": "",
            "description_tooltip": null,
            "layout": "IPY_MODEL_84c01ae48a4d4022ace5bb22c8ec9d1a",
            "placeholder": "​",
            "style": "IPY_MODEL_24c98147dbd5431ebd59ac2c5a035502",
            "value": "Downloading data: 100%"
          }
        },
        "e139914b753143c2a8d488053ca11d13": {
          "model_module": "@jupyter-widgets/controls",
          "model_name": "FloatProgressModel",
          "model_module_version": "1.5.0",
          "state": {
            "_dom_classes": [],
            "_model_module": "@jupyter-widgets/controls",
            "_model_module_version": "1.5.0",
            "_model_name": "FloatProgressModel",
            "_view_count": null,
            "_view_module": "@jupyter-widgets/controls",
            "_view_module_version": "1.5.0",
            "_view_name": "ProgressView",
            "bar_style": "success",
            "description": "",
            "description_tooltip": null,
            "layout": "IPY_MODEL_2bbc0a6ab68045b1b23e70f3a558ba18",
            "max": 14123673,
            "min": 0,
            "orientation": "horizontal",
            "style": "IPY_MODEL_b3fca520d819418f96766fadd0a21a5e",
            "value": 14123673
          }
        },
        "70ec5bbf28a4449283441ea353c274dd": {
          "model_module": "@jupyter-widgets/controls",
          "model_name": "HTMLModel",
          "model_module_version": "1.5.0",
          "state": {
            "_dom_classes": [],
            "_model_module": "@jupyter-widgets/controls",
            "_model_module_version": "1.5.0",
            "_model_name": "HTMLModel",
            "_view_count": null,
            "_view_module": "@jupyter-widgets/controls",
            "_view_module_version": "1.5.0",
            "_view_name": "HTMLView",
            "description": "",
            "description_tooltip": null,
            "layout": "IPY_MODEL_60d12cd04d644a4e93c10710526ceffd",
            "placeholder": "​",
            "style": "IPY_MODEL_2ff979fcb3d540f1b6a8ce05f9b0cb93",
            "value": " 14.1M/14.1M [00:01&lt;00:00, 9.95MB/s]"
          }
        },
        "1927f3fa057b4e6892cacf25e4f8108c": {
          "model_module": "@jupyter-widgets/base",
          "model_name": "LayoutModel",
          "model_module_version": "1.2.0",
          "state": {
            "_model_module": "@jupyter-widgets/base",
            "_model_module_version": "1.2.0",
            "_model_name": "LayoutModel",
            "_view_count": null,
            "_view_module": "@jupyter-widgets/base",
            "_view_module_version": "1.2.0",
            "_view_name": "LayoutView",
            "align_content": null,
            "align_items": null,
            "align_self": null,
            "border": null,
            "bottom": null,
            "display": null,
            "flex": null,
            "flex_flow": null,
            "grid_area": null,
            "grid_auto_columns": null,
            "grid_auto_flow": null,
            "grid_auto_rows": null,
            "grid_column": null,
            "grid_gap": null,
            "grid_row": null,
            "grid_template_areas": null,
            "grid_template_columns": null,
            "grid_template_rows": null,
            "height": null,
            "justify_content": null,
            "justify_items": null,
            "left": null,
            "margin": null,
            "max_height": null,
            "max_width": null,
            "min_height": null,
            "min_width": null,
            "object_fit": null,
            "object_position": null,
            "order": null,
            "overflow": null,
            "overflow_x": null,
            "overflow_y": null,
            "padding": null,
            "right": null,
            "top": null,
            "visibility": null,
            "width": null
          }
        },
        "84c01ae48a4d4022ace5bb22c8ec9d1a": {
          "model_module": "@jupyter-widgets/base",
          "model_name": "LayoutModel",
          "model_module_version": "1.2.0",
          "state": {
            "_model_module": "@jupyter-widgets/base",
            "_model_module_version": "1.2.0",
            "_model_name": "LayoutModel",
            "_view_count": null,
            "_view_module": "@jupyter-widgets/base",
            "_view_module_version": "1.2.0",
            "_view_name": "LayoutView",
            "align_content": null,
            "align_items": null,
            "align_self": null,
            "border": null,
            "bottom": null,
            "display": null,
            "flex": null,
            "flex_flow": null,
            "grid_area": null,
            "grid_auto_columns": null,
            "grid_auto_flow": null,
            "grid_auto_rows": null,
            "grid_column": null,
            "grid_gap": null,
            "grid_row": null,
            "grid_template_areas": null,
            "grid_template_columns": null,
            "grid_template_rows": null,
            "height": null,
            "justify_content": null,
            "justify_items": null,
            "left": null,
            "margin": null,
            "max_height": null,
            "max_width": null,
            "min_height": null,
            "min_width": null,
            "object_fit": null,
            "object_position": null,
            "order": null,
            "overflow": null,
            "overflow_x": null,
            "overflow_y": null,
            "padding": null,
            "right": null,
            "top": null,
            "visibility": null,
            "width": null
          }
        },
        "24c98147dbd5431ebd59ac2c5a035502": {
          "model_module": "@jupyter-widgets/controls",
          "model_name": "DescriptionStyleModel",
          "model_module_version": "1.5.0",
          "state": {
            "_model_module": "@jupyter-widgets/controls",
            "_model_module_version": "1.5.0",
            "_model_name": "DescriptionStyleModel",
            "_view_count": null,
            "_view_module": "@jupyter-widgets/base",
            "_view_module_version": "1.2.0",
            "_view_name": "StyleView",
            "description_width": ""
          }
        },
        "2bbc0a6ab68045b1b23e70f3a558ba18": {
          "model_module": "@jupyter-widgets/base",
          "model_name": "LayoutModel",
          "model_module_version": "1.2.0",
          "state": {
            "_model_module": "@jupyter-widgets/base",
            "_model_module_version": "1.2.0",
            "_model_name": "LayoutModel",
            "_view_count": null,
            "_view_module": "@jupyter-widgets/base",
            "_view_module_version": "1.2.0",
            "_view_name": "LayoutView",
            "align_content": null,
            "align_items": null,
            "align_self": null,
            "border": null,
            "bottom": null,
            "display": null,
            "flex": null,
            "flex_flow": null,
            "grid_area": null,
            "grid_auto_columns": null,
            "grid_auto_flow": null,
            "grid_auto_rows": null,
            "grid_column": null,
            "grid_gap": null,
            "grid_row": null,
            "grid_template_areas": null,
            "grid_template_columns": null,
            "grid_template_rows": null,
            "height": null,
            "justify_content": null,
            "justify_items": null,
            "left": null,
            "margin": null,
            "max_height": null,
            "max_width": null,
            "min_height": null,
            "min_width": null,
            "object_fit": null,
            "object_position": null,
            "order": null,
            "overflow": null,
            "overflow_x": null,
            "overflow_y": null,
            "padding": null,
            "right": null,
            "top": null,
            "visibility": null,
            "width": null
          }
        },
        "b3fca520d819418f96766fadd0a21a5e": {
          "model_module": "@jupyter-widgets/controls",
          "model_name": "ProgressStyleModel",
          "model_module_version": "1.5.0",
          "state": {
            "_model_module": "@jupyter-widgets/controls",
            "_model_module_version": "1.5.0",
            "_model_name": "ProgressStyleModel",
            "_view_count": null,
            "_view_module": "@jupyter-widgets/base",
            "_view_module_version": "1.2.0",
            "_view_name": "StyleView",
            "bar_color": null,
            "description_width": ""
          }
        },
        "60d12cd04d644a4e93c10710526ceffd": {
          "model_module": "@jupyter-widgets/base",
          "model_name": "LayoutModel",
          "model_module_version": "1.2.0",
          "state": {
            "_model_module": "@jupyter-widgets/base",
            "_model_module_version": "1.2.0",
            "_model_name": "LayoutModel",
            "_view_count": null,
            "_view_module": "@jupyter-widgets/base",
            "_view_module_version": "1.2.0",
            "_view_name": "LayoutView",
            "align_content": null,
            "align_items": null,
            "align_self": null,
            "border": null,
            "bottom": null,
            "display": null,
            "flex": null,
            "flex_flow": null,
            "grid_area": null,
            "grid_auto_columns": null,
            "grid_auto_flow": null,
            "grid_auto_rows": null,
            "grid_column": null,
            "grid_gap": null,
            "grid_row": null,
            "grid_template_areas": null,
            "grid_template_columns": null,
            "grid_template_rows": null,
            "height": null,
            "justify_content": null,
            "justify_items": null,
            "left": null,
            "margin": null,
            "max_height": null,
            "max_width": null,
            "min_height": null,
            "min_width": null,
            "object_fit": null,
            "object_position": null,
            "order": null,
            "overflow": null,
            "overflow_x": null,
            "overflow_y": null,
            "padding": null,
            "right": null,
            "top": null,
            "visibility": null,
            "width": null
          }
        },
        "2ff979fcb3d540f1b6a8ce05f9b0cb93": {
          "model_module": "@jupyter-widgets/controls",
          "model_name": "DescriptionStyleModel",
          "model_module_version": "1.5.0",
          "state": {
            "_model_module": "@jupyter-widgets/controls",
            "_model_module_version": "1.5.0",
            "_model_name": "DescriptionStyleModel",
            "_view_count": null,
            "_view_module": "@jupyter-widgets/base",
            "_view_module_version": "1.2.0",
            "_view_name": "StyleView",
            "description_width": ""
          }
        },
        "4bfe0365de97416abcfbaf24491d0dca": {
          "model_module": "@jupyter-widgets/controls",
          "model_name": "HBoxModel",
          "model_module_version": "1.5.0",
          "state": {
            "_dom_classes": [],
            "_model_module": "@jupyter-widgets/controls",
            "_model_module_version": "1.5.0",
            "_model_name": "HBoxModel",
            "_view_count": null,
            "_view_module": "@jupyter-widgets/controls",
            "_view_module_version": "1.5.0",
            "_view_name": "HBoxView",
            "box_style": "",
            "children": [
              "IPY_MODEL_2527cdfe5af5436dbf27eb6b1aa2c7ae",
              "IPY_MODEL_ac2dd187603c4a8cada525b5406d309c",
              "IPY_MODEL_065e5f90b8054000a4f26c5f219dcbf8"
            ],
            "layout": "IPY_MODEL_d19516211cc141c1bffcaf0bbf64672e"
          }
        },
        "2527cdfe5af5436dbf27eb6b1aa2c7ae": {
          "model_module": "@jupyter-widgets/controls",
          "model_name": "HTMLModel",
          "model_module_version": "1.5.0",
          "state": {
            "_dom_classes": [],
            "_model_module": "@jupyter-widgets/controls",
            "_model_module_version": "1.5.0",
            "_model_name": "HTMLModel",
            "_view_count": null,
            "_view_module": "@jupyter-widgets/controls",
            "_view_module_version": "1.5.0",
            "_view_name": "HTMLView",
            "description": "",
            "description_tooltip": null,
            "layout": "IPY_MODEL_d71d643f9ca74d799ce42c8f07b85aed",
            "placeholder": "​",
            "style": "IPY_MODEL_e6bac3b19f3344849d7ea5284deb4d77",
            "value": "Generating train split: 100%"
          }
        },
        "ac2dd187603c4a8cada525b5406d309c": {
          "model_module": "@jupyter-widgets/controls",
          "model_name": "FloatProgressModel",
          "model_module_version": "1.5.0",
          "state": {
            "_dom_classes": [],
            "_model_module": "@jupyter-widgets/controls",
            "_model_module_version": "1.5.0",
            "_model_name": "FloatProgressModel",
            "_view_count": null,
            "_view_module": "@jupyter-widgets/controls",
            "_view_module_version": "1.5.0",
            "_view_name": "ProgressView",
            "bar_style": "success",
            "description": "",
            "description_tooltip": null,
            "layout": "IPY_MODEL_b4978088a6364e05aecc56801b07207a",
            "max": 135556,
            "min": 0,
            "orientation": "horizontal",
            "style": "IPY_MODEL_468356e751ab4d24b72df5ed95a17780",
            "value": 135556
          }
        },
        "065e5f90b8054000a4f26c5f219dcbf8": {
          "model_module": "@jupyter-widgets/controls",
          "model_name": "HTMLModel",
          "model_module_version": "1.5.0",
          "state": {
            "_dom_classes": [],
            "_model_module": "@jupyter-widgets/controls",
            "_model_module_version": "1.5.0",
            "_model_name": "HTMLModel",
            "_view_count": null,
            "_view_module": "@jupyter-widgets/controls",
            "_view_module_version": "1.5.0",
            "_view_name": "HTMLView",
            "description": "",
            "description_tooltip": null,
            "layout": "IPY_MODEL_b57fa80e912c4b76a88da2c6fcf6a468",
            "placeholder": "​",
            "style": "IPY_MODEL_86b6654893d243279eb5ef77b9256566",
            "value": " 135556/135556 [00:00&lt;00:00, 185485.72 examples/s]"
          }
        },
        "d19516211cc141c1bffcaf0bbf64672e": {
          "model_module": "@jupyter-widgets/base",
          "model_name": "LayoutModel",
          "model_module_version": "1.2.0",
          "state": {
            "_model_module": "@jupyter-widgets/base",
            "_model_module_version": "1.2.0",
            "_model_name": "LayoutModel",
            "_view_count": null,
            "_view_module": "@jupyter-widgets/base",
            "_view_module_version": "1.2.0",
            "_view_name": "LayoutView",
            "align_content": null,
            "align_items": null,
            "align_self": null,
            "border": null,
            "bottom": null,
            "display": null,
            "flex": null,
            "flex_flow": null,
            "grid_area": null,
            "grid_auto_columns": null,
            "grid_auto_flow": null,
            "grid_auto_rows": null,
            "grid_column": null,
            "grid_gap": null,
            "grid_row": null,
            "grid_template_areas": null,
            "grid_template_columns": null,
            "grid_template_rows": null,
            "height": null,
            "justify_content": null,
            "justify_items": null,
            "left": null,
            "margin": null,
            "max_height": null,
            "max_width": null,
            "min_height": null,
            "min_width": null,
            "object_fit": null,
            "object_position": null,
            "order": null,
            "overflow": null,
            "overflow_x": null,
            "overflow_y": null,
            "padding": null,
            "right": null,
            "top": null,
            "visibility": null,
            "width": null
          }
        },
        "d71d643f9ca74d799ce42c8f07b85aed": {
          "model_module": "@jupyter-widgets/base",
          "model_name": "LayoutModel",
          "model_module_version": "1.2.0",
          "state": {
            "_model_module": "@jupyter-widgets/base",
            "_model_module_version": "1.2.0",
            "_model_name": "LayoutModel",
            "_view_count": null,
            "_view_module": "@jupyter-widgets/base",
            "_view_module_version": "1.2.0",
            "_view_name": "LayoutView",
            "align_content": null,
            "align_items": null,
            "align_self": null,
            "border": null,
            "bottom": null,
            "display": null,
            "flex": null,
            "flex_flow": null,
            "grid_area": null,
            "grid_auto_columns": null,
            "grid_auto_flow": null,
            "grid_auto_rows": null,
            "grid_column": null,
            "grid_gap": null,
            "grid_row": null,
            "grid_template_areas": null,
            "grid_template_columns": null,
            "grid_template_rows": null,
            "height": null,
            "justify_content": null,
            "justify_items": null,
            "left": null,
            "margin": null,
            "max_height": null,
            "max_width": null,
            "min_height": null,
            "min_width": null,
            "object_fit": null,
            "object_position": null,
            "order": null,
            "overflow": null,
            "overflow_x": null,
            "overflow_y": null,
            "padding": null,
            "right": null,
            "top": null,
            "visibility": null,
            "width": null
          }
        },
        "e6bac3b19f3344849d7ea5284deb4d77": {
          "model_module": "@jupyter-widgets/controls",
          "model_name": "DescriptionStyleModel",
          "model_module_version": "1.5.0",
          "state": {
            "_model_module": "@jupyter-widgets/controls",
            "_model_module_version": "1.5.0",
            "_model_name": "DescriptionStyleModel",
            "_view_count": null,
            "_view_module": "@jupyter-widgets/base",
            "_view_module_version": "1.2.0",
            "_view_name": "StyleView",
            "description_width": ""
          }
        },
        "b4978088a6364e05aecc56801b07207a": {
          "model_module": "@jupyter-widgets/base",
          "model_name": "LayoutModel",
          "model_module_version": "1.2.0",
          "state": {
            "_model_module": "@jupyter-widgets/base",
            "_model_module_version": "1.2.0",
            "_model_name": "LayoutModel",
            "_view_count": null,
            "_view_module": "@jupyter-widgets/base",
            "_view_module_version": "1.2.0",
            "_view_name": "LayoutView",
            "align_content": null,
            "align_items": null,
            "align_self": null,
            "border": null,
            "bottom": null,
            "display": null,
            "flex": null,
            "flex_flow": null,
            "grid_area": null,
            "grid_auto_columns": null,
            "grid_auto_flow": null,
            "grid_auto_rows": null,
            "grid_column": null,
            "grid_gap": null,
            "grid_row": null,
            "grid_template_areas": null,
            "grid_template_columns": null,
            "grid_template_rows": null,
            "height": null,
            "justify_content": null,
            "justify_items": null,
            "left": null,
            "margin": null,
            "max_height": null,
            "max_width": null,
            "min_height": null,
            "min_width": null,
            "object_fit": null,
            "object_position": null,
            "order": null,
            "overflow": null,
            "overflow_x": null,
            "overflow_y": null,
            "padding": null,
            "right": null,
            "top": null,
            "visibility": null,
            "width": null
          }
        },
        "468356e751ab4d24b72df5ed95a17780": {
          "model_module": "@jupyter-widgets/controls",
          "model_name": "ProgressStyleModel",
          "model_module_version": "1.5.0",
          "state": {
            "_model_module": "@jupyter-widgets/controls",
            "_model_module_version": "1.5.0",
            "_model_name": "ProgressStyleModel",
            "_view_count": null,
            "_view_module": "@jupyter-widgets/base",
            "_view_module_version": "1.2.0",
            "_view_name": "StyleView",
            "bar_color": null,
            "description_width": ""
          }
        },
        "b57fa80e912c4b76a88da2c6fcf6a468": {
          "model_module": "@jupyter-widgets/base",
          "model_name": "LayoutModel",
          "model_module_version": "1.2.0",
          "state": {
            "_model_module": "@jupyter-widgets/base",
            "_model_module_version": "1.2.0",
            "_model_name": "LayoutModel",
            "_view_count": null,
            "_view_module": "@jupyter-widgets/base",
            "_view_module_version": "1.2.0",
            "_view_name": "LayoutView",
            "align_content": null,
            "align_items": null,
            "align_self": null,
            "border": null,
            "bottom": null,
            "display": null,
            "flex": null,
            "flex_flow": null,
            "grid_area": null,
            "grid_auto_columns": null,
            "grid_auto_flow": null,
            "grid_auto_rows": null,
            "grid_column": null,
            "grid_gap": null,
            "grid_row": null,
            "grid_template_areas": null,
            "grid_template_columns": null,
            "grid_template_rows": null,
            "height": null,
            "justify_content": null,
            "justify_items": null,
            "left": null,
            "margin": null,
            "max_height": null,
            "max_width": null,
            "min_height": null,
            "min_width": null,
            "object_fit": null,
            "object_position": null,
            "order": null,
            "overflow": null,
            "overflow_x": null,
            "overflow_y": null,
            "padding": null,
            "right": null,
            "top": null,
            "visibility": null,
            "width": null
          }
        },
        "86b6654893d243279eb5ef77b9256566": {
          "model_module": "@jupyter-widgets/controls",
          "model_name": "DescriptionStyleModel",
          "model_module_version": "1.5.0",
          "state": {
            "_model_module": "@jupyter-widgets/controls",
            "_model_module_version": "1.5.0",
            "_model_name": "DescriptionStyleModel",
            "_view_count": null,
            "_view_module": "@jupyter-widgets/base",
            "_view_module_version": "1.2.0",
            "_view_name": "StyleView",
            "description_width": ""
          }
        }
      }
    }
  },
  "cells": [
    {
      "cell_type": "markdown",
      "source": [
        "## Detecting Hate Speech\n",
        "Mick Leungpathomaram\n"
      ],
      "metadata": {
        "id": "gV0ZRHbOWtTy"
      }
    },
    {
      "cell_type": "code",
      "execution_count": 1,
      "metadata": {
        "id": "r5sS7WNBanXK",
        "colab": {
          "base_uri": "https://localhost:8080/"
        },
        "outputId": "3997211a-ce9b-4b92-dc37-c23620b600fc"
      },
      "outputs": [
        {
          "output_type": "stream",
          "name": "stderr",
          "text": [
            "[nltk_data] Downloading package stopwords to /root/nltk_data...\n",
            "[nltk_data]   Package stopwords is already up-to-date!\n",
            "[nltk_data] Downloading package punkt to /root/nltk_data...\n",
            "[nltk_data]   Package punkt is already up-to-date!\n"
          ]
        }
      ],
      "source": [
        "import warnings\n",
        "warnings.simplefilter(action='ignore', category=FutureWarning)\n",
        "import xgboost as xgb\n",
        "import pandas as pd\n",
        "import numpy as np\n",
        "import matplotlib.pyplot as plt\n",
        "import sklearn\n",
        "import nltk\n",
        "import torch\n",
        "import torchvision\n",
        "import torchtext\n",
        "import re\n",
        "from re import findall, sub\n",
        "from sklearn.ensemble import AdaBoostClassifier\n",
        "from sklearn.model_selection import cross_val_score\n",
        "from sklearn.preprocessing import OneHotEncoder\n",
        "\n",
        "nltk.download(\"stopwords\")\n",
        "nltk.download('punkt')\n",
        "from nltk.corpus import stopwords\n",
        "\n",
        "from sklearn.ensemble import VotingClassifier\n",
        "from sklearn.ensemble import VotingRegressor\n",
        "from sklearn.svm import SVC\n",
        "from sklearn.tree import DecisionTreeClassifier\n",
        "from sklearn.tree import DecisionTreeRegressor\n",
        "from sklearn.neighbors import KNeighborsClassifier\n",
        "from sklearn.neighbors import KNeighborsRegressor\n",
        "from sklearn.pipeline import Pipeline\n",
        "from sklearn.preprocessing import StandardScaler\n",
        "from sklearn.preprocessing import MinMaxScaler\n",
        "from sklearn.linear_model import LinearRegression\n",
        "from sklearn.model_selection import GridSearchCV\n",
        "from sklearn.tree import plot_tree\n",
        "from sklearn.metrics import f1_score\n",
        "from sklearn.svm import SVR\n",
        "from sklearn.ensemble import StackingClassifier\n",
        "from sklearn.metrics import mean_squared_error\n",
        "from sklearn.ensemble import RandomForestClassifier\n",
        "from sklearn.metrics import mean_squared_error\n",
        "from sklearn.model_selection import train_test_split\n",
        "from pandas import get_dummies\n",
        "\n",
        "from torch import nn\n",
        "from torch.nn import functional\n",
        "from torch.utils.data import DataLoader, TensorDataset\n",
        "\n",
        "from torchtext.data import get_tokenizer\n"
      ]
    },
    {
      "cell_type": "code",
      "source": [
        "!pip3 install datasets\n",
        "import datasets"
      ],
      "metadata": {
        "colab": {
          "base_uri": "https://localhost:8080/"
        },
        "id": "x1suEQG27ygX",
        "outputId": "7af9b43f-7a35-4eac-f9cb-f9a3b04346e0"
      },
      "execution_count": 2,
      "outputs": [
        {
          "output_type": "stream",
          "name": "stdout",
          "text": [
            "Requirement already satisfied: datasets in /usr/local/lib/python3.10/dist-packages (2.19.1)\n",
            "Requirement already satisfied: filelock in /usr/local/lib/python3.10/dist-packages (from datasets) (3.14.0)\n",
            "Requirement already satisfied: numpy>=1.17 in /usr/local/lib/python3.10/dist-packages (from datasets) (1.25.2)\n",
            "Requirement already satisfied: pyarrow>=12.0.0 in /usr/local/lib/python3.10/dist-packages (from datasets) (14.0.2)\n",
            "Requirement already satisfied: pyarrow-hotfix in /usr/local/lib/python3.10/dist-packages (from datasets) (0.6)\n",
            "Requirement already satisfied: dill<0.3.9,>=0.3.0 in /usr/local/lib/python3.10/dist-packages (from datasets) (0.3.8)\n",
            "Requirement already satisfied: pandas in /usr/local/lib/python3.10/dist-packages (from datasets) (2.0.3)\n",
            "Requirement already satisfied: requests>=2.19.0 in /usr/local/lib/python3.10/dist-packages (from datasets) (2.31.0)\n",
            "Requirement already satisfied: tqdm>=4.62.1 in /usr/local/lib/python3.10/dist-packages (from datasets) (4.66.4)\n",
            "Requirement already satisfied: xxhash in /usr/local/lib/python3.10/dist-packages (from datasets) (3.4.1)\n",
            "Requirement already satisfied: multiprocess in /usr/local/lib/python3.10/dist-packages (from datasets) (0.70.16)\n",
            "Requirement already satisfied: fsspec[http]<=2024.3.1,>=2023.1.0 in /usr/local/lib/python3.10/dist-packages (from datasets) (2023.6.0)\n",
            "Requirement already satisfied: aiohttp in /usr/local/lib/python3.10/dist-packages (from datasets) (3.9.5)\n",
            "Requirement already satisfied: huggingface-hub>=0.21.2 in /usr/local/lib/python3.10/dist-packages (from datasets) (0.23.0)\n",
            "Requirement already satisfied: packaging in /usr/local/lib/python3.10/dist-packages (from datasets) (24.0)\n",
            "Requirement already satisfied: pyyaml>=5.1 in /usr/local/lib/python3.10/dist-packages (from datasets) (6.0.1)\n",
            "Requirement already satisfied: aiosignal>=1.1.2 in /usr/local/lib/python3.10/dist-packages (from aiohttp->datasets) (1.3.1)\n",
            "Requirement already satisfied: attrs>=17.3.0 in /usr/local/lib/python3.10/dist-packages (from aiohttp->datasets) (23.2.0)\n",
            "Requirement already satisfied: frozenlist>=1.1.1 in /usr/local/lib/python3.10/dist-packages (from aiohttp->datasets) (1.4.1)\n",
            "Requirement already satisfied: multidict<7.0,>=4.5 in /usr/local/lib/python3.10/dist-packages (from aiohttp->datasets) (6.0.5)\n",
            "Requirement already satisfied: yarl<2.0,>=1.0 in /usr/local/lib/python3.10/dist-packages (from aiohttp->datasets) (1.9.4)\n",
            "Requirement already satisfied: async-timeout<5.0,>=4.0 in /usr/local/lib/python3.10/dist-packages (from aiohttp->datasets) (4.0.3)\n",
            "Requirement already satisfied: typing-extensions>=3.7.4.3 in /usr/local/lib/python3.10/dist-packages (from huggingface-hub>=0.21.2->datasets) (4.11.0)\n",
            "Requirement already satisfied: charset-normalizer<4,>=2 in /usr/local/lib/python3.10/dist-packages (from requests>=2.19.0->datasets) (3.3.2)\n",
            "Requirement already satisfied: idna<4,>=2.5 in /usr/local/lib/python3.10/dist-packages (from requests>=2.19.0->datasets) (3.7)\n",
            "Requirement already satisfied: urllib3<3,>=1.21.1 in /usr/local/lib/python3.10/dist-packages (from requests>=2.19.0->datasets) (2.0.7)\n",
            "Requirement already satisfied: certifi>=2017.4.17 in /usr/local/lib/python3.10/dist-packages (from requests>=2.19.0->datasets) (2024.2.2)\n",
            "Requirement already satisfied: python-dateutil>=2.8.2 in /usr/local/lib/python3.10/dist-packages (from pandas->datasets) (2.8.2)\n",
            "Requirement already satisfied: pytz>=2020.1 in /usr/local/lib/python3.10/dist-packages (from pandas->datasets) (2023.4)\n",
            "Requirement already satisfied: tzdata>=2022.1 in /usr/local/lib/python3.10/dist-packages (from pandas->datasets) (2024.1)\n",
            "Requirement already satisfied: six>=1.5 in /usr/local/lib/python3.10/dist-packages (from python-dateutil>=2.8.2->pandas->datasets) (1.16.0)\n"
          ]
        }
      ]
    },
    {
      "cell_type": "code",
      "source": [
        "\n",
        "\n",
        "# loads the dataset from https://huggingface.co/datasets/ucberkeley-dlab/measuring-hate-speech.\n",
        "# the \"train\" split is the only split in the dataset, so we need to separate this.\n",
        "\n",
        "dataset = datasets.load_dataset('ucberkeley-dlab/measuring-hate-speech')\n",
        "\n",
        "df = dataset['train'].to_pandas()\n",
        "df.describe()\n",
        "\n"
      ],
      "metadata": {
        "id": "aghKWHCsrii5",
        "outputId": "e7a150ea-81e3-4ebc-923c-5f71d3ef7c17",
        "colab": {
          "base_uri": "https://localhost:8080/",
          "height": 521,
          "referenced_widgets": [
            "ad74b3d59dd84f60adb37a273ea50668",
            "2a8f9349bdb24f7c80996069096f62c6",
            "e139914b753143c2a8d488053ca11d13",
            "70ec5bbf28a4449283441ea353c274dd",
            "1927f3fa057b4e6892cacf25e4f8108c",
            "84c01ae48a4d4022ace5bb22c8ec9d1a",
            "24c98147dbd5431ebd59ac2c5a035502",
            "2bbc0a6ab68045b1b23e70f3a558ba18",
            "b3fca520d819418f96766fadd0a21a5e",
            "60d12cd04d644a4e93c10710526ceffd",
            "2ff979fcb3d540f1b6a8ce05f9b0cb93",
            "4bfe0365de97416abcfbaf24491d0dca",
            "2527cdfe5af5436dbf27eb6b1aa2c7ae",
            "ac2dd187603c4a8cada525b5406d309c",
            "065e5f90b8054000a4f26c5f219dcbf8",
            "d19516211cc141c1bffcaf0bbf64672e",
            "d71d643f9ca74d799ce42c8f07b85aed",
            "e6bac3b19f3344849d7ea5284deb4d77",
            "b4978088a6364e05aecc56801b07207a",
            "468356e751ab4d24b72df5ed95a17780",
            "b57fa80e912c4b76a88da2c6fcf6a468",
            "86b6654893d243279eb5ef77b9256566"
          ]
        }
      },
      "execution_count": 3,
      "outputs": [
        {
          "output_type": "stream",
          "name": "stderr",
          "text": [
            "/usr/local/lib/python3.10/dist-packages/huggingface_hub/utils/_token.py:89: UserWarning: \n",
            "The secret `HF_TOKEN` does not exist in your Colab secrets.\n",
            "To authenticate with the Hugging Face Hub, create a token in your settings tab (https://huggingface.co/settings/tokens), set it as secret in your Google Colab and restart your session.\n",
            "You will be able to reuse this secret in all of your notebooks.\n",
            "Please note that authentication is recommended but still optional to access public models or datasets.\n",
            "  warnings.warn(\n"
          ]
        },
        {
          "output_type": "display_data",
          "data": {
            "text/plain": [
              "Downloading data:   0%|          | 0.00/14.1M [00:00<?, ?B/s]"
            ],
            "application/vnd.jupyter.widget-view+json": {
              "version_major": 2,
              "version_minor": 0,
              "model_id": "ad74b3d59dd84f60adb37a273ea50668"
            }
          },
          "metadata": {}
        },
        {
          "output_type": "display_data",
          "data": {
            "text/plain": [
              "Generating train split:   0%|          | 0/135556 [00:00<?, ? examples/s]"
            ],
            "application/vnd.jupyter.widget-view+json": {
              "version_major": 2,
              "version_minor": 0,
              "model_id": "4bfe0365de97416abcfbaf24491d0dca"
            }
          },
          "metadata": {}
        },
        {
          "output_type": "execute_result",
          "data": {
            "text/plain": [
              "          comment_id   annotator_id       platform      sentiment  \\\n",
              "count  135556.000000  135556.000000  135556.000000  135556.000000   \n",
              "mean    23530.416138    5567.097812       1.281352       2.954307   \n",
              "std     12387.194125    3230.508937       1.023542       1.231552   \n",
              "min         1.000000       1.000000       0.000000       0.000000   \n",
              "25%     18148.000000    2719.000000       0.000000       2.000000   \n",
              "50%     20052.000000    5602.500000       1.000000       3.000000   \n",
              "75%     32038.250000    8363.000000       2.000000       4.000000   \n",
              "max     50070.000000   11142.000000       3.000000       4.000000   \n",
              "\n",
              "             respect        insult      humiliate         status  \\\n",
              "count  135556.000000  135556.00000  135556.000000  135556.000000   \n",
              "mean        2.828875       2.56331       2.278638       2.698575   \n",
              "std         1.309548       1.38983       1.370876       0.898500   \n",
              "min         0.000000       0.00000       0.000000       0.000000   \n",
              "25%         2.000000       2.00000       1.000000       2.000000   \n",
              "50%         3.000000       3.00000       3.000000       3.000000   \n",
              "75%         4.000000       4.00000       3.000000       3.000000   \n",
              "max         4.000000       4.00000       4.000000       4.000000   \n",
              "\n",
              "          dehumanize       violence  ...     hatespeech  hate_speech_score  \\\n",
              "count  135556.000000  135556.000000  ...  135556.000000      135556.000000   \n",
              "mean        1.846211       1.052045  ...       0.744733          -0.567428   \n",
              "std         1.402372       1.345706  ...       0.932260           2.380003   \n",
              "min         0.000000       0.000000  ...       0.000000          -8.340000   \n",
              "25%         1.000000       0.000000  ...       0.000000          -2.330000   \n",
              "50%         2.000000       0.000000  ...       0.000000          -0.340000   \n",
              "75%         3.000000       2.000000  ...       2.000000           1.410000   \n",
              "max         4.000000       4.000000  ...       2.000000           6.300000   \n",
              "\n",
              "             infitms       outfitms  annotator_severity        std_err  \\\n",
              "count  135556.000000  135556.000000       135556.000000  135556.000000   \n",
              "mean        1.034322       1.001052           -0.018817       0.300588   \n",
              "std         0.496867       0.791943            0.487261       0.236380   \n",
              "min         0.100000       0.070000           -1.820000       0.020000   \n",
              "25%         0.710000       0.560000           -0.380000       0.030000   \n",
              "50%         0.960000       0.830000           -0.020000       0.340000   \n",
              "75%         1.300000       1.220000            0.350000       0.420000   \n",
              "max         5.900000       9.000000            1.360000       1.900000   \n",
              "\n",
              "       annotator_infitms  annotator_outfitms     hypothesis  annotator_age  \n",
              "count      135556.000000       135556.000000  135556.000000  135451.000000  \n",
              "mean            1.007158            1.011841       0.014589      37.910772  \n",
              "std             0.269876            0.675863       0.613006      11.641276  \n",
              "min             0.390000            0.280000      -1.578693      18.000000  \n",
              "25%             0.810000            0.670000      -0.341008      29.000000  \n",
              "50%             0.970000            0.850000       0.110405      35.000000  \n",
              "75%             1.170000            1.130000       0.449555      45.000000  \n",
              "max             2.010000            9.000000       0.987511      81.000000  \n",
              "\n",
              "[8 rows x 22 columns]"
            ],
            "text/html": [
              "\n",
              "  <div id=\"df-b22de6b6-e3b8-40ce-84f4-1df67ba6c9e1\" class=\"colab-df-container\">\n",
              "    <div>\n",
              "<style scoped>\n",
              "    .dataframe tbody tr th:only-of-type {\n",
              "        vertical-align: middle;\n",
              "    }\n",
              "\n",
              "    .dataframe tbody tr th {\n",
              "        vertical-align: top;\n",
              "    }\n",
              "\n",
              "    .dataframe thead th {\n",
              "        text-align: right;\n",
              "    }\n",
              "</style>\n",
              "<table border=\"1\" class=\"dataframe\">\n",
              "  <thead>\n",
              "    <tr style=\"text-align: right;\">\n",
              "      <th></th>\n",
              "      <th>comment_id</th>\n",
              "      <th>annotator_id</th>\n",
              "      <th>platform</th>\n",
              "      <th>sentiment</th>\n",
              "      <th>respect</th>\n",
              "      <th>insult</th>\n",
              "      <th>humiliate</th>\n",
              "      <th>status</th>\n",
              "      <th>dehumanize</th>\n",
              "      <th>violence</th>\n",
              "      <th>...</th>\n",
              "      <th>hatespeech</th>\n",
              "      <th>hate_speech_score</th>\n",
              "      <th>infitms</th>\n",
              "      <th>outfitms</th>\n",
              "      <th>annotator_severity</th>\n",
              "      <th>std_err</th>\n",
              "      <th>annotator_infitms</th>\n",
              "      <th>annotator_outfitms</th>\n",
              "      <th>hypothesis</th>\n",
              "      <th>annotator_age</th>\n",
              "    </tr>\n",
              "  </thead>\n",
              "  <tbody>\n",
              "    <tr>\n",
              "      <th>count</th>\n",
              "      <td>135556.000000</td>\n",
              "      <td>135556.000000</td>\n",
              "      <td>135556.000000</td>\n",
              "      <td>135556.000000</td>\n",
              "      <td>135556.000000</td>\n",
              "      <td>135556.00000</td>\n",
              "      <td>135556.000000</td>\n",
              "      <td>135556.000000</td>\n",
              "      <td>135556.000000</td>\n",
              "      <td>135556.000000</td>\n",
              "      <td>...</td>\n",
              "      <td>135556.000000</td>\n",
              "      <td>135556.000000</td>\n",
              "      <td>135556.000000</td>\n",
              "      <td>135556.000000</td>\n",
              "      <td>135556.000000</td>\n",
              "      <td>135556.000000</td>\n",
              "      <td>135556.000000</td>\n",
              "      <td>135556.000000</td>\n",
              "      <td>135556.000000</td>\n",
              "      <td>135451.000000</td>\n",
              "    </tr>\n",
              "    <tr>\n",
              "      <th>mean</th>\n",
              "      <td>23530.416138</td>\n",
              "      <td>5567.097812</td>\n",
              "      <td>1.281352</td>\n",
              "      <td>2.954307</td>\n",
              "      <td>2.828875</td>\n",
              "      <td>2.56331</td>\n",
              "      <td>2.278638</td>\n",
              "      <td>2.698575</td>\n",
              "      <td>1.846211</td>\n",
              "      <td>1.052045</td>\n",
              "      <td>...</td>\n",
              "      <td>0.744733</td>\n",
              "      <td>-0.567428</td>\n",
              "      <td>1.034322</td>\n",
              "      <td>1.001052</td>\n",
              "      <td>-0.018817</td>\n",
              "      <td>0.300588</td>\n",
              "      <td>1.007158</td>\n",
              "      <td>1.011841</td>\n",
              "      <td>0.014589</td>\n",
              "      <td>37.910772</td>\n",
              "    </tr>\n",
              "    <tr>\n",
              "      <th>std</th>\n",
              "      <td>12387.194125</td>\n",
              "      <td>3230.508937</td>\n",
              "      <td>1.023542</td>\n",
              "      <td>1.231552</td>\n",
              "      <td>1.309548</td>\n",
              "      <td>1.38983</td>\n",
              "      <td>1.370876</td>\n",
              "      <td>0.898500</td>\n",
              "      <td>1.402372</td>\n",
              "      <td>1.345706</td>\n",
              "      <td>...</td>\n",
              "      <td>0.932260</td>\n",
              "      <td>2.380003</td>\n",
              "      <td>0.496867</td>\n",
              "      <td>0.791943</td>\n",
              "      <td>0.487261</td>\n",
              "      <td>0.236380</td>\n",
              "      <td>0.269876</td>\n",
              "      <td>0.675863</td>\n",
              "      <td>0.613006</td>\n",
              "      <td>11.641276</td>\n",
              "    </tr>\n",
              "    <tr>\n",
              "      <th>min</th>\n",
              "      <td>1.000000</td>\n",
              "      <td>1.000000</td>\n",
              "      <td>0.000000</td>\n",
              "      <td>0.000000</td>\n",
              "      <td>0.000000</td>\n",
              "      <td>0.00000</td>\n",
              "      <td>0.000000</td>\n",
              "      <td>0.000000</td>\n",
              "      <td>0.000000</td>\n",
              "      <td>0.000000</td>\n",
              "      <td>...</td>\n",
              "      <td>0.000000</td>\n",
              "      <td>-8.340000</td>\n",
              "      <td>0.100000</td>\n",
              "      <td>0.070000</td>\n",
              "      <td>-1.820000</td>\n",
              "      <td>0.020000</td>\n",
              "      <td>0.390000</td>\n",
              "      <td>0.280000</td>\n",
              "      <td>-1.578693</td>\n",
              "      <td>18.000000</td>\n",
              "    </tr>\n",
              "    <tr>\n",
              "      <th>25%</th>\n",
              "      <td>18148.000000</td>\n",
              "      <td>2719.000000</td>\n",
              "      <td>0.000000</td>\n",
              "      <td>2.000000</td>\n",
              "      <td>2.000000</td>\n",
              "      <td>2.00000</td>\n",
              "      <td>1.000000</td>\n",
              "      <td>2.000000</td>\n",
              "      <td>1.000000</td>\n",
              "      <td>0.000000</td>\n",
              "      <td>...</td>\n",
              "      <td>0.000000</td>\n",
              "      <td>-2.330000</td>\n",
              "      <td>0.710000</td>\n",
              "      <td>0.560000</td>\n",
              "      <td>-0.380000</td>\n",
              "      <td>0.030000</td>\n",
              "      <td>0.810000</td>\n",
              "      <td>0.670000</td>\n",
              "      <td>-0.341008</td>\n",
              "      <td>29.000000</td>\n",
              "    </tr>\n",
              "    <tr>\n",
              "      <th>50%</th>\n",
              "      <td>20052.000000</td>\n",
              "      <td>5602.500000</td>\n",
              "      <td>1.000000</td>\n",
              "      <td>3.000000</td>\n",
              "      <td>3.000000</td>\n",
              "      <td>3.00000</td>\n",
              "      <td>3.000000</td>\n",
              "      <td>3.000000</td>\n",
              "      <td>2.000000</td>\n",
              "      <td>0.000000</td>\n",
              "      <td>...</td>\n",
              "      <td>0.000000</td>\n",
              "      <td>-0.340000</td>\n",
              "      <td>0.960000</td>\n",
              "      <td>0.830000</td>\n",
              "      <td>-0.020000</td>\n",
              "      <td>0.340000</td>\n",
              "      <td>0.970000</td>\n",
              "      <td>0.850000</td>\n",
              "      <td>0.110405</td>\n",
              "      <td>35.000000</td>\n",
              "    </tr>\n",
              "    <tr>\n",
              "      <th>75%</th>\n",
              "      <td>32038.250000</td>\n",
              "      <td>8363.000000</td>\n",
              "      <td>2.000000</td>\n",
              "      <td>4.000000</td>\n",
              "      <td>4.000000</td>\n",
              "      <td>4.00000</td>\n",
              "      <td>3.000000</td>\n",
              "      <td>3.000000</td>\n",
              "      <td>3.000000</td>\n",
              "      <td>2.000000</td>\n",
              "      <td>...</td>\n",
              "      <td>2.000000</td>\n",
              "      <td>1.410000</td>\n",
              "      <td>1.300000</td>\n",
              "      <td>1.220000</td>\n",
              "      <td>0.350000</td>\n",
              "      <td>0.420000</td>\n",
              "      <td>1.170000</td>\n",
              "      <td>1.130000</td>\n",
              "      <td>0.449555</td>\n",
              "      <td>45.000000</td>\n",
              "    </tr>\n",
              "    <tr>\n",
              "      <th>max</th>\n",
              "      <td>50070.000000</td>\n",
              "      <td>11142.000000</td>\n",
              "      <td>3.000000</td>\n",
              "      <td>4.000000</td>\n",
              "      <td>4.000000</td>\n",
              "      <td>4.00000</td>\n",
              "      <td>4.000000</td>\n",
              "      <td>4.000000</td>\n",
              "      <td>4.000000</td>\n",
              "      <td>4.000000</td>\n",
              "      <td>...</td>\n",
              "      <td>2.000000</td>\n",
              "      <td>6.300000</td>\n",
              "      <td>5.900000</td>\n",
              "      <td>9.000000</td>\n",
              "      <td>1.360000</td>\n",
              "      <td>1.900000</td>\n",
              "      <td>2.010000</td>\n",
              "      <td>9.000000</td>\n",
              "      <td>0.987511</td>\n",
              "      <td>81.000000</td>\n",
              "    </tr>\n",
              "  </tbody>\n",
              "</table>\n",
              "<p>8 rows × 22 columns</p>\n",
              "</div>\n",
              "    <div class=\"colab-df-buttons\">\n",
              "\n",
              "  <div class=\"colab-df-container\">\n",
              "    <button class=\"colab-df-convert\" onclick=\"convertToInteractive('df-b22de6b6-e3b8-40ce-84f4-1df67ba6c9e1')\"\n",
              "            title=\"Convert this dataframe to an interactive table.\"\n",
              "            style=\"display:none;\">\n",
              "\n",
              "  <svg xmlns=\"http://www.w3.org/2000/svg\" height=\"24px\" viewBox=\"0 -960 960 960\">\n",
              "    <path d=\"M120-120v-720h720v720H120Zm60-500h600v-160H180v160Zm220 220h160v-160H400v160Zm0 220h160v-160H400v160ZM180-400h160v-160H180v160Zm440 0h160v-160H620v160ZM180-180h160v-160H180v160Zm440 0h160v-160H620v160Z\"/>\n",
              "  </svg>\n",
              "    </button>\n",
              "\n",
              "  <style>\n",
              "    .colab-df-container {\n",
              "      display:flex;\n",
              "      gap: 12px;\n",
              "    }\n",
              "\n",
              "    .colab-df-convert {\n",
              "      background-color: #E8F0FE;\n",
              "      border: none;\n",
              "      border-radius: 50%;\n",
              "      cursor: pointer;\n",
              "      display: none;\n",
              "      fill: #1967D2;\n",
              "      height: 32px;\n",
              "      padding: 0 0 0 0;\n",
              "      width: 32px;\n",
              "    }\n",
              "\n",
              "    .colab-df-convert:hover {\n",
              "      background-color: #E2EBFA;\n",
              "      box-shadow: 0px 1px 2px rgba(60, 64, 67, 0.3), 0px 1px 3px 1px rgba(60, 64, 67, 0.15);\n",
              "      fill: #174EA6;\n",
              "    }\n",
              "\n",
              "    .colab-df-buttons div {\n",
              "      margin-bottom: 4px;\n",
              "    }\n",
              "\n",
              "    [theme=dark] .colab-df-convert {\n",
              "      background-color: #3B4455;\n",
              "      fill: #D2E3FC;\n",
              "    }\n",
              "\n",
              "    [theme=dark] .colab-df-convert:hover {\n",
              "      background-color: #434B5C;\n",
              "      box-shadow: 0px 1px 3px 1px rgba(0, 0, 0, 0.15);\n",
              "      filter: drop-shadow(0px 1px 2px rgba(0, 0, 0, 0.3));\n",
              "      fill: #FFFFFF;\n",
              "    }\n",
              "  </style>\n",
              "\n",
              "    <script>\n",
              "      const buttonEl =\n",
              "        document.querySelector('#df-b22de6b6-e3b8-40ce-84f4-1df67ba6c9e1 button.colab-df-convert');\n",
              "      buttonEl.style.display =\n",
              "        google.colab.kernel.accessAllowed ? 'block' : 'none';\n",
              "\n",
              "      async function convertToInteractive(key) {\n",
              "        const element = document.querySelector('#df-b22de6b6-e3b8-40ce-84f4-1df67ba6c9e1');\n",
              "        const dataTable =\n",
              "          await google.colab.kernel.invokeFunction('convertToInteractive',\n",
              "                                                    [key], {});\n",
              "        if (!dataTable) return;\n",
              "\n",
              "        const docLinkHtml = 'Like what you see? Visit the ' +\n",
              "          '<a target=\"_blank\" href=https://colab.research.google.com/notebooks/data_table.ipynb>data table notebook</a>'\n",
              "          + ' to learn more about interactive tables.';\n",
              "        element.innerHTML = '';\n",
              "        dataTable['output_type'] = 'display_data';\n",
              "        await google.colab.output.renderOutput(dataTable, element);\n",
              "        const docLink = document.createElement('div');\n",
              "        docLink.innerHTML = docLinkHtml;\n",
              "        element.appendChild(docLink);\n",
              "      }\n",
              "    </script>\n",
              "  </div>\n",
              "\n",
              "\n",
              "<div id=\"df-37810469-496d-4f0b-8e4f-d5df69e6a3ee\">\n",
              "  <button class=\"colab-df-quickchart\" onclick=\"quickchart('df-37810469-496d-4f0b-8e4f-d5df69e6a3ee')\"\n",
              "            title=\"Suggest charts\"\n",
              "            style=\"display:none;\">\n",
              "\n",
              "<svg xmlns=\"http://www.w3.org/2000/svg\" height=\"24px\"viewBox=\"0 0 24 24\"\n",
              "     width=\"24px\">\n",
              "    <g>\n",
              "        <path d=\"M19 3H5c-1.1 0-2 .9-2 2v14c0 1.1.9 2 2 2h14c1.1 0 2-.9 2-2V5c0-1.1-.9-2-2-2zM9 17H7v-7h2v7zm4 0h-2V7h2v10zm4 0h-2v-4h2v4z\"/>\n",
              "    </g>\n",
              "</svg>\n",
              "  </button>\n",
              "\n",
              "<style>\n",
              "  .colab-df-quickchart {\n",
              "      --bg-color: #E8F0FE;\n",
              "      --fill-color: #1967D2;\n",
              "      --hover-bg-color: #E2EBFA;\n",
              "      --hover-fill-color: #174EA6;\n",
              "      --disabled-fill-color: #AAA;\n",
              "      --disabled-bg-color: #DDD;\n",
              "  }\n",
              "\n",
              "  [theme=dark] .colab-df-quickchart {\n",
              "      --bg-color: #3B4455;\n",
              "      --fill-color: #D2E3FC;\n",
              "      --hover-bg-color: #434B5C;\n",
              "      --hover-fill-color: #FFFFFF;\n",
              "      --disabled-bg-color: #3B4455;\n",
              "      --disabled-fill-color: #666;\n",
              "  }\n",
              "\n",
              "  .colab-df-quickchart {\n",
              "    background-color: var(--bg-color);\n",
              "    border: none;\n",
              "    border-radius: 50%;\n",
              "    cursor: pointer;\n",
              "    display: none;\n",
              "    fill: var(--fill-color);\n",
              "    height: 32px;\n",
              "    padding: 0;\n",
              "    width: 32px;\n",
              "  }\n",
              "\n",
              "  .colab-df-quickchart:hover {\n",
              "    background-color: var(--hover-bg-color);\n",
              "    box-shadow: 0 1px 2px rgba(60, 64, 67, 0.3), 0 1px 3px 1px rgba(60, 64, 67, 0.15);\n",
              "    fill: var(--button-hover-fill-color);\n",
              "  }\n",
              "\n",
              "  .colab-df-quickchart-complete:disabled,\n",
              "  .colab-df-quickchart-complete:disabled:hover {\n",
              "    background-color: var(--disabled-bg-color);\n",
              "    fill: var(--disabled-fill-color);\n",
              "    box-shadow: none;\n",
              "  }\n",
              "\n",
              "  .colab-df-spinner {\n",
              "    border: 2px solid var(--fill-color);\n",
              "    border-color: transparent;\n",
              "    border-bottom-color: var(--fill-color);\n",
              "    animation:\n",
              "      spin 1s steps(1) infinite;\n",
              "  }\n",
              "\n",
              "  @keyframes spin {\n",
              "    0% {\n",
              "      border-color: transparent;\n",
              "      border-bottom-color: var(--fill-color);\n",
              "      border-left-color: var(--fill-color);\n",
              "    }\n",
              "    20% {\n",
              "      border-color: transparent;\n",
              "      border-left-color: var(--fill-color);\n",
              "      border-top-color: var(--fill-color);\n",
              "    }\n",
              "    30% {\n",
              "      border-color: transparent;\n",
              "      border-left-color: var(--fill-color);\n",
              "      border-top-color: var(--fill-color);\n",
              "      border-right-color: var(--fill-color);\n",
              "    }\n",
              "    40% {\n",
              "      border-color: transparent;\n",
              "      border-right-color: var(--fill-color);\n",
              "      border-top-color: var(--fill-color);\n",
              "    }\n",
              "    60% {\n",
              "      border-color: transparent;\n",
              "      border-right-color: var(--fill-color);\n",
              "    }\n",
              "    80% {\n",
              "      border-color: transparent;\n",
              "      border-right-color: var(--fill-color);\n",
              "      border-bottom-color: var(--fill-color);\n",
              "    }\n",
              "    90% {\n",
              "      border-color: transparent;\n",
              "      border-bottom-color: var(--fill-color);\n",
              "    }\n",
              "  }\n",
              "</style>\n",
              "\n",
              "  <script>\n",
              "    async function quickchart(key) {\n",
              "      const quickchartButtonEl =\n",
              "        document.querySelector('#' + key + ' button');\n",
              "      quickchartButtonEl.disabled = true;  // To prevent multiple clicks.\n",
              "      quickchartButtonEl.classList.add('colab-df-spinner');\n",
              "      try {\n",
              "        const charts = await google.colab.kernel.invokeFunction(\n",
              "            'suggestCharts', [key], {});\n",
              "      } catch (error) {\n",
              "        console.error('Error during call to suggestCharts:', error);\n",
              "      }\n",
              "      quickchartButtonEl.classList.remove('colab-df-spinner');\n",
              "      quickchartButtonEl.classList.add('colab-df-quickchart-complete');\n",
              "    }\n",
              "    (() => {\n",
              "      let quickchartButtonEl =\n",
              "        document.querySelector('#df-37810469-496d-4f0b-8e4f-d5df69e6a3ee button');\n",
              "      quickchartButtonEl.style.display =\n",
              "        google.colab.kernel.accessAllowed ? 'block' : 'none';\n",
              "    })();\n",
              "  </script>\n",
              "</div>\n",
              "\n",
              "    </div>\n",
              "  </div>\n"
            ],
            "application/vnd.google.colaboratory.intrinsic+json": {
              "type": "dataframe"
            }
          },
          "metadata": {},
          "execution_count": 3
        }
      ]
    },
    {
      "cell_type": "markdown",
      "source": [
        "# Pre-Processing"
      ],
      "metadata": {
        "id": "7JWBtgw11PtF"
      }
    },
    {
      "cell_type": "code",
      "source": [
        "stop_words = set(stopwords.words('english'))\n",
        "\n",
        "\n",
        "def remove_mentions(text):\n",
        "    expression = r\"@([^ ]+)\"\n",
        "    text = re.sub(expression, \"@\", text)\n",
        "    return text\n",
        "\n",
        "def remove_tags(text):\n",
        "    expression = r\"(#[^ ]*)\"\n",
        "    text = re.sub(expression, \"\", text)\n",
        "    return text\n",
        "\n",
        "\n",
        "def remove_non_printable(text):\n",
        "    expression = r'[^\\x20-\\x7E]'\n",
        "    text = re.sub(expression, \"~\", text)\n",
        "\n",
        "    return text\n",
        "\n",
        "def remove_punctuation(text):\n",
        "    expression = r'[.,\\']'\n",
        "    text = re.sub(expression, \"\", text)\n",
        "\n",
        "    return text\n"
      ],
      "metadata": {
        "id": "EmLOYO_BNWHf"
      },
      "execution_count": 4,
      "outputs": []
    },
    {
      "cell_type": "code",
      "source": [
        "#Splitting\n",
        "train, test = train_test_split(df, test_size=.5)\n",
        "\n",
        "# Currently only using hate_speech_score. Might predict more in later iterations.\n",
        "train_y = train['hate_speech_score']\n",
        "train_X = train['text']\n",
        "\n",
        "test_y = test['hate_speech_score']\n",
        "test_X = test['text']\n"
      ],
      "metadata": {
        "id": "qlGSjZBmv92V"
      },
      "execution_count": 45,
      "outputs": []
    },
    {
      "cell_type": "code",
      "source": [
        "plt.hist(df['hate_speech_score'])\n",
        "plt.title(\"Hate Speech Score Frequency\")\n",
        "plt.xlabel(\"Hate Speech Score\")\n",
        "plt.ylabel(\"Frequency\")\n",
        "plt.show()"
      ],
      "metadata": {
        "id": "MO5i5uPjnBjc",
        "colab": {
          "base_uri": "https://localhost:8080/",
          "height": 472
        },
        "outputId": "c41a12b5-c58a-4658-b069-d77d0aadaa13"
      },
      "execution_count": 76,
      "outputs": [
        {
          "output_type": "display_data",
          "data": {
            "text/plain": [
              "<Figure size 640x480 with 1 Axes>"
            ],
            "image/png": "[encoded data removed]"
          },
          "metadata": {}
        }
      ]
    },
    {
      "cell_type": "code",
      "source": [
        "print(np.mean(df['hate_speech_score']))\n",
        "print(np.median(df['hate_speech_score']))\n",
        "print(np.std(df['hate_speech_score']))"
      ],
      "metadata": {
        "id": "Of40V534v2U9",
        "colab": {
          "base_uri": "https://localhost:8080/"
        },
        "outputId": "59b8b139-38cf-475a-8ef8-f24a679e862d"
      },
      "execution_count": 77,
      "outputs": [
        {
          "output_type": "stream",
          "name": "stdout",
          "text": [
            "-0.5674283690873143\n",
            "-0.34\n",
            "2.379994472074863\n"
          ]
        }
      ]
    },
    {
      "cell_type": "code",
      "source": [
        "\n",
        "\n",
        "train_X = train_X.str.lower()\n",
        "train_X = train_X.apply(lambda text: ' '.join([word for word in text.split() if word not in (stop_words)]))\n",
        "\n",
        "train_X = train_X.apply(remove_tags)\n",
        "train_X = train_X.apply(remove_mentions)\n",
        "\n",
        "train_X = train_X.apply(remove_non_printable)\n",
        "train_X = train_X.apply(remove_punctuation)\n",
        "\n",
        "\n",
        "test_X = test_X.str.lower()\n",
        "test_X = test_X.apply(lambda text: ' '.join([word for word in text.split() if word not in (stop_words)]))\n",
        "test_X = test_X.apply(remove_tags)\n",
        "test_X = test_X.apply(remove_mentions)\n",
        "\n",
        "test_X = test_X.apply(remove_non_printable)\n",
        "test_X = test_X.apply(remove_punctuation)\n"
      ],
      "metadata": {
        "id": "J-FyyzpyZ4Sp"
      },
      "execution_count": 46,
      "outputs": []
    },
    {
      "cell_type": "markdown",
      "source": [
        "# Feature Engineering Functions"
      ],
      "metadata": {
        "id": "p4cDUEqIq5Vx"
      }
    },
    {
      "cell_type": "code",
      "source": [
        "\n",
        "## Function to measure percentage of numbers\n",
        "def num_prop(text):\n",
        "  return sum(map(str.isdigit, text))/len(text)\n",
        "\n",
        "#proportion of non-alphanumeric characters.\n",
        "def non_alphnum_prop(text):\n",
        "  text = text.replace(\" \", \"\")\n",
        "  num_chars = len(text)\n",
        "  if num_chars == 0:\n",
        "    return 0\n",
        "\n",
        "  count = sum(1 for char in text if not char.isalnum())\n",
        "  return count / num_chars\n",
        "## Function to count exclamation marks\n",
        "def num_exclamation_points(text):\n",
        "  return text.count('!')\n",
        "\n",
        "\n",
        "def num_tags(text):\n",
        "  return text.count('@')\n",
        "\n",
        "def has_url(text):\n",
        "  return \"url\" in text.lower()\n",
        "\n",
        "def length(text):\n",
        "  return len(text.split())\n",
        "\n",
        "#percentage of capital letters\n",
        "def capital_percent(text):\n",
        "  return len(findall(r'[A-Z]', text))/len(text)\n",
        "\n",
        "\n",
        "from torchtext.data.utils import get_tokenizer\n",
        "from collections import Counter\n",
        "\n",
        "tokenizer = get_tokenizer(\"basic_english\")\n",
        "\n",
        "# generate counter creates a dictionary with each word and\n",
        "# the number of times it appears in the data\n",
        "def generate_counter(tokenizer, data):\n",
        "  counter = Counter()\n",
        "\n",
        "  for text in data:\n",
        "      counter.update(tokenizer(text))\n",
        "  return counter\n"
      ],
      "metadata": {
        "id": "8rIfE17Mri4e"
      },
      "execution_count": 47,
      "outputs": []
    },
    {
      "cell_type": "code",
      "source": [
        "hate = train_X.loc[train_y >=0]\n",
        "support = train_X.loc[train_y < 0]\n",
        "\n",
        "n = train_y.between(-0.5,1, 'both')\n",
        "neutral = train_X.loc[n==1]\n",
        "\n",
        "#create counters\n",
        "hate_counter=generate_counter(tokenizer, hate)\n",
        "support_counter = generate_counter(tokenizer, support)\n",
        "neutral_counter = generate_counter(tokenizer, neutral)\n",
        "\n"
      ],
      "metadata": {
        "id": "2uWXgrEkq31z"
      },
      "execution_count": 48,
      "outputs": []
    },
    {
      "cell_type": "code",
      "source": [
        "hate_counter.most_common(50)"
      ],
      "metadata": {
        "id": "NBL4m6x_xlW-",
        "colab": {
          "base_uri": "https://localhost:8080/"
        },
        "outputId": "7cb20b95-7fdc-4354-f2f0-8f58c943e6a3"
      },
      "execution_count": 49,
      "outputs": [
        {
          "output_type": "execute_result",
          "data": {
            "text/plain": [
              "[('!', 19030),\n",
              " ('fucking', 6291),\n",
              " ('fuck', 5833),\n",
              " ('@', 5316),\n",
              " ('?', 4919),\n",
              " ('hate', 4067),\n",
              " ('people', 3806),\n",
              " ('niggers', 3634),\n",
              " ('bitch', 3581),\n",
              " ('like', 3513),\n",
              " ('go', 3506),\n",
              " ('get', 3468),\n",
              " ('stupid', 2665),\n",
              " ('kill', 2383),\n",
              " ('url', 2364),\n",
              " ('back', 2255),\n",
              " ('nigger', 2217),\n",
              " ('ass', 2118),\n",
              " ('women', 2075),\n",
              " ('country', 2009),\n",
              " ('white', 1945),\n",
              " ('black', 1890),\n",
              " ('die', 1820),\n",
              " ('need', 1749),\n",
              " ('even', 1748),\n",
              " ('know', 1683),\n",
              " ('every', 1626),\n",
              " ('right', 1577),\n",
              " ('shit', 1560),\n",
              " ('human', 1551),\n",
              " ('u', 1551),\n",
              " ('want', 1492),\n",
              " ('muslims', 1472),\n",
              " ('one', 1472),\n",
              " ('us', 1417),\n",
              " ('muslim', 1415),\n",
              " ('here', 1346),\n",
              " ('world', 1341),\n",
              " ('scum', 1328),\n",
              " ('jew', 1322),\n",
              " ('&', 1317),\n",
              " ('disgusting', 1280),\n",
              " ('dick', 1264),\n",
              " ('stop', 1232),\n",
              " ('look', 1212),\n",
              " ('see', 1211),\n",
              " ('hope', 1175),\n",
              " ('keep', 1147),\n",
              " ('~', 1130),\n",
              " ('jews', 1114)]"
            ]
          },
          "metadata": {},
          "execution_count": 49
        }
      ]
    },
    {
      "cell_type": "code",
      "source": [
        "support_counter.most_common(40)"
      ],
      "metadata": {
        "id": "E8-DAOmFdsWP",
        "colab": {
          "base_uri": "https://localhost:8080/"
        },
        "outputId": "47dc9b0d-1e0c-4f40-dcae-389d5447f2ba"
      },
      "execution_count": 50,
      "outputs": [
        {
          "output_type": "execute_result",
          "data": {
            "text/plain": [
              "[('?', 7602),\n",
              " ('@', 7501),\n",
              " ('url', 7423),\n",
              " ('people', 7383),\n",
              " ('!', 7369),\n",
              " ('women', 6077),\n",
              " ('like', 4501),\n",
              " ('im', 4291),\n",
              " ('white', 4212),\n",
              " ('men', 3592),\n",
              " ('get', 3199),\n",
              " ('black', 2837),\n",
              " (')', 2642),\n",
              " ('one', 2606),\n",
              " ('(', 2484),\n",
              " ('would', 2417),\n",
              " ('even', 2173),\n",
              " ('trans', 2140),\n",
              " ('love', 2034),\n",
              " ('us', 1968),\n",
              " ('gay', 1967),\n",
              " ('~', 1880),\n",
              " ('think', 1835),\n",
              " ('human', 1797),\n",
              " ('need', 1782),\n",
              " ('know', 1683),\n",
              " ('rights', 1649),\n",
              " ('make', 1623),\n",
              " ('back', 1621),\n",
              " ('see', 1612),\n",
              " ('every', 1607),\n",
              " ('really', 1598),\n",
              " ('want', 1583),\n",
              " ('muslims', 1578),\n",
              " ('america', 1514),\n",
              " ('world', 1491),\n",
              " ('right', 1489),\n",
              " ('fuck', 1484),\n",
              " ('&', 1456),\n",
              " ('thats', 1444)]"
            ]
          },
          "metadata": {},
          "execution_count": 50
        }
      ]
    },
    {
      "cell_type": "code",
      "source": [
        "\n",
        "#find the words that most frequently show up in hate comments relative to others\n",
        "hate_temp = hate_counter\n",
        "hate_temp.subtract(support_counter)\n",
        "h_unique = set(w for w,_ in hate_temp.most_common(40))\n",
        "h_common = set(w for w,_ in hate_counter.most_common(40))\n",
        "\n",
        "\n",
        "#find the words that most frequently show up in support comments relative to others\n",
        "support_temp = support_counter\n",
        "support_temp.subtract(hate_counter)\n",
        "s_unique = set(w for w,_ in support_temp.most_common(40))\n",
        "s_common = set(w for w,_ in support_counter.most_common(40))\n",
        "\n",
        "\n",
        "\n",
        "n_common = set(w for w,_ in neutral_counter.most_common(40))\n",
        "\n",
        "\n",
        "# how many words from a counter are in the text\n",
        "def word_count(text, counter):\n",
        "    words = text.split()\n",
        "    count = 0\n",
        "\n",
        "    for word in words:\n",
        "        if word in counter:\n",
        "            count += 1\n",
        "    return count\n",
        "\n",
        "def num_tags(string):\n",
        "    return string.count('#')\n",
        "\n",
        "def num_mentions(string):\n",
        "    return string.count('@')\n",
        "\n",
        "def support_unique(string):\n",
        "    return word_count(string, s_unique)\n",
        "\n",
        "def hate_unique(string):\n",
        "    return word_count(string, h_unique)\n",
        "\n",
        "def neutral_common(string):\n",
        "    return word_count(string, n_common)\n",
        "\n",
        "def support_common(string):\n",
        "    return word_count(string, s_common)\n",
        "\n",
        "def hate_common(string):\n",
        "    return word_count(string, h_common)\n",
        "\n"
      ],
      "metadata": {
        "id": "I2bTGUG3xrZn"
      },
      "execution_count": 51,
      "outputs": []
    },
    {
      "cell_type": "code",
      "source": [
        "def generate_feature_df(data):\n",
        "   features = {\n",
        "    'has_url': data.apply(has_url),\n",
        "    'num_mentions': data.apply(num_mentions),\n",
        "    'non_alphnum_prop': data.apply(non_alphnum_prop),\n",
        "    'num_tags': data.apply(num_tags),\n",
        "\n",
        "    'length': data.apply(length),\n",
        "    'support_common': data.apply(support_common),\n",
        "    'hate_common': data.apply(hate_common),\n",
        "    'neutral_common': data.apply(neutral_common),\n",
        "    'support_unique': data.apply(support_unique),\n",
        "    'hate_unique': data.apply(hate_unique)\n",
        "   }\n",
        "\n",
        "   return pd.DataFrame(features)"
      ],
      "metadata": {
        "id": "0vqVcBCTYB29"
      },
      "execution_count": 52,
      "outputs": []
    },
    {
      "cell_type": "code",
      "source": [
        "#Generate feature dataframes for train and test sets\n",
        "final_X = generate_feature_df(train_X)\n",
        "final_test_X = generate_feature_df(test_X)"
      ],
      "metadata": {
        "id": "VObDZHfZF4L5"
      },
      "execution_count": 53,
      "outputs": []
    },
    {
      "cell_type": "markdown",
      "source": [
        "# Regressors"
      ],
      "metadata": {
        "id": "5UrIjO6GV_Iu"
      }
    },
    {
      "cell_type": "code",
      "source": [
        "import sklearn.metrics\n",
        "import math\n",
        "from sklearn.metrics import mean_squared_error"
      ],
      "metadata": {
        "id": "4iBtXCXMX3pv"
      },
      "execution_count": 79,
      "outputs": []
    },
    {
      "cell_type": "code",
      "source": [
        "final_pipe_1 = Pipeline([\n",
        "    (\"model\", DecisionTreeRegressor())\n",
        "])\n",
        "\n",
        "params_1 = {'model__max_depth': [4,6,8,10],\n",
        "          'model__min_samples_split':[2,5,10]\n",
        "         }\n",
        "\n",
        "grid_1 = GridSearchCV(final_pipe_1, param_grid=params_1, cv=5, scoring = 'neg_root_mean_squared_error').fit(final_X, train_y)\n",
        "print(grid_1.best_estimator_)\n",
        "print(grid_1.best_score_)\n",
        "\n",
        "\n",
        "test_preds_1 = grid_1.predict(final_test_X)\n",
        "print(math.sqrt(mean_squared_error(test_preds_1, test_y)))"
      ],
      "metadata": {
        "id": "t_IuE3XlG8ft",
        "colab": {
          "base_uri": "https://localhost:8080/"
        },
        "outputId": "d28fd854-6d13-4c7a-bbce-817e45b31a2d"
      },
      "execution_count": 80,
      "outputs": [
        {
          "output_type": "stream",
          "name": "stdout",
          "text": [
            "Pipeline(steps=[('model',\n",
            "                 DecisionTreeRegressor(max_depth=10, min_samples_split=10))])\n",
            "-1.530221185596797\n",
            "1.519550759529186\n"
          ]
        }
      ]
    },
    {
      "cell_type": "code",
      "source": [
        "final_pipe_2 = Pipeline([\n",
        "  ('scaler', MinMaxScaler()),\n",
        "  ('model', xgb.XGBRegressor(eval_metric='error', use_label_encoder=False))\n",
        "])\n",
        "\n",
        "\n",
        "params_2 = {'model__learning_rate': [0.3,0.5, 0.7],\n",
        "           'model__max_depth': [2, 4,6,8],\n",
        "\n",
        "           }\n",
        "\n",
        "grid_2 = GridSearchCV(final_pipe_2, param_grid=params_2, cv=5, scoring = 'neg_root_mean_squared_error').fit(final_X, train_y)\n",
        "print(grid_2.best_estimator_)\n",
        "print(grid_2.best_score_)\n",
        "\n",
        "\n",
        "test_preds_2 = grid_2.predict(final_test_X)\n",
        "print(math.sqrt(mean_squared_error(test_preds_2, test_y)))\n"
      ],
      "metadata": {
        "id": "LneIJ0zVHBOm",
        "colab": {
          "base_uri": "https://localhost:8080/"
        },
        "outputId": "34580b66-9cb9-4ec6-ef10-c5f30a793a2d"
      },
      "execution_count": 81,
      "outputs": [
        {
          "output_type": "stream",
          "name": "stdout",
          "text": [
            "Pipeline(steps=[('scaler', MinMaxScaler()),\n",
            "                ('model',\n",
            "                 XGBRegressor(base_score=None, booster=None, callbacks=None,\n",
            "                              colsample_bylevel=None, colsample_bynode=None,\n",
            "                              colsample_bytree=None, device=None,\n",
            "                              early_stopping_rounds=None,\n",
            "                              enable_categorical=False, eval_metric='error',\n",
            "                              feature_types=None, gamma=None, grow_policy=None,\n",
            "                              importance_type=None,\n",
            "                              interaction_constraints=None, learning_rate=0.5,\n",
            "                              max_bin=None, max_cat_threshold=None,\n",
            "                              max_cat_to_onehot=None, max_delta_step=None,\n",
            "                              max_depth=8, max_leaves=None,\n",
            "                              min_child_weight=None, missing=nan,\n",
            "                              monotone_constraints=None, multi_strategy=None,\n",
            "                              n_estimators=None, n_jobs=None,\n",
            "                              num_parallel_tree=None, random_state=None, ...))])\n",
            "-1.3990324116884072\n",
            "1.3717628329319882\n"
          ]
        }
      ]
    },
    {
      "cell_type": "code",
      "source": [
        "final_pipe_3 = Pipeline([\n",
        "  ('scaler', StandardScaler()),\n",
        "  ('model', KNeighborsRegressor())\n",
        "])\n",
        "\n",
        "params_3 = {\n",
        "            'model__n_neighbors': [20, 25, 30],\n",
        "\n",
        "           }\n",
        "\n",
        "grid_3 = GridSearchCV(final_pipe_3, param_grid=params_3, cv=5, scoring = 'neg_root_mean_squared_error').fit(final_X, train_y)\n",
        "print(grid_3.best_estimator_)\n",
        "print(grid_3.best_score_)\n",
        "\n",
        "test_preds_3 = grid_3.predict(final_test_X)\n",
        "print(math.sqrt(mean_squared_error(test_preds_3, test_y)))\n"
      ],
      "metadata": {
        "id": "lCSyECPkNzGm",
        "colab": {
          "base_uri": "https://localhost:8080/"
        },
        "outputId": "a717c984-4563-43e6-f7cb-63036e50438c"
      },
      "execution_count": 83,
      "outputs": [
        {
          "output_type": "stream",
          "name": "stdout",
          "text": [
            "Pipeline(steps=[('scaler', StandardScaler()),\n",
            "                ('model', KNeighborsRegressor(n_neighbors=25))])\n",
            "-1.5047460432032764\n",
            "1.4952391070921116\n"
          ]
        }
      ]
    },
    {
      "cell_type": "code",
      "source": [
        "\n",
        "model1 = grid_1.best_estimator_\n",
        "model2 = grid_2.best_estimator_\n",
        "model3 =  grid_3.best_estimator_\n",
        "\n",
        "my_ensemble = VotingRegressor(estimators=[('tree', model1),('xgb', model2),('knn', model3)])\n",
        "\n",
        "\n",
        "vote_pipe = Pipeline([('model', model1)])\n",
        "candidate_models = {'model': [my_ensemble, model1, model2]}\n",
        "\n",
        "grid = GridSearchCV(vote_pipe, param_grid=candidate_models, cv=5, scoring = 'neg_root_mean_squared_error').fit(final_X, train_y)\n",
        "print(grid.best_estimator_)\n",
        "print(grid.best_score_)\n",
        "\n",
        "cv_stacked_preds = grid.predict(final_test_X)\n",
        "print(math.sqrt(mean_squared_error(cv_stacked_preds, test_y)))"
      ],
      "metadata": {
        "id": "yT3qBgnBa3Sm",
        "colab": {
          "base_uri": "https://localhost:8080/"
        },
        "outputId": "f8d10074-b12a-4343-dabc-6eef9775ddc6"
      },
      "execution_count": 90,
      "outputs": [
        {
          "output_type": "stream",
          "name": "stdout",
          "text": [
            "Pipeline(steps=[('model',\n",
            "                 Pipeline(steps=[('scaler', MinMaxScaler()),\n",
            "                                 ('model',\n",
            "                                  XGBRegressor(base_score=None, booster=None,\n",
            "                                               callbacks=None,\n",
            "                                               colsample_bylevel=None,\n",
            "                                               colsample_bynode=None,\n",
            "                                               colsample_bytree=None,\n",
            "                                               device=None,\n",
            "                                               early_stopping_rounds=None,\n",
            "                                               enable_categorical=False,\n",
            "                                               eval_metric='error',\n",
            "                                               feature_types=None, gamma=None,\n",
            "                                               grow_policy=None,\n",
            "                                               importance_type=None,\n",
            "                                               interaction_constraints=None,\n",
            "                                               learning_rate=0.5, max_bin=None,\n",
            "                                               max_cat_threshold=None,\n",
            "                                               max_cat_to_onehot=None,\n",
            "                                               max_delta_step=None, max_depth=8,\n",
            "                                               max_leaves=None,\n",
            "                                               min_child_weight=None,\n",
            "                                               missing=nan,\n",
            "                                               monotone_constraints=None,\n",
            "                                               multi_strategy=None,\n",
            "                                               n_estimators=None, n_jobs=None,\n",
            "                                               num_parallel_tree=None,\n",
            "                                               random_state=None, ...))]))])\n",
            "-1.3990324116884072\n",
            "1.3717628329319882\n"
          ]
        }
      ]
    },
    {
      "cell_type": "code",
      "source": [
        "\n",
        "model1 = grid_1.best_estimator_\n",
        "model2 = grid_2.best_estimator_\n",
        "model3 =  grid_3.best_estimator_\n",
        "#model4=grid_4.best_estimator_\n",
        "my_base_models = [('tree',model1),('xgb', model2),('knn', model3), ('ensemble', my_ensemble)]\n",
        "\n",
        "\n",
        "## Set up the final estimator\n",
        "my_final_model = DecisionTreeRegressor(max_depth=5, min_samples_split=50)\n",
        "\n",
        "\n",
        "## Create the stack\n",
        "from sklearn.ensemble import StackingRegressor\n",
        "my_stack = StackingRegressor(estimators = my_base_models,\n",
        "                              final_estimator = my_final_model,\n",
        "                               cv=5)\n",
        "\n",
        "\n",
        "fitted_stack = my_stack.fit(final_X, train_y)\n",
        "\n",
        "cv_stacked_preds = fitted_stack.predict(final_X)\n",
        "print(math.sqrt(mean_squared_error(cv_stacked_preds, train_y)))\n",
        "cv_stacked_preds = fitted_stack.predict(final_test_X)\n",
        "print(math.sqrt(mean_squared_error(cv_stacked_preds, test_y)))"
      ],
      "metadata": {
        "id": "SkxEvW5FnMNX",
        "colab": {
          "base_uri": "https://localhost:8080/"
        },
        "outputId": "f1fc91fa-92b4-4c87-edda-2ee766724e9e"
      },
      "execution_count": 89,
      "outputs": [
        {
          "output_type": "stream",
          "name": "stdout",
          "text": [
            "1.195803344929924\n",
            "1.3806137337668978\n"
          ]
        }
      ]
    },
    {
      "cell_type": "code",
      "source": [
        "print(my_stack)"
      ],
      "metadata": {
        "colab": {
          "base_uri": "https://localhost:8080/"
        },
        "id": "lA_eHMSGr7ss",
        "outputId": "5b3d3bdd-2eef-4540-eb2f-7aeb78a6b1e2"
      },
      "execution_count": 97,
      "outputs": [
        {
          "output_type": "stream",
          "name": "stdout",
          "text": [
            "StackingRegressor(cv=5,\n",
            "                  estimators=[('tree',\n",
            "                               Pipeline(steps=[('model',\n",
            "                                                DecisionTreeRegressor(max_depth=10,\n",
            "                                                                      min_samples_split=10))])),\n",
            "                              ('xgb',\n",
            "                               Pipeline(steps=[('scaler', MinMaxScaler()),\n",
            "                                               ('model',\n",
            "                                                XGBRegressor(base_score=None,\n",
            "                                                             booster=None,\n",
            "                                                             callbacks=None,\n",
            "                                                             colsample_bylevel=None,\n",
            "                                                             colsample_bynode=None,\n",
            "                                                             colsample_bytree=None,\n",
            "                                                             device=None,\n",
            "                                                             early_stopping_rounds=None,...\n",
            "                                                                                          max_leaves=None,\n",
            "                                                                                          min_child_weight=None,\n",
            "                                                                                          missing=nan,\n",
            "                                                                                          monotone_constraints=None,\n",
            "                                                                                          multi_strategy=None,\n",
            "                                                                                          n_estimators=None,\n",
            "                                                                                          n_jobs=None,\n",
            "                                                                                          num_parallel_tree=None,\n",
            "                                                                                          random_state=None, ...))])),\n",
            "                                                           ('knn',\n",
            "                                                            Pipeline(steps=[('scaler',\n",
            "                                                                             StandardScaler()),\n",
            "                                                                            ('model',\n",
            "                                                                             KNeighborsRegressor(n_neighbors=25))]))]))],\n",
            "                  final_estimator=DecisionTreeRegressor(max_depth=4,\n",
            "                                                        min_samples_split=50))\n"
          ]
        }
      ]
    },
    {
      "cell_type": "code",
      "source": [
        "from sklearn.tree import plot_tree\n",
        "plt.figure(figsize=(40,20))\n",
        "plot_tree(fitted_stack.final_estimator_, class_names=True)\n",
        "plt.show()"
      ],
      "metadata": {
        "id": "TV0s0aKuu3qj",
        "colab": {
          "base_uri": "https://localhost:8080/",
          "height": 439
        },
        "outputId": "b0e7042c-cf28-401a-8bd1-c0e3a96583ca"
      },
      "execution_count": 87,
      "outputs": [
        {
          "output_type": "display_data",
          "data": {
            "text/plain": [
              "<Figure size 4000x2000 with 1 Axes>"
            ],
            "image/png": "[encoded data removed]"
          },
          "metadata": {}
        }
      ]
    },
    {
      "cell_type": "code",
      "source": [
        "\n",
        "example = pd.Series([\"I ate lunch today\"])\n",
        "\n",
        "example = example.str.lower()\n",
        "example = example.apply(lambda text: ' '.join([word for word in text.split() if word not in (stop_words)]))\n",
        "\n",
        "example = example.apply(remove_tags)\n",
        "example = example.apply(remove_non_printable)\n",
        "example = example.apply(remove_punctuation)\n",
        "\n",
        "print(example)\n",
        "\n",
        "\n",
        "final_example = generate_feature_df(example)\n",
        "\n",
        "print(fitted_stack.predict(final_example))"
      ],
      "metadata": {
        "id": "q8FCySjOhasy",
        "colab": {
          "base_uri": "https://localhost:8080/"
        },
        "outputId": "51d77b73-b47d-4dcf-fa32-ba0936e22434"
      },
      "execution_count": 96,
      "outputs": [
        {
          "output_type": "stream",
          "name": "stdout",
          "text": [
            "0    ate lunch today\n",
            "dtype: object\n",
            "[-0.71732906]\n"
          ]
        }
      ]
    },
    {
      "cell_type": "markdown",
      "source": [
        "# Unused Networks"
      ],
      "metadata": {
        "id": "lkVAQzPudspO"
      }
    },
    {
      "cell_type": "code",
      "source": [
        "'''\n",
        "final_pipe_4 = Pipeline([\n",
        "    ('scaler', StandardScaler()),\n",
        "('model', LinearRegression())\n",
        "])\n",
        "\n",
        "params_4 = {'model__fit_intercept': [True, False]}\n",
        "\n",
        "## Perform the grid search\n",
        "grid_4 = GridSearchCV(final_pipe_4, param_grid=params_4, cv=5, scoring = 'neg_root_mean_squared_error').fit(final_X, train_y)\n",
        "print(grid_4.best_estimator_)\n",
        "print(grid_4.best_score_)\n",
        "\n",
        "\n",
        "test_preds_4 = grid_4.predict(final_test_X)\n",
        "print(math.sqrt(mean_squared_error(test_preds_4, test_y)))\n",
        "'''"
      ],
      "metadata": {
        "id": "7pukIrnkhnIg",
        "colab": {
          "base_uri": "https://localhost:8080/",
          "height": 107
        },
        "outputId": "9982e447-2bef-43ce-c80e-a35af34114b7"
      },
      "execution_count": 84,
      "outputs": [
        {
          "output_type": "execute_result",
          "data": {
            "text/plain": [
              "\"\\nfinal_pipe_4 = Pipeline([\\n    ('scaler', StandardScaler()),\\n('model', LinearRegression())\\n])\\n\\nparams_4 = {'model__fit_intercept': [True, False]}\\n\\n## Perform the grid search\\ngrid_4 = GridSearchCV(final_pipe_4, param_grid=params_4, cv=5, scoring = 'neg_root_mean_squared_error').fit(final_X, train_y)\\nprint(grid_4.best_estimator_)\\nprint(grid_4.best_score_)\\n\\n\\ntest_preds_4 = grid_4.predict(final_test_X)\\nprint(math.sqrt(mean_squared_error(test_preds_4, test_y)))\\n\""
            ],
            "application/vnd.google.colaboratory.intrinsic+json": {
              "type": "string"
            }
          },
          "metadata": {},
          "execution_count": 84
        }
      ]
    },
    {
      "cell_type": "code",
      "source": [
        "cv_stacked_preds = grid_forest.predict(final_test_X)\n",
        "print(math.sqrt(mean_squared_error(cv_stacked_preds, test_y)))\n"
      ],
      "metadata": {
        "id": "uzAOLjCtPMpJ",
        "colab": {
          "base_uri": "https://localhost:8080/",
          "height": 162
        },
        "outputId": "68a9e321-a4df-46e1-ffd6-43780056379f"
      },
      "execution_count": null,
      "outputs": [
        {
          "output_type": "error",
          "ename": "NameError",
          "evalue": "name 'grid_forest' is not defined",
          "traceback": [
            "\u001b[0;31m---------------------------------------------------------------------------\u001b[0m",
            "\u001b[0;31mNameError\u001b[0m                                 Traceback (most recent call last)",
            "\u001b[0;32m<ipython-input-16-5ff2e79cf713>\u001b[0m in \u001b[0;36m<cell line: 1>\u001b[0;34m()\u001b[0m\n\u001b[0;32m----> 1\u001b[0;31m \u001b[0mcv_stacked_preds\u001b[0m \u001b[0;34m=\u001b[0m \u001b[0mgrid_forest\u001b[0m\u001b[0;34m.\u001b[0m\u001b[0mpredict\u001b[0m\u001b[0;34m(\u001b[0m\u001b[0mfinal_test_X\u001b[0m\u001b[0;34m)\u001b[0m\u001b[0;34m\u001b[0m\u001b[0;34m\u001b[0m\u001b[0m\n\u001b[0m\u001b[1;32m      2\u001b[0m \u001b[0mprint\u001b[0m\u001b[0;34m(\u001b[0m\u001b[0mmath\u001b[0m\u001b[0;34m.\u001b[0m\u001b[0msqrt\u001b[0m\u001b[0;34m(\u001b[0m\u001b[0mmean_squared_error\u001b[0m\u001b[0;34m(\u001b[0m\u001b[0mcv_stacked_preds\u001b[0m\u001b[0;34m,\u001b[0m \u001b[0mtest_y\u001b[0m\u001b[0;34m)\u001b[0m\u001b[0;34m)\u001b[0m\u001b[0;34m)\u001b[0m\u001b[0;34m\u001b[0m\u001b[0;34m\u001b[0m\u001b[0m\n",
            "\u001b[0;31mNameError\u001b[0m: name 'grid_forest' is not defined"
          ]
        }
      ]
    },
    {
      "cell_type": "code",
      "source": [
        "from sklearn.ensemble import RandomForestRegressor\n",
        "pipe = Pipeline([\n",
        "                  ('model', RandomForestRegressor(max_depth=3, min_samples_split=10,\n",
        "                                   max_features=2, n_estimators=100,\n",
        "                                   random_state=0, oob_score=True))])\n",
        "\n",
        "params = {'model__max_depth': [5],\n",
        "          'model__min_samples_split': [20,60],\n",
        "          'model__max_features': [2,4,6,8],\n",
        "          'model__n_estimators': [25,50,100]\n",
        "\n",
        "         }\n",
        "\n",
        "\n",
        "## Perform the grid search\n",
        "grid_forest = GridSearchCV(pipe, param_grid=params, cv=5, scoring = 'neg_root_mean_squared_error').fit(final_X, train_y)\n",
        "print(grid_forest.best_estimator_)\n",
        "print(grid_forest.best_score_)\n"
      ],
      "metadata": {
        "id": "jNmQvXifo9q9"
      },
      "execution_count": null,
      "outputs": []
    },
    {
      "cell_type": "markdown",
      "source": [
        "# Network(Nonfunctional)\n",
        "\n",
        "Contains code adapted from\n",
        "https://remiller1450.github.io/ml24/torch_lab4.html."
      ],
      "metadata": {
        "id": "xX6Gjob4YirW"
      }
    },
    {
      "cell_type": "code",
      "source": [
        "#Splitting\n",
        "nn_train, nn_test = train_test_split(df, test_size=.1, train_size=0.1)\n",
        "\n",
        "nn_train_y = nn_train['hate_speech_score']\n",
        "nn_train_X = nn_train['text']\n",
        "\n",
        "nn_test_y = nn_test['hate_speech_score']\n",
        "nn_test_X = nn_test['text']"
      ],
      "metadata": {
        "id": "mdigAZLtyyC_"
      },
      "execution_count": null,
      "outputs": []
    },
    {
      "cell_type": "code",
      "source": [
        "\n",
        "\n",
        "nn_train_X = nn_train_X.str.lower()\n",
        "nn_train_X = nn_train_X.apply(lambda text: ' '.join([word for word in text.split() if word not in (stop_words)]))\n",
        "\n",
        "nn_train_X = nn_train_X.apply(remove_tags)\n",
        "nn_train_X = nn_train_X.apply(remove_mentions)\n",
        "\n",
        "nn_train_X = nn_train_X.apply(remove_non_printable)\n",
        "#nn_train_X = nn_train_X.apply(remove_punctuation)\n",
        "\n",
        "nn_test_X = nn_test_X.str.lower()\n",
        "nn_test_X = nn_test_X.apply(lambda text: ' '.join([word for word in text.split() if word not in (stop_words)]))\n",
        "nn_test_X = nn_test_X.apply(remove_tags)\n",
        "nn_test_X = nn_test_X.apply(remove_mentions)\n",
        "nn_test_X = nn_test_X.apply(remove_non_printable)"
      ],
      "metadata": {
        "id": "1mGh0tzSy09d"
      },
      "execution_count": null,
      "outputs": []
    },
    {
      "cell_type": "code",
      "source": [
        "import string\n",
        "all_letters = string.ascii_letters + \" @.,;'!&*~\"\n",
        "n_letters = len(all_letters)\n",
        "\n",
        "\n",
        "def textToTensor(line):\n",
        "    tensor = torch.zeros(600, 1, n_letters)\n",
        "    for li, letter in enumerate(line):\n",
        "        #print(li, letter)\n",
        "        tensor[li][0][all_letters.find(letter)] = 1\n",
        "    return tensor"
      ],
      "metadata": {
        "id": "SiZrfQdi_8QV"
      },
      "execution_count": null,
      "outputs": []
    },
    {
      "cell_type": "code",
      "source": [
        "\n",
        "\n",
        "\n",
        "train_X_tensor = torch.stack([textToTensor(text) for text in nn_train_X])\n",
        "train_y_tensor = torch.tensor(nn_train_y.values, dtype=torch.float)\n",
        "test_X_tensor = torch.stack([textToTensor(text) for text in nn_test_X])\n",
        "test_y_tensor = torch.tensor(nn_test_y.values, dtype=torch.float)"
      ],
      "metadata": {
        "id": "FGTlYYKSM7Nl"
      },
      "execution_count": null,
      "outputs": []
    },
    {
      "cell_type": "code",
      "source": [
        "train_X_tensor.shape"
      ],
      "metadata": {
        "colab": {
          "base_uri": "https://localhost:8080/"
        },
        "id": "242m94dG1fGM",
        "outputId": "8931c2f4-7291-4ac2-c8b8-da4b61514f2d"
      },
      "execution_count": null,
      "outputs": [
        {
          "output_type": "execute_result",
          "data": {
            "text/plain": [
              "torch.Size([13555, 492, 1, 62])"
            ]
          },
          "metadata": {},
          "execution_count": 57
        }
      ]
    },
    {
      "cell_type": "code",
      "source": [
        "class my_rnn(nn.Module):\n",
        "\n",
        "    ## Constructor commands\n",
        "    def __init__(self, input_size, hidden_size, output_size):\n",
        "        super(my_rnn, self).__init__()\n",
        "\n",
        "        self.hidden_size = hidden_size\n",
        "        self.i2h = nn.Linear(input_size + hidden_size, hidden_size)\n",
        "        self.i2o = nn.Linear(hidden_size, output_size)\n",
        "        self.softmax = nn.LogSoftmax(dim=1)\n",
        "\n",
        "    ## Function to generate predictions\n",
        "    def forward(self, input, hidden):\n",
        "\n",
        "        combined = torch.cat((input, hidden), 1)\n",
        "        hidden = self.i2h(combined)\n",
        "        output = self.i2o(hidden)\n",
        "        output = self.softmax(output)\n",
        "        return output, hidden\n",
        "\n",
        "    def initHidden(self):\n",
        "        return torch.zeros(1, self.hidden_size)"
      ],
      "metadata": {
        "id": "oAlrgDUtE9n8"
      },
      "execution_count": null,
      "outputs": []
    },
    {
      "cell_type": "code",
      "source": [
        "h_size = 300\n",
        "rnn = my_rnn(n_letters, h_size, 1)\n"
      ],
      "metadata": {
        "id": "SKG7-92jaZ07"
      },
      "execution_count": null,
      "outputs": []
    },
    {
      "cell_type": "code",
      "source": [
        "import random\n",
        "def randomTrainingExample():\n",
        "    id = random.randint(0, len(train_X_tensor)-1)\n",
        "    text = train_X_tensor[id]\n",
        "    score = train_y_tensor[id]\n",
        "    return text, score\n",
        "\n"
      ],
      "metadata": {
        "id": "PE6iT42VIthN"
      },
      "execution_count": null,
      "outputs": []
    },
    {
      "cell_type": "code",
      "source": [
        "## Set learning rate\n",
        "learning_rate = 0.1\n",
        "\n",
        "## Define cost func\n",
        "cost_fn = nn.MSELoss()\n",
        "\n",
        "## Training function for a single input\n",
        "def train(comment, hate_score):\n",
        "\n",
        "    ## initialize the hidden state\n",
        "    hidden = rnn.initHidden()\n",
        "\n",
        "    ## set the gradient to zero\n",
        "    rnn.zero_grad()\n",
        "\n",
        "    for i in range(comment.size()[0]):\n",
        "        output, hidden = rnn(comment[i], hidden)\n",
        "\n",
        "\n",
        "    cost = cost_fn(output, hate_score)\n",
        "\n",
        "    cost.backward()\n",
        "\n",
        "    # Update parameters\n",
        "    for p in rnn.parameters():\n",
        "        p.data.add_(p.grad.data, alpha = -learning_rate)\n",
        "\n",
        "    ## Return the output and cost\n",
        "    return output, cost.item()"
      ],
      "metadata": {
        "id": "5QYXpTwYBUxh"
      },
      "execution_count": null,
      "outputs": []
    },
    {
      "cell_type": "code",
      "source": [
        "## Initializations\n",
        "import random\n",
        "\n",
        "epochs = 250\n",
        "cost_every_n = 10\n",
        "current_cost = 0\n",
        "track_cost = []\n",
        "\n",
        "n = len(train_y)\n",
        "idx = random.sample(range(n), n)\n",
        "\n",
        "\n",
        "### Iteratively update model from randomly chosen example\n",
        "for iter in range(1, epochs + 1):\n",
        "    text,score = randomTrainingExample()\n",
        "    output, cost = train(text, score.float().unsqueeze(0))\n",
        "    current_cost += cost\n",
        "\n",
        "    if iter % cost_every_n == 0:\n",
        "        track_cost.append(current_cost/cost_every_n)\n",
        "        current_cost = 0"
      ],
      "metadata": {
        "id": "_AItO_QKBW3l",
        "colab": {
          "base_uri": "https://localhost:8080/"
        },
        "outputId": "e3c1e728-0e7d-4a5c-862b-cd999a13ccef"
      },
      "execution_count": null,
      "outputs": [
        {
          "output_type": "stream",
          "name": "stderr",
          "text": [
            "/usr/local/lib/python3.10/dist-packages/torch/nn/modules/loss.py:535: UserWarning: Using a target size (torch.Size([1])) that is different to the input size (torch.Size([1, 1])). This will likely lead to incorrect results due to broadcasting. Please ensure they have the same size.\n",
            "  return F.mse_loss(input, target, reduction=self.reduction)\n"
          ]
        }
      ]
    },
    {
      "cell_type": "code",
      "source": [
        "import matplotlib.pyplot as plt\n",
        "plt.plot(track_cost)\n",
        "plt.show()"
      ],
      "metadata": {
        "id": "jH5KDEXeG4vi",
        "colab": {
          "base_uri": "https://localhost:8080/",
          "height": 430
        },
        "outputId": "64e2f14f-102d-42fc-ea21-60c15e7bc879"
      },
      "execution_count": null,
      "outputs": [
        {
          "output_type": "display_data",
          "data": {
            "text/plain": [
              "<Figure size 640x480 with 1 Axes>"
            ],
            "image/png": "[encoded data removed]"
          },
          "metadata": {}
        }
      ]
    },
    {
      "cell_type": "code",
      "source": [
        "def predict(input_line):\n",
        "    print('\\n> %s' % input_line)\n",
        "\n",
        "    ## Don't update gradient with any of these examples\n",
        "    with torch.no_grad():\n",
        "\n",
        "        ## Initialize new hidden state\n",
        "        hidden = rnn.initHidden()\n",
        "\n",
        "        ## Convert input str to tensor\n",
        "        input_t = textToTensor(input_line)\n",
        "\n",
        "        ## Pass each character into `rnn`\n",
        "        output, hidden = rnn(input_t[i], hidden)\n",
        "\n",
        "        return output\n",
        "\n",
        "\n",
        "predict('I hope you are well trans love')\n",
        "\n",
        "\n"
      ],
      "metadata": {
        "id": "ksLWmukcdqOw",
        "colab": {
          "base_uri": "https://localhost:8080/"
        },
        "outputId": "53c607cf-78ec-4432-b829-69a15304a4a8"
      },
      "execution_count": null,
      "outputs": [
        {
          "output_type": "stream",
          "name": "stdout",
          "text": [
            "\n",
            "> I hope you are well trans love\n"
          ]
        },
        {
          "output_type": "execute_result",
          "data": {
            "text/plain": [
              "tensor([[0.]])"
            ]
          },
          "metadata": {},
          "execution_count": 108
        }
      ]
    },
    {
      "cell_type": "code",
      "source": [],
      "metadata": {
        "id": "t2dLw8Wz1N0j"
      },
      "execution_count": null,
      "outputs": []
    }
  ]
}